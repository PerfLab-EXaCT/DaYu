{
 "cells": [
  {
   "cell_type": "code",
   "execution_count": 8,
   "metadata": {},
   "outputs": [],
   "source": [
    "import plotly.graph_objects as go\n",
    "import pandas as pd\n",
    "import networkx as nx\n",
    "import math\n",
    "from scipy.stats import rankdata\n",
    "\n",
    "\n",
    "# Sankey related codes\n",
    "EDGE_COLOR_RGBA = {\n",
    "    'none' : {'r':180, 'g':180, 'b':180}, #grey for open/close/meta\n",
    "    'read_only' : {'r':150, 'g':190, 'b':220},\n",
    "    'write_only' : {'r':150, 'g':190, 'b':220},\n",
    "    'read_write' : {'r':150, 'g':190, 'b':220}, # TODO: currently showing same as write\n",
    "    # 'read_write' : {'r':220, 'g':220, 'b':220},\n",
    "    # 'write' : {'r':140, 'g':210, 'b':220},\n",
    "}\n",
    "\n",
    "# color names : https://www.w3schools.com/colors/colors_names.asp\n",
    "COLOR_MAP = {\"task\": \"Tomato\", # read\n",
    "            \"dataset\": \"Wheat\", # yellow\n",
    "            \"file\": \"SteelBlue\", # blue\n",
    "            \"none\": \"grey\",\n",
    "            }"
   ]
  },
  {
   "cell_type": "code",
   "execution_count": 77,
   "metadata": {},
   "outputs": [],
   "source": [
    "\n",
    "\n",
    "OPACITY = 0.8\n",
    "\n",
    "# data and load related methods\n",
    "def humansize(nbytes):\n",
    "    if nbytes != 0:\n",
    "        suffixes = ['B', 'KB', 'MB', 'GB', 'TB', 'PB']\n",
    "        i = 0\n",
    "        while nbytes >= 1000 and i < len(suffixes)-1:\n",
    "            nbytes /= 1000.\n",
    "            i += 1\n",
    "        f = ('%.2f' % nbytes).rstrip('0').rstrip('.')\n",
    "\n",
    "        return '%s %s' % (f, suffixes[i])\n",
    "    else:\n",
    "        return 0\n",
    "    \n",
    "def humanbw(nbytes):\n",
    "    if nbytes != 0:\n",
    "        suffixes = ['B/s', 'KB/s', 'MB/s', 'GB/s', 'TB/s', 'PB/s']\n",
    "        i = 0\n",
    "        while nbytes >= 1000 and i < len(suffixes)-1:\n",
    "            nbytes /= 1000.\n",
    "            i += 1\n",
    "        f = ('%.2f' % nbytes).rstrip('0').rstrip('.')\n",
    "        return '%s %s' % (f, suffixes[i])\n",
    "    else:\n",
    "        return 0\n",
    "\n",
    "def get_xy_position(G):\n",
    "    pos_dict = nx.get_node_attributes(G,'pos')\n",
    "\n",
    "    x_dict = {}\n",
    "    y_dict = {}\n",
    "    for n, pos in pos_dict.items():\n",
    "        x_dict[n] = pos[0]\n",
    "        y_dict[n] = pos[1]\n",
    "    \n",
    "    # shift x position to start from 0\n",
    "    x_base= min(x_dict.values())\n",
    "    x_dict = {k: v-x_base for k, v in x_dict.items()}\n",
    "\n",
    "    # normalize x positions\n",
    "    # xf=1.0/(max(x_dict.values()))\n",
    "    # x_normalized = {k: v*xf for k, v in x_dict.items() }\n",
    "    x_max = max(x_dict.values())\n",
    "    x_min = min(x_dict.values())\n",
    "    x_normalized = {k: 0 + 1 * (v - x_min) / (x_max - x_min) for k, v in x_dict.items()}\n",
    "\n",
    "    # normalize y positions\n",
    "    y_max = max(y_dict.values())\n",
    "    y_min = min(y_dict.values())\n",
    "    # Noamalize y positions between 0 and 0.9\n",
    "    y_normalized = {k: 0.1 + 1 * (v - y_min) / (y_max - y_min) for k, v in y_dict.items()}\n",
    "    \n",
    "    # yf=1.0/(max(y_dict.values()))\n",
    "    # y_normalized = {k: v*yf for k, v in y_dict.items() }\n",
    "    \n",
    "    return x_normalized, y_normalized\n",
    "\n",
    "def get_nodes_for_sankey(G, rm_tags=[],label_on=True, thickness=50):\n",
    "    node_dict_ref = {}\n",
    "    node_dict_for_sankey = {'label': [], 'color':[], 'x':[], 'y':[], 'thickness': thickness, 'line': {'width': 0} }\n",
    "    x_pos, y_pos = get_xy_position(G)\n",
    "    \n",
    "    for idx, (node_name, attr) in enumerate(G.nodes(data=True)):\n",
    "        # node_type = 'file' if node_name[-4:] == 'residue_100.h5' else 'task'\n",
    "        # print(f\"{idx}, ({node_name}, {attr})\")\n",
    "        \n",
    "        node_type = attr['type']\n",
    "        if node_name in node_dict_ref:\n",
    "            print(node_name, \"==duplicate==\")\n",
    "        node_dict_ref[node_name] = {'idx':idx, 'type':node_type}\n",
    "\n",
    "        #sankey\n",
    "        if label_on :  \n",
    "            # node_label = node_name + f\" {G.nodes[node_name]['pos']} ({x_pos[node_name]:.2f}, {y_pos[node_name]:.2f})\"\n",
    "            node_label = node_name\n",
    "            node_dict_for_sankey['label'].append(node_label)\n",
    "        node_dict_for_sankey['color'].append(COLOR_MAP[node_type])\n",
    "        node_dict_for_sankey['x'].append(x_pos[node_name])\n",
    "        node_dict_for_sankey['y'].append(y_pos[node_name])\n",
    "    return node_dict_for_sankey, node_dict_ref\n",
    "\n",
    "\n",
    "def edge_color_scale(attr_bw, attr_op, bw, op):\n",
    "    range = 100\n",
    "\n",
    "    base_color_dict = {}\n",
    "    if op in EDGE_COLOR_RGBA.keys():\n",
    "        base_color_dict = EDGE_COLOR_RGBA[op]\n",
    "        r = base_color_dict['r']\n",
    "        g = base_color_dict['g']\n",
    "        b = base_color_dict['b']\n",
    "    else:\n",
    "        base_color_dict = EDGE_COLOR_RGBA['none']\n",
    "        r = base_color_dict['r']\n",
    "        g = base_color_dict['g']\n",
    "        b = base_color_dict['b']\n",
    "        color_str = f\"rgba({r}, {g}, {b}, {OPACITY})\"\n",
    "        return color_str\n",
    "\n",
    "    edges = []\n",
    "    for k,v in attr_op.items():\n",
    "        if v == op:\n",
    "            edges.append(k)\n",
    "    # bw_list = list(set(attr_bw.values()))\n",
    "    bw_list = [attr_bw[x] for x in edges]\n",
    "    bw_list.sort()\n",
    "    # print(bw_list)\n",
    "        \n",
    "    color_ranks = rankdata(bw_list,method='dense')\n",
    "    color_ranks = [float(i)/max(color_ranks) for i in color_ranks] # normalize\n",
    "\n",
    "    my_rank = color_ranks[bw_list.index(bw)]\n",
    "\n",
    "    color_change = my_rank *range #(my_rank-1)\n",
    "    op_change = (my_rank/max(color_ranks)) * 0.5 + 0.2\n",
    "    color_str = f\"rgba({r-color_change/1.5}, {g-color_change/1.5}, {b-color_change/1.5}, {op_change})\"\n",
    "\n",
    "    # print(f\"{color_str} rank={my_rank} sqrt={math.sqrt(my_rank)} change={color_change}\")\n",
    "    return color_str\n",
    "\n",
    "def get_links_for_sankey(G, node_dict_ref, \n",
    "                         edge_attr=['access_cnt','access_size','operation','bandwidth'], \n",
    "                         rm_tags=[],val_sqrt=True):\n",
    "    \n",
    "    link_dict_for_sankey = {'source':[], 'target':[], 'value':[], 'label': [], 'color': [] }\n",
    "    #'hoverinfo': \"all\"\n",
    "    #'line_width':[], # shows strokeWidth of the edges\n",
    "    \n",
    "    attr_cnt = nx.get_edge_attributes(G,edge_attr[0])\n",
    "    attr_size = nx.get_edge_attributes(G,edge_attr[1])\n",
    "    attr_op = nx.get_edge_attributes(G,edge_attr[2])\n",
    "    attr_bw = nx.get_edge_attributes(G,edge_attr[3])\n",
    "    \n",
    "    # min_size = min(attr_size.values())\n",
    "    \n",
    "    # print(attr_dict)\n",
    "    for u, v, attr in G.edges(data=True):\n",
    "        # print(u, v, attr)\n",
    "        u_idx = node_dict_ref[u]['idx']\n",
    "        v_idx = node_dict_ref[v]['idx']\n",
    "        link_dict_for_sankey['source'].append(u_idx)\n",
    "        link_dict_for_sankey['target'].append(v_idx)\n",
    "\n",
    "        size = attr_size[(u,v)]\n",
    "        \n",
    "        op = attr_op[(u,v)]\n",
    "\n",
    "        # get edge color based on bandwidth\n",
    "        link_dict_for_sankey['value'].append(size)\n",
    "        # _str = f\"ave_acc_size: {humansize(size/cnt)} op: {op}\"\n",
    "        bw = attr_bw[(u,v)]\n",
    "\n",
    "        link_dict_for_sankey['color'].append(edge_color_scale(attr_bw, attr_op, bw, op)) # get the last operation\n",
    "            \n",
    "    print(f\"bandwidth range: {humanbw(min(attr_bw.values()))} ~ {humanbw(max(attr_bw.values()))}\")\n",
    "        \n",
    "    return link_dict_for_sankey\n",
    "\n",
    "def selected_graph(node_name, G):\n",
    "    # this is not used\n",
    "    selected_G = nx.DiGraph()\n",
    "    search_nodes = [node_name]\n",
    "    while len(search_nodes) > 0:\n",
    "        next_set = []\n",
    "        for n in search_nodes:\n",
    "            for edge in G.edges(n):\n",
    "                val = G.edges[edge]['value']\n",
    "                selected_G.add_edges_from([edge], value=val)\n",
    "                #print(selected_G.nodes)\n",
    "            next_set += [x for x in G.neighbors(n)]\n",
    "        search_nodes = next_set\n",
    "    return selected_G"
   ]
  },
  {
   "cell_type": "code",
   "execution_count": 114,
   "metadata": {},
   "outputs": [
    {
     "name": "stdout",
     "output_type": "stream",
     "text": [
      "bandwidth range: 2 B/s ~ 3 B/s\n"
     ]
    },
    {
     "data": {
      "application/vnd.plotly.v1+json": {
       "config": {
        "plotlyServerURL": "https://plot.ly"
       },
       "data": [
        {
         "link": {
          "color": [
           "rgba(113.33333333333333, 113.33333333333333, 113.33333333333333, 0.7)",
           "rgba(146.66666666666666, 146.66666666666666, 146.66666666666666, 0.45)",
           "rgba(113.33333333333333, 113.33333333333333, 113.33333333333333, 0.7)",
           "rgba(146.66666666666666, 146.66666666666666, 146.66666666666666, 0.45)"
          ],
          "label": [],
          "source": [
           0,
           0,
           1,
           2
          ],
          "target": [
           1,
           2,
           3,
           3
          ],
          "value": [
           3,
           1,
           3,
           1
          ]
         },
         "node": {
          "color": [
           "SteelBlue",
           "Wheat",
           "Wheat",
           "Tomato"
          ],
          "label": [],
          "line": {
           "width": 0
          },
          "thickness": 50,
          "x": [
           0,
           0.5,
           0.7,
           1
          ],
          "y": [
           1.1,
           0.1,
           0.8133333333333334,
           0.21266666666666667
          ]
         },
         "orientation": "h",
         "type": "sankey"
        }
       ],
       "layout": {
        "autosize": true,
        "boxmode": "group",
        "font": {
         "size": 24
        },
        "height": 500,
        "margin": {
         "b": 100,
         "l": 100,
         "pad": 10,
         "r": 140,
         "t": 200
        },
        "paper_bgcolor": "rgba(0,0,0,0)",
        "template": {
         "data": {
          "bar": [
           {
            "error_x": {
             "color": "#2a3f5f"
            },
            "error_y": {
             "color": "#2a3f5f"
            },
            "marker": {
             "line": {
              "color": "#E5ECF6",
              "width": 0.5
             },
             "pattern": {
              "fillmode": "overlay",
              "size": 10,
              "solidity": 0.2
             }
            },
            "type": "bar"
           }
          ],
          "barpolar": [
           {
            "marker": {
             "line": {
              "color": "#E5ECF6",
              "width": 0.5
             },
             "pattern": {
              "fillmode": "overlay",
              "size": 10,
              "solidity": 0.2
             }
            },
            "type": "barpolar"
           }
          ],
          "carpet": [
           {
            "aaxis": {
             "endlinecolor": "#2a3f5f",
             "gridcolor": "white",
             "linecolor": "white",
             "minorgridcolor": "white",
             "startlinecolor": "#2a3f5f"
            },
            "baxis": {
             "endlinecolor": "#2a3f5f",
             "gridcolor": "white",
             "linecolor": "white",
             "minorgridcolor": "white",
             "startlinecolor": "#2a3f5f"
            },
            "type": "carpet"
           }
          ],
          "choropleth": [
           {
            "colorbar": {
             "outlinewidth": 0,
             "ticks": ""
            },
            "type": "choropleth"
           }
          ],
          "contour": [
           {
            "colorbar": {
             "outlinewidth": 0,
             "ticks": ""
            },
            "colorscale": [
             [
              0,
              "#0d0887"
             ],
             [
              0.1111111111111111,
              "#46039f"
             ],
             [
              0.2222222222222222,
              "#7201a8"
             ],
             [
              0.3333333333333333,
              "#9c179e"
             ],
             [
              0.4444444444444444,
              "#bd3786"
             ],
             [
              0.5555555555555556,
              "#d8576b"
             ],
             [
              0.6666666666666666,
              "#ed7953"
             ],
             [
              0.7777777777777778,
              "#fb9f3a"
             ],
             [
              0.8888888888888888,
              "#fdca26"
             ],
             [
              1,
              "#f0f921"
             ]
            ],
            "type": "contour"
           }
          ],
          "contourcarpet": [
           {
            "colorbar": {
             "outlinewidth": 0,
             "ticks": ""
            },
            "type": "contourcarpet"
           }
          ],
          "heatmap": [
           {
            "colorbar": {
             "outlinewidth": 0,
             "ticks": ""
            },
            "colorscale": [
             [
              0,
              "#0d0887"
             ],
             [
              0.1111111111111111,
              "#46039f"
             ],
             [
              0.2222222222222222,
              "#7201a8"
             ],
             [
              0.3333333333333333,
              "#9c179e"
             ],
             [
              0.4444444444444444,
              "#bd3786"
             ],
             [
              0.5555555555555556,
              "#d8576b"
             ],
             [
              0.6666666666666666,
              "#ed7953"
             ],
             [
              0.7777777777777778,
              "#fb9f3a"
             ],
             [
              0.8888888888888888,
              "#fdca26"
             ],
             [
              1,
              "#f0f921"
             ]
            ],
            "type": "heatmap"
           }
          ],
          "heatmapgl": [
           {
            "colorbar": {
             "outlinewidth": 0,
             "ticks": ""
            },
            "colorscale": [
             [
              0,
              "#0d0887"
             ],
             [
              0.1111111111111111,
              "#46039f"
             ],
             [
              0.2222222222222222,
              "#7201a8"
             ],
             [
              0.3333333333333333,
              "#9c179e"
             ],
             [
              0.4444444444444444,
              "#bd3786"
             ],
             [
              0.5555555555555556,
              "#d8576b"
             ],
             [
              0.6666666666666666,
              "#ed7953"
             ],
             [
              0.7777777777777778,
              "#fb9f3a"
             ],
             [
              0.8888888888888888,
              "#fdca26"
             ],
             [
              1,
              "#f0f921"
             ]
            ],
            "type": "heatmapgl"
           }
          ],
          "histogram": [
           {
            "marker": {
             "pattern": {
              "fillmode": "overlay",
              "size": 10,
              "solidity": 0.2
             }
            },
            "type": "histogram"
           }
          ],
          "histogram2d": [
           {
            "colorbar": {
             "outlinewidth": 0,
             "ticks": ""
            },
            "colorscale": [
             [
              0,
              "#0d0887"
             ],
             [
              0.1111111111111111,
              "#46039f"
             ],
             [
              0.2222222222222222,
              "#7201a8"
             ],
             [
              0.3333333333333333,
              "#9c179e"
             ],
             [
              0.4444444444444444,
              "#bd3786"
             ],
             [
              0.5555555555555556,
              "#d8576b"
             ],
             [
              0.6666666666666666,
              "#ed7953"
             ],
             [
              0.7777777777777778,
              "#fb9f3a"
             ],
             [
              0.8888888888888888,
              "#fdca26"
             ],
             [
              1,
              "#f0f921"
             ]
            ],
            "type": "histogram2d"
           }
          ],
          "histogram2dcontour": [
           {
            "colorbar": {
             "outlinewidth": 0,
             "ticks": ""
            },
            "colorscale": [
             [
              0,
              "#0d0887"
             ],
             [
              0.1111111111111111,
              "#46039f"
             ],
             [
              0.2222222222222222,
              "#7201a8"
             ],
             [
              0.3333333333333333,
              "#9c179e"
             ],
             [
              0.4444444444444444,
              "#bd3786"
             ],
             [
              0.5555555555555556,
              "#d8576b"
             ],
             [
              0.6666666666666666,
              "#ed7953"
             ],
             [
              0.7777777777777778,
              "#fb9f3a"
             ],
             [
              0.8888888888888888,
              "#fdca26"
             ],
             [
              1,
              "#f0f921"
             ]
            ],
            "type": "histogram2dcontour"
           }
          ],
          "mesh3d": [
           {
            "colorbar": {
             "outlinewidth": 0,
             "ticks": ""
            },
            "type": "mesh3d"
           }
          ],
          "parcoords": [
           {
            "line": {
             "colorbar": {
              "outlinewidth": 0,
              "ticks": ""
             }
            },
            "type": "parcoords"
           }
          ],
          "pie": [
           {
            "automargin": true,
            "type": "pie"
           }
          ],
          "scatter": [
           {
            "fillpattern": {
             "fillmode": "overlay",
             "size": 10,
             "solidity": 0.2
            },
            "type": "scatter"
           }
          ],
          "scatter3d": [
           {
            "line": {
             "colorbar": {
              "outlinewidth": 0,
              "ticks": ""
             }
            },
            "marker": {
             "colorbar": {
              "outlinewidth": 0,
              "ticks": ""
             }
            },
            "type": "scatter3d"
           }
          ],
          "scattercarpet": [
           {
            "marker": {
             "colorbar": {
              "outlinewidth": 0,
              "ticks": ""
             }
            },
            "type": "scattercarpet"
           }
          ],
          "scattergeo": [
           {
            "marker": {
             "colorbar": {
              "outlinewidth": 0,
              "ticks": ""
             }
            },
            "type": "scattergeo"
           }
          ],
          "scattergl": [
           {
            "marker": {
             "colorbar": {
              "outlinewidth": 0,
              "ticks": ""
             }
            },
            "type": "scattergl"
           }
          ],
          "scattermapbox": [
           {
            "marker": {
             "colorbar": {
              "outlinewidth": 0,
              "ticks": ""
             }
            },
            "type": "scattermapbox"
           }
          ],
          "scatterpolar": [
           {
            "marker": {
             "colorbar": {
              "outlinewidth": 0,
              "ticks": ""
             }
            },
            "type": "scatterpolar"
           }
          ],
          "scatterpolargl": [
           {
            "marker": {
             "colorbar": {
              "outlinewidth": 0,
              "ticks": ""
             }
            },
            "type": "scatterpolargl"
           }
          ],
          "scatterternary": [
           {
            "marker": {
             "colorbar": {
              "outlinewidth": 0,
              "ticks": ""
             }
            },
            "type": "scatterternary"
           }
          ],
          "surface": [
           {
            "colorbar": {
             "outlinewidth": 0,
             "ticks": ""
            },
            "colorscale": [
             [
              0,
              "#0d0887"
             ],
             [
              0.1111111111111111,
              "#46039f"
             ],
             [
              0.2222222222222222,
              "#7201a8"
             ],
             [
              0.3333333333333333,
              "#9c179e"
             ],
             [
              0.4444444444444444,
              "#bd3786"
             ],
             [
              0.5555555555555556,
              "#d8576b"
             ],
             [
              0.6666666666666666,
              "#ed7953"
             ],
             [
              0.7777777777777778,
              "#fb9f3a"
             ],
             [
              0.8888888888888888,
              "#fdca26"
             ],
             [
              1,
              "#f0f921"
             ]
            ],
            "type": "surface"
           }
          ],
          "table": [
           {
            "cells": {
             "fill": {
              "color": "#EBF0F8"
             },
             "line": {
              "color": "white"
             }
            },
            "header": {
             "fill": {
              "color": "#C8D4E3"
             },
             "line": {
              "color": "white"
             }
            },
            "type": "table"
           }
          ]
         },
         "layout": {
          "annotationdefaults": {
           "arrowcolor": "#2a3f5f",
           "arrowhead": 0,
           "arrowwidth": 1
          },
          "autotypenumbers": "strict",
          "coloraxis": {
           "colorbar": {
            "outlinewidth": 0,
            "ticks": ""
           }
          },
          "colorscale": {
           "diverging": [
            [
             0,
             "#8e0152"
            ],
            [
             0.1,
             "#c51b7d"
            ],
            [
             0.2,
             "#de77ae"
            ],
            [
             0.3,
             "#f1b6da"
            ],
            [
             0.4,
             "#fde0ef"
            ],
            [
             0.5,
             "#f7f7f7"
            ],
            [
             0.6,
             "#e6f5d0"
            ],
            [
             0.7,
             "#b8e186"
            ],
            [
             0.8,
             "#7fbc41"
            ],
            [
             0.9,
             "#4d9221"
            ],
            [
             1,
             "#276419"
            ]
           ],
           "sequential": [
            [
             0,
             "#0d0887"
            ],
            [
             0.1111111111111111,
             "#46039f"
            ],
            [
             0.2222222222222222,
             "#7201a8"
            ],
            [
             0.3333333333333333,
             "#9c179e"
            ],
            [
             0.4444444444444444,
             "#bd3786"
            ],
            [
             0.5555555555555556,
             "#d8576b"
            ],
            [
             0.6666666666666666,
             "#ed7953"
            ],
            [
             0.7777777777777778,
             "#fb9f3a"
            ],
            [
             0.8888888888888888,
             "#fdca26"
            ],
            [
             1,
             "#f0f921"
            ]
           ],
           "sequentialminus": [
            [
             0,
             "#0d0887"
            ],
            [
             0.1111111111111111,
             "#46039f"
            ],
            [
             0.2222222222222222,
             "#7201a8"
            ],
            [
             0.3333333333333333,
             "#9c179e"
            ],
            [
             0.4444444444444444,
             "#bd3786"
            ],
            [
             0.5555555555555556,
             "#d8576b"
            ],
            [
             0.6666666666666666,
             "#ed7953"
            ],
            [
             0.7777777777777778,
             "#fb9f3a"
            ],
            [
             0.8888888888888888,
             "#fdca26"
            ],
            [
             1,
             "#f0f921"
            ]
           ]
          },
          "colorway": [
           "#636efa",
           "#EF553B",
           "#00cc96",
           "#ab63fa",
           "#FFA15A",
           "#19d3f3",
           "#FF6692",
           "#B6E880",
           "#FF97FF",
           "#FECB52"
          ],
          "font": {
           "color": "#2a3f5f"
          },
          "geo": {
           "bgcolor": "white",
           "lakecolor": "white",
           "landcolor": "#E5ECF6",
           "showlakes": true,
           "showland": true,
           "subunitcolor": "white"
          },
          "hoverlabel": {
           "align": "left"
          },
          "hovermode": "closest",
          "mapbox": {
           "style": "light"
          },
          "paper_bgcolor": "white",
          "plot_bgcolor": "#E5ECF6",
          "polar": {
           "angularaxis": {
            "gridcolor": "white",
            "linecolor": "white",
            "ticks": ""
           },
           "bgcolor": "#E5ECF6",
           "radialaxis": {
            "gridcolor": "white",
            "linecolor": "white",
            "ticks": ""
           }
          },
          "scene": {
           "xaxis": {
            "backgroundcolor": "#E5ECF6",
            "gridcolor": "white",
            "gridwidth": 2,
            "linecolor": "white",
            "showbackground": true,
            "ticks": "",
            "zerolinecolor": "white"
           },
           "yaxis": {
            "backgroundcolor": "#E5ECF6",
            "gridcolor": "white",
            "gridwidth": 2,
            "linecolor": "white",
            "showbackground": true,
            "ticks": "",
            "zerolinecolor": "white"
           },
           "zaxis": {
            "backgroundcolor": "#E5ECF6",
            "gridcolor": "white",
            "gridwidth": 2,
            "linecolor": "white",
            "showbackground": true,
            "ticks": "",
            "zerolinecolor": "white"
           }
          },
          "shapedefaults": {
           "line": {
            "color": "#2a3f5f"
           }
          },
          "ternary": {
           "aaxis": {
            "gridcolor": "white",
            "linecolor": "white",
            "ticks": ""
           },
           "baxis": {
            "gridcolor": "white",
            "linecolor": "white",
            "ticks": ""
           },
           "bgcolor": "#E5ECF6",
           "caxis": {
            "gridcolor": "white",
            "linecolor": "white",
            "ticks": ""
           }
          },
          "title": {
           "x": 0.05
          },
          "xaxis": {
           "automargin": true,
           "gridcolor": "white",
           "linecolor": "white",
           "ticks": "",
           "title": {
            "standoff": 15
           },
           "zerolinecolor": "white",
           "zerolinewidth": 2
          },
          "yaxis": {
           "automargin": true,
           "gridcolor": "white",
           "linecolor": "white",
           "ticks": "",
           "title": {
            "standoff": 15
           },
           "zerolinecolor": "white",
           "zerolinewidth": 2
          }
         }
        },
        "width": 500
       }
      }
     },
     "metadata": {},
     "output_type": "display_data"
    }
   ],
   "source": [
    "G_logo = nx.DiGraph()\n",
    "\n",
    "# Add 2 nodes to G_logo\n",
    "G_logo.add_node(\"file1\")\n",
    "G_logo.add_node(\"dset1\")\n",
    "G_logo.add_node(\"dset2\")\n",
    "G_logo.add_node(\"task\")\n",
    "\n",
    "G_logo.add_edge(\"file1\", \"dset1\", value=3)\n",
    "G_logo.add_edge(\"file1\", \"dset2\", value=1)\n",
    "G_logo.add_edge(\"dset1\", \"task\", value=3)\n",
    "G_logo.add_edge(\"dset2\", \"task\", value=1)\n",
    "\n",
    "edge_attr = {\n",
    "    (\"file1\", \"dset1\"): {'access_cnt': 3, 'access_size': 3, 'operation': 'none', 'bandwidth': 3},\n",
    "    (\"file1\", \"dset2\"): {'access_cnt': 1, 'access_size': 1, 'operation': 'none', 'bandwidth': 2},\n",
    "    (\"dset1\", \"task\"): {'access_cnt': 3, 'access_size': 3, 'operation': 'none', 'bandwidth': 3},\n",
    "    (\"dset2\", \"task\"): {'access_cnt': 1, 'access_size': 1, 'operation': 'none', 'bandwidth': 2},\n",
    "}\n",
    "\n",
    "nx.set_edge_attributes(G_logo, edge_attr)\n",
    "\n",
    "nodes_attrs = {\n",
    "    \"file1\": {\"type\": \"file\", \"pos\": (0,3)},\n",
    "    \"dset1\": {\"type\": \"dataset\", \"pos\": (0.5,0)},\n",
    "    \"dset2\": {\"type\": \"dataset\", \"pos\": (0.7,2.14)},\n",
    "    \"task\": {\"type\": \"task\", \"pos\": (1,0.338)},\n",
    "}\n",
    "\n",
    "nx.set_node_attributes(G_logo, nodes_attrs)\n",
    "\n",
    "nodes, nodes_dict = get_nodes_for_sankey(G_logo, label_on=False)\n",
    "\n",
    "# print(vfd_nodes)\n",
    "\n",
    "vfd_links = get_links_for_sankey(G_logo, nodes_dict, val_sqrt=False)\n",
    "fig = go.Figure(go.Sankey(\n",
    "            node = nodes,\n",
    "            link = vfd_links, orientation='h'))\n",
    "\n",
    "fig.update_layout(\n",
    "    autosize=True, width=500, height=500,\n",
    "    margin=dict(\n",
    "        l=100, r=140, b=100, t=200, pad=10 ),\n",
    "    boxmode=\"group\",\n",
    "    font=dict(size=24),\n",
    "    paper_bgcolor='rgba(0,0,0,0)', \n",
    "    # plot_bgcolor='rgba(0,0,0,0)',\n",
    ")\n",
    "\n",
    "    \n",
    "fig.show()\n",
    "\n",
    "# save_html_path = f\"{stat_path}/vfd-{(SELECT_STAGE_END+1)}s-{test_name}-sankey-labeled.html\"\n",
    "# fig.write_html(save_html_path)\n",
    "# print(f\"Sankey saved to {save_html_path}\")"
   ]
  },
  {
   "cell_type": "code",
   "execution_count": null,
   "metadata": {},
   "outputs": [],
   "source": []
  }
 ],
 "metadata": {
  "kernelspec": {
   "display_name": "Python 3",
   "language": "python",
   "name": "python3"
  },
  "language_info": {
   "codemirror_mode": {
    "name": "ipython",
    "version": 3
   },
   "file_extension": ".py",
   "mimetype": "text/x-python",
   "name": "python",
   "nbconvert_exporter": "python",
   "pygments_lexer": "ipython3",
   "version": "3.10.12"
  }
 },
 "nbformat": 4,
 "nbformat_minor": 2
}
