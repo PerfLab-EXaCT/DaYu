{
 "cells": [
  {
   "cell_type": "code",
   "execution_count": null,
   "metadata": {},
   "outputs": [],
   "source": [
    "import plotly.graph_objects as go\n",
    "import networkx as nx\n",
    "\n",
    "# reading input log file\n",
    "\n",
    "test_name = \"seq10f9s\"\n",
    "\n",
    "stat_path=f\"example_stat/{test_name}\"\n",
    "image_path=f\"{stat_path}/images\""
   ]
  },
  {
   "cell_type": "code",
   "execution_count": null,
   "metadata": {},
   "outputs": [],
   "source": [
    "# My utility functions\n",
    "import utils.stat_loader as sload\n",
    "import utils.stat_print as sp\n",
    "import utils.vfd_stat2graph as vfd2g\n",
    "import utils.vfd_graph2sankey as vfd2sk"
   ]
  },
  {
   "cell_type": "markdown",
   "metadata": {},
   "source": [
    "# Improve Functions\n",
    "## TODO\n",
    "- MAYBE: Add adjustment of label to full label, file-task label, and no lables\n",
    "\n",
    "## DONE\n",
    "- DONE: Add task start option for graphs\n",
    "    - Be careful about adding the required files??!!\n",
    "- DONE: Add task cutoff option for graphs \n",
    "- DONE: (Maybe) add time for x-axis\n",
    "- DONE: store the statistics to edges!!!"
   ]
  },
  {
   "cell_type": "code",
   "execution_count": null,
   "metadata": {},
   "outputs": [],
   "source": [
    "STAGE_START = 0\n",
    "STAGE_END = 10\n",
    "\n",
    "\n",
    "TASK_ORDER_LIST = sload.load_task_order_list(stat_path)\n",
    "STAGE_END = sload.correct_end_stage(TASK_ORDER_LIST, STAGE_END)\n",
    "\n",
    "TASK_ORDER_LIST = sload.current_task_order_list(TASK_ORDER_LIST, STAGE_START, STAGE_END)\n",
    "\n",
    "TASK_LISTS = list(TASK_ORDER_LIST.keys())\n",
    "\n",
    "print(f\"TASK_ORDER_LIST = {TASK_ORDER_LIST}\")\n",
    "TASK_LISTS\n"
   ]
  },
  {
   "cell_type": "code",
   "execution_count": null,
   "metadata": {},
   "outputs": [],
   "source": [
    "vfd_files = sload.find_files_with_pattern(stat_path, \"vfd\")\n",
    "# vfd_files = vfd_files[0:1]\n",
    "print(vfd_files)\n",
    "\n",
    "vfd_dict = sload.load_stat_yaml(vfd_files)\n",
    "# print(vfd_dict)\n",
    "\n",
    "print(\"loading yaml done\")"
   ]
  },
  {
   "cell_type": "code",
   "execution_count": null,
   "metadata": {},
   "outputs": [],
   "source": [
    "# Show VFD Tracker overhead\n",
    "sp.show_all_overhead(\"VFD\", vfd_dict)"
   ]
  },
  {
   "cell_type": "code",
   "execution_count": null,
   "metadata": {},
   "outputs": [],
   "source": [
    "G_VFD = nx.DiGraph()\n",
    "G_VFD = vfd2g.add_task_file_nodes(G_VFD, vfd_dict, TASK_LISTS)"
   ]
  },
  {
   "cell_type": "code",
   "execution_count": null,
   "metadata": {},
   "outputs": [],
   "source": [
    "task_file_map = sload.load_task_file_map(stat_path, test_name, TASK_LISTS)\n",
    "\n",
    "for task, stat in task_file_map.items():\n",
    "    print(f\"{task} : {stat}\")"
   ]
  },
  {
   "cell_type": "code",
   "execution_count": null,
   "metadata": {},
   "outputs": [],
   "source": [
    "G_VFD = vfd2g.set_task_position(G_VFD, task_file_map)"
   ]
  },
  {
   "cell_type": "code",
   "execution_count": null,
   "metadata": {},
   "outputs": [],
   "source": [
    "# sp.display_all_nodes_attr(G_VFD)\n",
    "G_VFD = vfd2g.set_file_position(G_VFD, task_file_map)\n",
    "# sp.display_all_nodes_attr(G_VFD)\n",
    "\n",
    "sp.draw_graph(G_VFD, test_name, graph_type=\"vfd\", prefix=f'{(STAGE_END+1)}s', save=True)"
   ]
  },
  {
   "cell_type": "markdown",
   "metadata": {},
   "source": [
    "# Add networkx to Sankey diagram\n",
    "\n",
    "## Statistics for Sankey\n",
    "Below are needed edge attributes before generating the sankey diagram:\n",
    "- access_cnt : The total file/dataset access count \n",
    "- access_size : The total read and write access size\n",
    "- operation : The operation type : read, write, read_write\n",
    "- bandwidth : Get the per access size and time, then calculate the bandwidth. Average the bandwidth if multiple accesses. (TODO: currently only recording one access size and time)\n",
    "\n",
    "\n"
   ]
  },
  {
   "cell_type": "code",
   "execution_count": null,
   "metadata": {},
   "outputs": [],
   "source": [
    "vfd2g.prepare_sankey_stat(G_VFD)"
   ]
  },
  {
   "cell_type": "code",
   "execution_count": null,
   "metadata": {},
   "outputs": [],
   "source": [
    "vfd2sk.time_to_file_x_pos(G_VFD)"
   ]
  },
  {
   "cell_type": "code",
   "execution_count": null,
   "metadata": {},
   "outputs": [],
   "source": [
    "vfd_nodes, vfd_nodes_dict = vfd2sk.get_nodes_for_sankey(G_VFD, label_on=True)\n",
    "\n",
    "# print(vfd_nodes)\n",
    "\n",
    "vfd_links = vfd2sk.get_links_for_sankey(G_VFD, vfd_nodes_dict, val_sqrt=False)\n",
    "fig = go.Figure(go.Sankey(\n",
    "            node = vfd_nodes,\n",
    "            link = vfd_links, orientation='h'))\n",
    "\n",
    "fig.update_layout(\n",
    "    autosize=False,\n",
    "    width=4200,\n",
    "    height=800,\n",
    "    margin=dict(\n",
    "        l=50,\n",
    "        r=50,\n",
    "        b=50,\n",
    "        t=100,\n",
    "        pad=2\n",
    "    ),\n",
    "    font=dict(size=18),\n",
    ")\n",
    "\n",
    "\n",
    "fig.show()\n",
    "save_html_path = f\"{stat_path}/vfd-{(STAGE_END+1)}s-{test_name}-sankey-labeled-s4.html\"\n",
    "fig.write_html(save_html_path)\n",
    "print(f\"Sankey saved to {save_html_path}\")"
   ]
  },
  {
   "cell_type": "code",
   "execution_count": null,
   "metadata": {},
   "outputs": [],
   "source": [
    "stat_str = sp.show_vfd_stats(G_VFD)\n",
    "print(stat_str)\n",
    "\n"
   ]
  },
  {
   "cell_type": "code",
   "execution_count": null,
   "metadata": {},
   "outputs": [],
   "source": []
  },
  {
   "cell_type": "code",
   "execution_count": null,
   "metadata": {},
   "outputs": [],
   "source": [
    "# Create a manual legend using annotations.\n",
    "\n",
    "def add_legend_to_graph(fig,save_img=False):\n",
    "    LEGEND_ITEMS = {\n",
    "        \"Tasks\":{\"color\":\"red\", \"text\":\"Tasks\"},\n",
    "        \"Files\":{\"color\":\"blue\", \"text\":\"Files\"},\n",
    "        \"Edges\":{\"color\":\"lightblue\", \"text\":\"File bandwidth, darker the color, higher the bandwidth\"},\n",
    "    }\n",
    "\n",
    "    legend_items = [\n",
    "        go.layout.Annotation(\n",
    "            x=0.9,  # X-coordinate for legend item\n",
    "            y=0.85 - i * 0.03,  # Y-coordinate for legend item (adjust for position)\n",
    "            xref='paper',\n",
    "            yref='paper',\n",
    "            text=f\"{item_type} - {LEGEND_ITEMS[item_type]['color']}\",\n",
    "            showarrow=False,\n",
    "            font=dict(size=14, color=LEGEND_ITEMS[item_type]['color']),\n",
    "            # bordercolor='grey',  # Set the border color for the legend box\n",
    "            # borderwidth=1,  # Set the border width for the legend box\n",
    "            bgcolor='rgba(255, 255, 255, 0.7)',  # Add a transparent background color\n",
    "        )\n",
    "        for i, item_type in enumerate(LEGEND_ITEMS.keys())\n",
    "    ]\n",
    "    fig.update_layout(annotations=legend_items)\n",
    "    fig.show()\n",
    "    if save_img:\n",
    "        fig.write_html(f\"{stat_path}/vfd-{(STAGE_END+1)}s-{test_name}-sankey-annotated.html\")\n"
   ]
  }
 ],
 "metadata": {
  "kernelspec": {
   "display_name": "base",
   "language": "python",
   "name": "python3"
  },
  "language_info": {
   "codemirror_mode": {
    "name": "ipython",
    "version": 3
   },
   "file_extension": ".py",
   "mimetype": "text/x-python",
   "name": "python",
   "nbconvert_exporter": "python",
   "pygments_lexer": "ipython3",
   "version": "3.10.12"
  },
  "orig_nbformat": 4
 },
 "nbformat": 4,
 "nbformat_minor": 2
}
