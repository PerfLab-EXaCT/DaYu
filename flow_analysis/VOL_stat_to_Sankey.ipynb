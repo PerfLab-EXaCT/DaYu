{
 "cells": [
  {
   "cell_type": "code",
   "execution_count": 42,
   "metadata": {},
   "outputs": [],
   "source": [
    "import plotly.graph_objects as go\n",
    "import pandas as pd\n",
    "\n",
    "import matplotlib.pyplot as plt\n",
    "import networkx as nx\n",
    "\n",
    "# reading input log file\n",
    "# import ruamel.yaml\n",
    "import yaml\n",
    "import re\n",
    "import ast\n",
    "\n",
    "import math\n",
    "import sys\n",
    "import traceback\n",
    "from csv import excel\n",
    "from collections import Counter\n",
    "from scipy.stats import rankdata\n",
    "\n",
    "# test_name = \"1p9f9s_run\"\n",
    "# test_name = \"seq6f3s\"\n",
    "# test_name = \"seq9f9s\"\n",
    "test_name = \"arldm\"\n",
    "\n",
    "stat_path=f\"../example_stat/{test_name}\"\n",
    "iamge_path=f\"{stat_path}/images\"\n",
    "\n"
   ]
  },
  {
   "cell_type": "markdown",
   "metadata": {},
   "source": [
    "# Improve Functions\n",
    "## TODO\n",
    "- (Maybe) Add adjustment of label to full label, file-task label, and no lables\n",
    "- add VFD stats for file node\n",
    "- Maps dataset y-axis with blob number as the position, x-axis with first access time\n",
    "\n",
    "## Maybe\n",
    "- add option to filter dataset nodes networkx graph (to reduce graph size)\n",
    "\n",
    "## DONE\n",
    "- DONE:Add task cutoff option for graphs\n",
    "- Add task start option for graphs\n",
    "    - Be careful about adding the required files??!!\n",
    "- some read_only edges seems wrong direction (maybe `set_task_file_dset_pos`)"
   ]
  },
  {
   "cell_type": "code",
   "execution_count": 43,
   "metadata": {},
   "outputs": [
    {
     "name": "stdout",
     "output_type": "stream",
     "text": [
      "SELECT_STAGE_END is not in TASK_ORDER_LIST, set to max order: 0\n"
     ]
    },
    {
     "data": {
      "text/plain": [
       "['arldm_train']"
      ]
     },
     "execution_count": 43,
     "metadata": {},
     "output_type": "execute_result"
    }
   ],
   "source": [
    "SELECT_STAGE_START = 0\n",
    "SELECT_STAGE_END = 1\n",
    "\n",
    "# TODO: get TASK_ORDER_LIST from task-file yaml file\n",
    "\n",
    "TASK_ORDER_LIST = {\"arldm_train\": 0,}\n",
    "\n",
    "# TASK_ORDER_LIST = {\n",
    "#     \"run_idfeature\": 0,\n",
    "#     \"run_tracksingle\": 1,\n",
    "#     \"run_gettracks\": 2,\n",
    "#     \"run_trackstats\": 3,\n",
    "#     \"run_identifymcs\": 4,\n",
    "#     \"run_matchpf\": 5,\n",
    "#     \"run_robustmcs\": 6,\n",
    "#     \"run_mapfeature\": 7,\n",
    "#     \"run_speed\": 8\n",
    "# }\n",
    "\n",
    "# TASK_ORDER_LIST = {\n",
    "#     \"openmm-0000\": 0,\"openmm-0001\": 0,\"openmm-0002\": 0,\n",
    "#     \"openmm-0003\": 0,\"openmm-0004\": 0,\"openmm-0005\": 0,\n",
    "#     \"openmm-0006\": 0,\"openmm-0007\": 0,\"openmm-0008\": 0,\n",
    "#     \"openmm-0009\": 0,\"openmm-0010\": 0,\"openmm-0011\": 0,\n",
    "#     \"aggregate\": 1,\n",
    "#     \"train\": 2,\n",
    "#     \"inference\": 3,\n",
    "# }\n",
    "\n",
    "def correct_end_stage(select_end):\n",
    "    # check if SELECT_STAGE_END is in TASK_ORDER_LIST\n",
    "    max_order = max(TASK_ORDER_LIST.values())\n",
    "    if select_end > max_order:\n",
    "        # raise ValueError(\"SELECT_STAGE_END is not in TASK_ORDER_LIST\")\n",
    "        select_end = max_order\n",
    "        print(\"SELECT_STAGE_END is not in TASK_ORDER_LIST, set to max order: {}\".format(max_order))\n",
    "    return select_end\n",
    "\n",
    "SELECT_STAGE_END = correct_end_stage(SELECT_STAGE_END)\n",
    "\n",
    "def remove_unwanted_tasks(map_dict):\n",
    "    \"\"\"Remove unwanted tasks from dictionary\"\"\"\n",
    "    for task in list(map_dict.keys()):\n",
    "        if task not in TASK_LISTS:\n",
    "            map_dict.pop(task)\n",
    "    return map_dict\n",
    "\n",
    "TASK_LISTS = []\n",
    "for task, order in TASK_ORDER_LIST.items():\n",
    "    if SELECT_STAGE_END == -1:\n",
    "        TASK_LISTS = list(TASK_ORDER_LIST.keys())\n",
    "    else:\n",
    "        if order <= SELECT_STAGE_END and order >= SELECT_STAGE_START:\n",
    "            TASK_LISTS.append(task)\n",
    "\n",
    "\n",
    "\n",
    "TASK_LISTS\n"
   ]
  },
  {
   "cell_type": "code",
   "execution_count": 70,
   "metadata": {},
   "outputs": [],
   "source": [
    "\n",
    "import os\n",
    "import re\n",
    "\n",
    "# data and load related methods\n",
    "def humansize(nbytes):\n",
    "    if nbytes != 0:\n",
    "        suffixes = ['B', 'KB', 'MB', 'GB', 'TB', 'PB']\n",
    "        i = 0\n",
    "        while nbytes >= 1000 and i < len(suffixes)-1:\n",
    "            nbytes /= 1000.\n",
    "            i += 1\n",
    "        f = ('%.2f' % nbytes).rstrip('0').rstrip('.')\n",
    "\n",
    "        return '%s %s' % (f, suffixes[i])\n",
    "    else:\n",
    "        return 0\n",
    "\n",
    "def humanbw(nbytes):\n",
    "    if nbytes != 0:\n",
    "        suffixes = ['B/s', 'KB/s', 'MB/s', 'GB/s', 'TB/s', 'PB/s']\n",
    "        i = 0\n",
    "        while nbytes >= 1000 and i < len(suffixes)-1:\n",
    "            nbytes /= 1000.\n",
    "            i += 1\n",
    "        f = ('%.2f' % nbytes).rstrip('0').rstrip('.')\n",
    "        return '%s %s' % (f, suffixes[i])\n",
    "    else:\n",
    "        return 0\n",
    "\n",
    "def load_vol_yaml(vol_files):\n",
    "    ret_dict = {}\n",
    "    tmp_dict = {}\n",
    "    for f in vol_files:\n",
    "        if '.yaml' in f or '.yml' in f:\n",
    "            with open(f, \"r\") as stream:\n",
    "                print(f\"loading {f}\")\n",
    "                try:\n",
    "                    tmp_dict = yaml.safe_load(stream)\n",
    "                    # print(tmp_dict)\n",
    "                except yaml.YAMLError as exc:\n",
    "                    print(exc)\n",
    "                ret_dict[f] = tmp_dict\n",
    "    return ret_dict\n",
    "\n",
    "        \n",
    "def search_files_with_name(directory, pattern):\n",
    "    file_list = []\n",
    "    for root, dirs, files in os.walk(directory):\n",
    "        for file in files:\n",
    "            if re.search(pattern, file) and ('.yaml' in file or '.yml' in file):\n",
    "                file_list.append(os.path.join(root, file))\n",
    "                #print(os.path.join(root, file))\n",
    "    return file_list\n",
    "\n",
    "# Read in task_to_file mapping yaml file\n",
    "def load_task_file_map(test_name):\n",
    "    task_file_map = {}\n",
    "    with open(f\"{stat_path}/{test_name}-task_to_file.yaml\", \"r\") as stream:\n",
    "        try:\n",
    "            task_file_map = yaml.safe_load(stream)\n",
    "        except yaml.YAMLError as exc:\n",
    "            print(exc)\n",
    "    return task_file_map\n",
    "\n",
    "\n",
    "def display_all_nodes_attr(G):\n",
    "    for node in G.nodes():\n",
    "        print(f\"Node Name: {node}\")\n",
    "        # print(f\"- Statistics: {G.nodes[node]}\")\n",
    "        print(f\"- Order: {G.nodes[node]['order']} - Type: {G.nodes[node]['type']} - Position: {G.nodes[node]['pos']}\")\n",
    "        print(f\"- Statistics: {G.nodes[node]['stat']}\")\n",
    "    if len(G.nodes()) == 0:\n",
    "        print(\"No node in graph\")\n"
   ]
  },
  {
   "cell_type": "code",
   "execution_count": 73,
   "metadata": {},
   "outputs": [],
   "source": [
    "# Graph Related Code\n",
    "\n",
    "def draw_graph(G, test_name, prefix=\"\", save=False):\n",
    "    plt.figure(figsize=(80, 20))\n",
    "    pos = {node: data['pos'] for node, data in G.nodes(data=True)}\n",
    "    # Draw the graph with node labels\n",
    "    nx.draw_networkx(G, pos=pos, with_labels=True, node_color='lightblue', edge_color='gray')\n",
    "\n",
    "    if save:\n",
    "        out_file_name=f\"{test_name}-vol-networkx.png\"\n",
    "        if prefix != \"\": out_file_name=f\"{prefix}-{test_name}-vol-networkx.png\"\n",
    "        \n",
    "        save_image_path=f\"../example_stat/{test_name}/{out_file_name}\"\n",
    "        plt.savefig(save_image_path)\n",
    "    \n",
    "    # Show the graph\n",
    "    plt.show()\n",
    "\n",
    "def set_task_position(G, tfe_dic):\n",
    "    skip_pos = 3\n",
    "    task_start_pos = 2\n",
    "    task_order_cnt = {}\n",
    "    prev_task_order = 0\n",
    "    # task_file_edges dictionay\n",
    "    for task_name,v in tfe_dic.items():\n",
    "        task_order = v['order']\n",
    "        print(f\"task_name: {task_name}, task_order: {task_order}\")\n",
    "\n",
    "        # Account for parallel tasks\n",
    "        if task_order > prev_task_order:\n",
    "            task_start_pos += skip_pos\n",
    "\n",
    "        if task_order in task_order_cnt:\n",
    "            task_order_cnt[task_order] += 1\n",
    "        else:\n",
    "            task_order_cnt[task_order] = 0\n",
    "        \n",
    "        if task_name in G.nodes:\n",
    "            node_attrs = G.nodes[task_name]\n",
    "            print(f\"node {task_name} : {node_attrs}, pos: {node_attrs['pos']}\")\n",
    "            node_attrs['order'] = task_order # update task order\n",
    "            node_attrs['pos'] = (task_start_pos,task_order_cnt[task_order]) # add task position\n",
    "            if node_attrs['rpos'] == 0:\n",
    "                node_attrs['rpos'] = 1 # add task position\n",
    "                nx.set_node_attributes(G, node_attrs) # update node attributes\n",
    "                print(f\"node : {task_name}, pos: {node_attrs['pos']}\")\n",
    "            \n",
    "        else:\n",
    "            node_attrs = {task_name: {'rpos':1, 'order': task_order, 'type':'task', 'stat':v}}\n",
    "            position = (task_order,task_order_cnt[task_order])\n",
    "            G.add_node(task_name, pos=position)\n",
    "            nx.set_node_attributes(G, node_attrs)\n",
    "            print(f\"node {task_name} : {node_attrs}, pos: {position}\")\n",
    "        \n",
    "        prev_task_order = task_order\n",
    "\n",
    "\n",
    "def add_task_dset_file_edges(G, stat_dict):\n",
    "    node_order_list = {} # keeptrack of dataset order in each file\n",
    "    edge_stats = {}\n",
    "    access_cnt_dict = {}\n",
    "    for stat_file, stat_list in stat_dict.items():\n",
    "        print(stat_file)\n",
    "        for li in stat_dict[stat_file]:\n",
    "            k = list(li.keys())[0]\n",
    "            if 'file' in k:\n",
    "                parts = k.split(\"-\")\n",
    "                node_name = f\"{k} : {li[k]['file_name']}\"\n",
    "                file_node_name = f\"{li[k]['file_name']}\"\n",
    "\n",
    "                node_order = int(parts[1])\n",
    "                if node_order not in node_order_list:\n",
    "                    node_order_list[node_order] = 0\n",
    "                # TODO: add dataset node and file node and edges\n",
    "                if 'datasets' in li[k]:\n",
    "                    \n",
    "                    task_name = f\"{li[k]['task_name']}\"\n",
    "                    if task_name in TASK_LISTS:\n",
    "\n",
    "                        dset_node_stat = li[k]['datasets']\n",
    "                        dset_node_name = f\"{dset_node_stat['dset_name']}\"\n",
    "                        \n",
    "                        # if dset_node_name == \"lifestages\":\n",
    "                        #     print(f\"lifestages: {dset_node_stat}\")\n",
    "                        if '/' in dset_node_name: dset_node_name = dset_node_name.replace('/', '')\n",
    "                        \n",
    "                        access_type = dset_node_stat['access_type']\n",
    "                        dset_node_attrs = {}\n",
    "                        # print(dset_node_attrs)\n",
    "                        if access_type == 'read_only' or access_type == 'read_write':\n",
    "                            # TODO: currently treating read_write as read_only (infer from VFD stat)\n",
    "                            # file -> dset -> task\n",
    "                            \n",
    "                            dset_node_name = f\"{dset_node_name}-read\"\n",
    "                            \n",
    "                            if not G.has_node(file_node_name): # add file node\n",
    "                                G.add_node(file_node_name, pos=(0,node_order))\n",
    "                                file_node_attrs = {file_node_name: {'rpos':0, 'order': node_order, 'type':'file'}} # no stat here\n",
    "                                nx.set_node_attributes(G, file_node_attrs)\n",
    "                                \n",
    "                            if not G.has_node(dset_node_name):  # add dataset node\n",
    "                                G.add_node(dset_node_name, pos=(1,node_order_list[node_order]))\n",
    "                                node_order_list[node_order] += 1\n",
    "                                dset_node_attrs = {dset_node_name: {'rpos':0, 'order': node_order, 'type':'dataset'}}\n",
    "                                nx.set_node_attributes(G, dset_node_attrs)\n",
    "                            else:\n",
    "                                if (file_node_name, dset_node_name) in access_cnt_dict.keys():\n",
    "                                    access_cnt_dict[(file_node_name, dset_node_name)] += 1\n",
    "                                else:\n",
    "                                    access_cnt_dict[(file_node_name, dset_node_name)] = 0\n",
    "                                \n",
    "                                if (dset_node_name, task_name) in access_cnt_dict.keys():\n",
    "                                    access_cnt_dict[(dset_node_name, task_name)] += 1\n",
    "                                else:\n",
    "                                    access_cnt_dict[(dset_node_name, task_name)] = 0\n",
    "\n",
    "\n",
    "                            if not G.has_node(task_name):  # add task node\n",
    "                                G.add_node(task_name, pos=(2,node_order))\n",
    "                                # TODO: change to use VFD stats here\n",
    "                                task_node_attrs = {task_name: {'rpos':0, 'order': node_order, 'type':'task'}}\n",
    "                                nx.set_node_attributes(G, task_node_attrs)\n",
    "                            \n",
    "                            if not G.has_edge(file_node_name, dset_node_name):\n",
    "                                G.add_edge(file_node_name, dset_node_name)\n",
    "                                try: access_cnt = access_cnt_dict[(file_node_name, dset_node_name)]\n",
    "                                except: access_cnt = 0\n",
    "                                edge_attrs = {'label':task_name, 'stat':li[k]['datasets'], 'access_type':access_type, 'access_cnt':access_cnt}\n",
    "                                edge_stats[(file_node_name, dset_node_name)] = edge_attrs\n",
    "                            if not G.has_edge(dset_node_name, task_name):\n",
    "                                try: access_cnt = access_cnt_dict[(dset_node_name, task_name)]\n",
    "                                except: access_cnt = 0\n",
    "                                G.add_edge(dset_node_name, task_name)\n",
    "                                edge_attrs = {'label':task_name, 'stat':li[k]['datasets'], 'access_type':access_type, 'access_cnt':access_cnt}\n",
    "                                edge_stats[(dset_node_name, task_name)] = edge_attrs\n",
    "                            \n",
    "                        if access_type == 'write_only':\n",
    "                            # task -> dset -> file\n",
    "                            dset_node_name = f\"{dset_node_name}-write\"\n",
    "                            if not G.has_node(task_name):  # add task node\n",
    "                                G.add_node(task_name, pos=(2,node_order))\n",
    "                                # TODO: change to use VFD stats here\n",
    "                                task_node_attrs = {task_name: {'rpos':0, 'order': node_order, 'type':'task'}}\n",
    "                                nx.set_node_attributes(G, task_node_attrs)\n",
    "                            if not G.has_node(dset_node_name):\n",
    "                                G.add_node(dset_node_name, pos=(0,node_order_list[node_order]))\n",
    "                                node_order_list[node_order] += 1\n",
    "                                dset_node_attrs = {dset_node_name: {'rpos':0, 'order': node_order, 'type':'dataset'}}\n",
    "                                nx.set_node_attributes(G, dset_node_attrs)\n",
    "                            else:\n",
    "                                if (task_name, dset_node_name) in access_cnt_dict.keys():\n",
    "                                    access_cnt_dict[(task_name, dset_node_name)] += 1\n",
    "                                else:\n",
    "                                    access_cnt_dict[(task_name, dset_node_name)] = 0\n",
    "                                \n",
    "                                if (dset_node_name, file_node_name) in access_cnt_dict.keys():\n",
    "                                    access_cnt_dict[(dset_node_name, file_node_name)] += 1\n",
    "                                else:\n",
    "                                    access_cnt_dict[(dset_node_name, file_node_name)] = 0\n",
    "                                \n",
    "                            if not G.has_node(file_node_name):\n",
    "                                G.add_node(file_node_name, pos=(1,node_order))\n",
    "                                file_node_attrs = {file_node_name: {'rpos':0, 'order': node_order, 'type':'file'}} # no stat here\n",
    "                                nx.set_node_attributes(G, file_node_attrs)\n",
    "                            \n",
    "                            if not G.has_edge(task_name, dset_node_name):\n",
    "                                try: access_cnt = access_cnt_dict[(task_name, dset_node_name)]\n",
    "                                except: access_cnt = 0\n",
    "                                G.add_edge(task_name, dset_node_name)\n",
    "                                edge_attrs = {'label':task_name, 'stat':li[k]['datasets'], 'access_type':access_type, 'access_cnt':access_cnt}\n",
    "                                edge_stats[(task_name, dset_node_name)] = edge_attrs\n",
    "                            if not G.has_edge(dset_node_name, file_node_name):\n",
    "                                try: access_cnt = access_cnt_dict[(dset_node_name, file_node_name)]\n",
    "                                except: access_cnt = 0\n",
    "                                G.add_edge(dset_node_name, file_node_name)\n",
    "                                edge_attrs = {'label':task_name, 'stat':li[k]['datasets'], 'access_type':access_type, 'access_cnt':access_cnt}\n",
    "                                edge_stats[(dset_node_name, file_node_name)] = edge_attrs\n",
    "\n",
    "                else:\n",
    "                    # print(f\"no datasets stat: {li[k]}\")\n",
    "                    node_attrs = {file_node_name: {'rpos':0, 'order': node_order, 'type':'file', 'stat':li[k]}}\n",
    "                    if G.has_node(file_node_name):\n",
    "                        nx.set_node_attributes(G, node_attrs) # update stat to file nodes\n",
    "    G.add_edges_from(edge_stats.keys())\n",
    "    nx.set_edge_attributes(G, edge_stats)\n",
    "\n",
    "def set_task_file_dset_pos(G, map_dic):\n",
    "    dset_y_dict = {}\n",
    "    edge_list = []\n",
    "    prev_task_x = 0\n",
    "\n",
    "    for task_name, rw_info in map_dic.items():\n",
    "        input_files = rw_info['input']\n",
    "        task_x = G.nodes[task_name]['pos'][0]\n",
    "        \n",
    "        for i, file_name in enumerate(input_files):\n",
    "            #TODO: add dset edges as file -> dset -> task\n",
    "            \n",
    "            # get file edges that are going to datasets\n",
    "            edges_out_file = [(u, v) for u, v in G.out_edges(file_name) if G.nodes[v]['type'] == 'dataset']\n",
    "            # edges_out_of_file = G.out_edges(file_name)\n",
    "\n",
    "            \n",
    "            # update dataset position\n",
    "            for edge in edges_out_file:\n",
    "                dset_name = edge[1]\n",
    "                # print(f\"label of {edge}: {G[file_name][dset_name]['label']}\")\n",
    "                if G[file_name][dset_name]['label'] == task_name:\n",
    "                    edge_list.append((dset_name, task_name))\n",
    "\n",
    "                    # get dataset order\n",
    "                    dset_file_name = f\"{file_name}\" #f\"{file_name}_{task_name}\"\n",
    "                    if dset_file_name in dset_y_dict.keys():\n",
    "                        dset_y_dict[dset_file_name] += 1\n",
    "                    else:\n",
    "                        dset_y_dict[dset_file_name] = 0\n",
    "                    \n",
    "                    # if G.nodes[dset_name]['rpos'] == 0: # dset first access time as position\n",
    "                    #     G.nodes[dset_name]['pos'] = (task_x -1, dset_y_dict[dset_file_name])\n",
    "                    #     G.nodes[dset_name]['rpos'] = 1\n",
    "                    \n",
    "                    # dest last access time as position\n",
    "                    G.nodes[dset_name]['pos'] = (task_x -1, dset_y_dict[dset_file_name])\n",
    "\n",
    "            # Update file position\n",
    "            try:\n",
    "                # account for parallelly accessed files\n",
    "                if prev_task_x == task_x:\n",
    "                    file_y = G.nodes[task_name]['pos'][1]\n",
    "                else:\n",
    "                    file_y = i\n",
    "\n",
    "                if G.has_node(file_name) and G.nodes[file_name]['rpos'] == 0:\n",
    "                    G.nodes[file_name]['pos'] = (task_x - 3, file_y)\n",
    "                    G.nodes[file_name]['rpos'] = 1\n",
    "                    # file_node_attrs = G.nodes[file_name]\n",
    "                    # file_node_attrs['stat']['access_type'] = 'read_only' # update access type with file node\n",
    "                    # nx.set_node_attributes(G, file_node_attrs)\n",
    "                    # print(f\"input file_name: {file_name}, pos: {G.nodes[file_name]['pos']}\")\n",
    "                else:\n",
    "                    G.add_node(file_name, pos=(task_x - 3, file_y))\n",
    "                    file_node_attrs = {file_name: {'rpos':0, 'order': file_y, 'type':'file'}} # no stat here\n",
    "                    # file_node_attrs['stat']['access_type'] = 'read_only'\n",
    "                    nx.set_node_attributes(G, file_node_attrs)\n",
    "            except:\n",
    "                print(f\"Error: file :{file_name}, task:{task_name}\")\n",
    "            \n",
    "        output_files = rw_info['output']\n",
    "        for i, file_name in enumerate(output_files):\n",
    "            #TODO: add dset edges as task -> dset -> file\n",
    "            edges_in_file = G.in_edges(file_name)\n",
    "            # print(f\"edges_in_file: {edges_in_file}\")\n",
    "            for edge in edges_in_file:\n",
    "                dset_name = edge[0]\n",
    "\n",
    "                if G[dset_name][file_name]['label'] == task_name:\n",
    "                    edge_list.append((task_name, dset_name))\n",
    "            \n",
    "                    # get dataset order\n",
    "                    dset_file_name = f\"{file_name}\" #f\"{task_name}_{file_name}\"\n",
    "                    if dset_file_name in dset_y_dict.keys():\n",
    "                        dset_y_dict[dset_file_name] += 1\n",
    "                    else:\n",
    "                        dset_y_dict[dset_file_name] = 0\n",
    "                        \n",
    "                    # if G.nodes[dset_name]['pos'][0] == 1:\n",
    "                    # if G.nodes[dset_name]['rpos'] == 0: # only add first access\n",
    "                    G.nodes[dset_name]['pos'] = (task_x + 1, dset_y_dict[dset_file_name])\n",
    "                    G.nodes[dset_name]['rpos'] = 1\n",
    "            # account for parallelly accessed files\n",
    "            if prev_task_x == task_x:\n",
    "                file_y = G.nodes[task_name]['pos'][1]\n",
    "            else:\n",
    "                file_y = i\n",
    "            if G.nodes[file_name]['rpos'] == 0:\n",
    "                G.nodes[file_name]['pos'] = (task_x + 3, file_y)\n",
    "                G.nodes[file_name]['rpos'] = 1\n",
    "                file_node_attrs = G.nodes[file_name]\n",
    "                # file_node_attrs['stat']['access_type'] = 'write_only' # update access type with file node\n",
    "                # nx.set_node_attributes(G, file_node_attrs)\n",
    "        \n",
    "        prev_task_x = task_x\n",
    "    # for e in edge_list:\n",
    "    #     print(f\"added edges: {e}\")\n",
    "\n",
    "    # add any remaining edge\n",
    "    G.add_edges_from(edge_list)\n",
    "    \n",
    "    return G"
   ]
  },
  {
   "cell_type": "code",
   "execution_count": 71,
   "metadata": {},
   "outputs": [
    {
     "name": "stdout",
     "output_type": "stream",
     "text": [
      "vol_files: ['../example_stat/arldm/925337_vol-data-stat-save-dl.yaml']\n",
      "loading ../example_stat/arldm/925337_vol-data-stat-save-dl.yaml\n",
      "file-2: {'file_name': '/mnt/common/mtang11/experiments/ARLDM/output_data/flintstones_out.h5', 'task_name': 'arldm_train-925337', 'datasets': {'dset_name': 'text', 'start_time': 1703805730351793, 'end_time': 1703805730352053, 'dt_class': 'H5T_STRING', 'ds_class': 'H5S_SCALAR', 'layout': 'H5D_CONTIGUOUS', 'storage_size': 322112, 'dset_n_elements': 20132, 'dimension_cnt': 1, 'dimensions': [20132], 'dset_type_size': 8, 'dataset_read_cnt': 1, 'total_bytes_read': 322112, 'dataset_write_cnt': 0, 'total_bytes_written': 0, 'access_type': 'read_only', 'dset_offset': 3520, 'dset_select_type': 'H5S_SEL_ALL', 'dset_select_npoints': 20132, 'data_file_pages': [39, 78], 'metadata_file_pages': [0], 'access_orders': [1]}}\n",
      "file-2: {'file_name': '/mnt/common/mtang11/experiments/ARLDM/output_data/flintstones_out.h5', 'open_time': 1703805730351481, 'close_time': 1703805730352236, 'file_size': 20909864056, 'header_size': 2048, 'sieve_buf_size': 65536, 'file_intent': ['H5F_ACC_RDONLY'], 'ds_created': 0, 'ds_accessed': 1, 'grp_created': 0, 'grp_accessed': 0, 'dtypes_created': 0, 'dtypes_accessed': 0}\n",
      "file-4: {'file_name': '/mnt/common/mtang11/experiments/ARLDM/output_data/flintstones_out.h5', 'open_time': 1703805730352666, 'close_time': 1703805730353003, 'file_size': 20909864056, 'header_size': 2048, 'sieve_buf_size': 65536, 'file_intent': ['H5F_ACC_RDONLY'], 'ds_created': 0, 'ds_accessed': 1, 'grp_created': 0, 'grp_accessed': 0, 'dtypes_created': 0, 'dtypes_accessed': 0}\n",
      "file-6: {'file_name': '/mnt/common/mtang11/experiments/ARLDM/output_data/flintstones_out.h5', 'open_time': 1703805730353391, 'close_time': 1703805730353684, 'file_size': 20909864056, 'header_size': 2048, 'sieve_buf_size': 65536, 'file_intent': ['H5F_ACC_RDONLY'], 'ds_created': 0, 'ds_accessed': 1, 'grp_created': 0, 'grp_accessed': 0, 'dtypes_created': 0, 'dtypes_accessed': 0}\n",
      "file-8: {'file_name': '/mnt/common/mtang11/experiments/ARLDM/output_data/flintstones_out.h5', 'open_time': 1703805767607224, 'close_time': 1703805767607959, 'file_size': 20909864056, 'header_size': 2048, 'sieve_buf_size': 65536, 'file_intent': ['H5F_ACC_RDONLY'], 'ds_created': 0, 'ds_accessed': 1, 'grp_created': 0, 'grp_accessed': 0, 'dtypes_created': 0, 'dtypes_accessed': 0}\n",
      "file-10: {'file_name': '/mnt/common/mtang11/experiments/ARLDM/output_data/flintstones_out.h5', 'open_time': 1703805767608449, 'close_time': 1703805767608786, 'file_size': 20909864056, 'header_size': 2048, 'sieve_buf_size': 65536, 'file_intent': ['H5F_ACC_RDONLY'], 'ds_created': 0, 'ds_accessed': 1, 'grp_created': 0, 'grp_accessed': 0, 'dtypes_created': 0, 'dtypes_accessed': 0}\n",
      "file-12: {'file_name': '/mnt/common/mtang11/experiments/ARLDM/output_data/flintstones_out.h5', 'open_time': 1703805767611215, 'close_time': 1703805767611556, 'file_size': 20909864056, 'header_size': 2048, 'sieve_buf_size': 65536, 'file_intent': ['H5F_ACC_RDONLY'], 'ds_created': 0, 'ds_accessed': 1, 'grp_created': 0, 'grp_accessed': 0, 'dtypes_created': 0, 'dtypes_accessed': 0}\n",
      "file-14: {'file_name': '/mnt/common/mtang11/experiments/ARLDM/output_data/flintstones_out.h5', 'open_time': 1703805767611886, 'close_time': 1703805767612199, 'file_size': 20909864056, 'header_size': 2048, 'sieve_buf_size': 65536, 'file_intent': ['H5F_ACC_RDONLY'], 'ds_created': 0, 'ds_accessed': 1, 'grp_created': 0, 'grp_accessed': 0, 'dtypes_created': 0, 'dtypes_accessed': 0}\n",
      "file-16: {'file_name': '/mnt/common/mtang11/experiments/ARLDM/output_data/flintstones_out.h5', 'open_time': 1703805767764341, 'close_time': 1703805767765673, 'file_size': 20909864056, 'header_size': 2048, 'sieve_buf_size': 65536, 'file_intent': ['H5F_ACC_RDONLY'], 'ds_created': 0, 'ds_accessed': 1, 'grp_created': 0, 'grp_accessed': 0, 'dtypes_created': 0, 'dtypes_accessed': 0}\n",
      "file-18: {'file_name': '/mnt/common/mtang11/experiments/ARLDM/output_data/flintstones_out.h5', 'open_time': 1703805767766213, 'close_time': 1703805767766698, 'file_size': 20909864056, 'header_size': 2048, 'sieve_buf_size': 65536, 'file_intent': ['H5F_ACC_RDONLY'], 'ds_created': 0, 'ds_accessed': 1, 'grp_created': 0, 'grp_accessed': 0, 'dtypes_created': 0, 'dtypes_accessed': 0}\n",
      "file-20: {'file_name': '/mnt/common/mtang11/experiments/ARLDM/output_data/flintstones_out.h5', 'open_time': 1703805767767145, 'close_time': 1703805767767586, 'file_size': 20909864056, 'header_size': 2048, 'sieve_buf_size': 65536, 'file_intent': ['H5F_ACC_RDONLY'], 'ds_created': 0, 'ds_accessed': 1, 'grp_created': 0, 'grp_accessed': 0, 'dtypes_created': 0, 'dtypes_accessed': 0}\n",
      "file-22: {'file_name': '/mnt/common/mtang11/experiments/ARLDM/output_data/flintstones_out.h5', 'open_time': 1703805767768291, 'close_time': 1703805767768772, 'file_size': 20909864056, 'header_size': 2048, 'sieve_buf_size': 65536, 'file_intent': ['H5F_ACC_RDONLY'], 'ds_created': 0, 'ds_accessed': 1, 'grp_created': 0, 'grp_accessed': 0, 'dtypes_created': 0, 'dtypes_accessed': 0}\n",
      "file-24: {'file_name': '/mnt/common/mtang11/experiments/ARLDM/output_data/flintstones_out.h5', 'open_time': 1703805767773578, 'close_time': 1703805767774021, 'file_size': 20909864056, 'header_size': 2048, 'sieve_buf_size': 65536, 'file_intent': ['H5F_ACC_RDONLY'], 'ds_created': 0, 'ds_accessed': 1, 'grp_created': 0, 'grp_accessed': 0, 'dtypes_created': 0, 'dtypes_accessed': 0}\n",
      "file-26: {'file_name': '/mnt/common/mtang11/experiments/ARLDM/output_data/flintstones_out.h5', 'open_time': 1703805767774722, 'close_time': 1703805767775145, 'file_size': 20909864056, 'header_size': 2048, 'sieve_buf_size': 65536, 'file_intent': ['H5F_ACC_RDONLY'], 'ds_created': 0, 'ds_accessed': 1, 'grp_created': 0, 'grp_accessed': 0, 'dtypes_created': 0, 'dtypes_accessed': 0}\n",
      "file-16: {'file_name': '/mnt/common/mtang11/experiments/ARLDM/output_data/flintstones_out.h5', 'task_name': 'arldm_train-926671', 'datasets': {'dset_name': 'image0', 'start_time': 1703805767997790, 'end_time': 1703805768000735, 'dt_class': 'H5T_VLEN', 'ds_class': 'H5S_SCALAR', 'layout': 'H5D_CONTIGUOUS', 'storage_size': 322112, 'dset_n_elements': 20132, 'dimension_cnt': 1, 'dimensions': [20132], 'dset_type_size': 16, 'dataset_read_cnt': 2, 'total_bytes_read': 644224, 'dataset_write_cnt': 0, 'total_bytes_written': 0, 'access_type': 'read_only', 'dset_offset': 1832, 'dset_select_type': 'H5S_SEL_ALL', 'dset_select_npoints': 20132, 'data_file_pages': [39, 78], 'metadata_file_pages': [0], 'access_orders': [8]}}\n",
      "file-16: {'file_name': '/mnt/common/mtang11/experiments/ARLDM/output_data/flintstones_out.h5', 'task_name': 'arldm_train-926671', 'datasets': {'dset_name': 'image1', 'start_time': 1703805768005213, 'end_time': 1703805768006883, 'dt_class': 'H5T_VLEN', 'ds_class': 'H5S_SCALAR', 'layout': 'H5D_CONTIGUOUS', 'storage_size': 322112, 'dset_n_elements': 20132, 'dimension_cnt': 1, 'dimensions': [20132], 'dset_type_size': 16, 'dataset_read_cnt': 2, 'total_bytes_read': 644224, 'dataset_write_cnt': 0, 'total_bytes_written': 0, 'access_type': 'read_only', 'dset_offset': 2432, 'dset_select_type': 'H5S_SEL_ALL', 'dset_select_npoints': 20132, 'data_file_pages': [39, 78], 'metadata_file_pages': [0], 'access_orders': [9]}}\n",
      "file-16: {'file_name': '/mnt/common/mtang11/experiments/ARLDM/output_data/flintstones_out.h5', 'task_name': 'arldm_train-926671', 'datasets': {'dset_name': 'image2', 'start_time': 1703805768010676, 'end_time': 1703805768011733, 'dt_class': 'H5T_VLEN', 'ds_class': 'H5S_SCALAR', 'layout': 'H5D_CONTIGUOUS', 'storage_size': 322112, 'dset_n_elements': 20132, 'dimension_cnt': 1, 'dimensions': [20132], 'dset_type_size': 16, 'dataset_read_cnt': 2, 'total_bytes_read': 644224, 'dataset_write_cnt': 0, 'total_bytes_written': 0, 'access_type': 'read_only', 'dset_offset': 2704, 'dset_select_type': 'H5S_SEL_ALL', 'dset_select_npoints': 20132, 'data_file_pages': [39, 78], 'metadata_file_pages': [0], 'access_orders': [10]}}\n",
      "file-16: {'file_name': '/mnt/common/mtang11/experiments/ARLDM/output_data/flintstones_out.h5', 'task_name': 'arldm_train-926671', 'datasets': {'dset_name': 'image3', 'start_time': 1703805768016059, 'end_time': 1703805768017279, 'dt_class': 'H5T_VLEN', 'ds_class': 'H5S_SCALAR', 'layout': 'H5D_CONTIGUOUS', 'storage_size': 322112, 'dset_n_elements': 20132, 'dimension_cnt': 1, 'dimensions': [20132], 'dset_type_size': 16, 'dataset_read_cnt': 2, 'total_bytes_read': 644224, 'dataset_write_cnt': 0, 'total_bytes_written': 0, 'access_type': 'read_only', 'dset_offset': 2976, 'dset_select_type': 'H5S_SEL_ALL', 'dset_select_npoints': 20132, 'data_file_pages': [39, 78], 'metadata_file_pages': [0], 'access_orders': [11]}}\n",
      "file-16: {'file_name': '/mnt/common/mtang11/experiments/ARLDM/output_data/flintstones_out.h5', 'task_name': 'arldm_train-926671', 'datasets': {'dset_name': 'image4', 'start_time': 1703805768021203, 'end_time': 1703805768022663, 'dt_class': 'H5T_VLEN', 'ds_class': 'H5S_SCALAR', 'layout': 'H5D_CONTIGUOUS', 'storage_size': 322112, 'dset_n_elements': 20132, 'dimension_cnt': 1, 'dimensions': [20132], 'dset_type_size': 16, 'dataset_read_cnt': 2, 'total_bytes_read': 644224, 'dataset_write_cnt': 0, 'total_bytes_written': 0, 'access_type': 'read_only', 'dset_offset': 3248, 'dset_select_type': 'H5S_SEL_ALL', 'dset_select_npoints': 20132, 'data_file_pages': [39, 78], 'metadata_file_pages': [0], 'access_orders': [12]}}\n",
      "file-16: {'file_name': '/mnt/common/mtang11/experiments/ARLDM/output_data/flintstones_out.h5', 'open_time': 1703805767997292, 'close_time': 1703805768089862, 'file_size': 20909864056, 'header_size': 2048, 'sieve_buf_size': 65536, 'file_intent': ['H5F_ACC_RDONLY'], 'ds_created': 0, 'ds_accessed': 6, 'grp_created': 0, 'grp_accessed': 0, 'dtypes_created': 0, 'dtypes_accessed': 0}\n",
      "file-18: {'file_name': '/mnt/common/mtang11/experiments/ARLDM/output_data/flintstones_out.h5', 'open_time': 1703805768107446, 'close_time': 1703805768200738, 'file_size': 20909864056, 'header_size': 2048, 'sieve_buf_size': 65536, 'file_intent': ['H5F_ACC_RDONLY'], 'ds_created': 0, 'ds_accessed': 6, 'grp_created': 0, 'grp_accessed': 0, 'dtypes_created': 0, 'dtypes_accessed': 0}\n",
      "file-20: {'file_name': '/mnt/common/mtang11/experiments/ARLDM/output_data/flintstones_out.h5', 'open_time': 1703805768235824, 'close_time': 1703805768363522, 'file_size': 20909864056, 'header_size': 2048, 'sieve_buf_size': 65536, 'file_intent': ['H5F_ACC_RDONLY'], 'ds_created': 0, 'ds_accessed': 6, 'grp_created': 0, 'grp_accessed': 0, 'dtypes_created': 0, 'dtypes_accessed': 0}\n",
      "file-22: {'file_name': '/mnt/common/mtang11/experiments/ARLDM/output_data/flintstones_out.h5', 'open_time': 1703805827724666, 'close_time': 1703805827801393, 'file_size': 20909864056, 'header_size': 2048, 'sieve_buf_size': 65536, 'file_intent': ['H5F_ACC_RDONLY'], 'ds_created': 0, 'ds_accessed': 6, 'grp_created': 0, 'grp_accessed': 0, 'dtypes_created': 0, 'dtypes_accessed': 0}\n",
      "file-24: {'file_name': '/mnt/common/mtang11/experiments/ARLDM/output_data/flintstones_out.h5', 'open_time': 1703805886224950, 'close_time': 1703805886384854, 'file_size': 20909864056, 'header_size': 2048, 'sieve_buf_size': 65536, 'file_intent': ['H5F_ACC_RDONLY'], 'ds_created': 0, 'ds_accessed': 6, 'grp_created': 0, 'grp_accessed': 0, 'dtypes_created': 0, 'dtypes_accessed': 0}\n",
      "file-26: {'file_name': '/mnt/common/mtang11/experiments/ARLDM/output_data/flintstones_out.h5', 'open_time': 1703805940192700, 'close_time': 1703805940375055, 'file_size': 20909864056, 'header_size': 2048, 'sieve_buf_size': 65536, 'file_intent': ['H5F_ACC_RDONLY'], 'ds_created': 0, 'ds_accessed': 6, 'grp_created': 0, 'grp_accessed': 0, 'dtypes_created': 0, 'dtypes_accessed': 0}\n",
      "file-28: {'file_name': '/mnt/common/mtang11/experiments/ARLDM/output_data/flintstones_out.h5', 'open_time': 1703805991640849, 'close_time': 1703805991779127, 'file_size': 20909864056, 'header_size': 2048, 'sieve_buf_size': 65536, 'file_intent': ['H5F_ACC_RDONLY'], 'ds_created': 0, 'ds_accessed': 6, 'grp_created': 0, 'grp_accessed': 0, 'dtypes_created': 0, 'dtypes_accessed': 0}\n",
      "file-28: {'file_name': '/mnt/common/mtang11/experiments/ARLDM/output_data/flintstones_out.h5', 'open_time': 1703806039323341, 'close_time': 1703806039325181, 'file_size': 20909864056, 'header_size': 2048, 'sieve_buf_size': 65536, 'file_intent': ['H5F_ACC_RDONLY'], 'ds_created': 0, 'ds_accessed': 1, 'grp_created': 0, 'grp_accessed': 0, 'dtypes_created': 0, 'dtypes_accessed': 0}\n",
      "file-30: {'file_name': '/mnt/common/mtang11/experiments/ARLDM/output_data/flintstones_out.h5', 'open_time': 1703806039326192, 'close_time': 1703806039326821, 'file_size': 20909864056, 'header_size': 2048, 'sieve_buf_size': 65536, 'file_intent': ['H5F_ACC_RDONLY'], 'ds_created': 0, 'ds_accessed': 1, 'grp_created': 0, 'grp_accessed': 0, 'dtypes_created': 0, 'dtypes_accessed': 0}\n",
      "file-32: {'file_name': '/mnt/common/mtang11/experiments/ARLDM/output_data/flintstones_out.h5', 'open_time': 1703806039327473, 'close_time': 1703806039328107, 'file_size': 20909864056, 'header_size': 2048, 'sieve_buf_size': 65536, 'file_intent': ['H5F_ACC_RDONLY'], 'ds_created': 0, 'ds_accessed': 1, 'grp_created': 0, 'grp_accessed': 0, 'dtypes_created': 0, 'dtypes_accessed': 0}\n",
      "file-34: {'file_name': '/mnt/common/mtang11/experiments/ARLDM/output_data/flintstones_out.h5', 'open_time': 1703806039328938, 'close_time': 1703806039329626, 'file_size': 20909864056, 'header_size': 2048, 'sieve_buf_size': 65536, 'file_intent': ['H5F_ACC_RDONLY'], 'ds_created': 0, 'ds_accessed': 1, 'grp_created': 0, 'grp_accessed': 0, 'dtypes_created': 0, 'dtypes_accessed': 0}\n",
      "file-28: {'file_name': '/mnt/common/mtang11/experiments/ARLDM/output_data/flintstones_out.h5', 'task_name': 'arldm_train-934602', 'datasets': {'dset_name': 'image0', 'start_time': 1703806039539143, 'end_time': 1703806039542558, 'dt_class': 'H5T_VLEN', 'ds_class': 'H5S_SCALAR', 'layout': 'H5D_CONTIGUOUS', 'storage_size': 33136, 'dset_n_elements': 2071, 'dimension_cnt': 1, 'dimensions': [2071], 'dset_type_size': 16, 'dataset_read_cnt': 2, 'total_bytes_read': 66272, 'dataset_write_cnt': 0, 'total_bytes_written': 0, 'access_type': 'read_only', 'dset_offset': 17165311608, 'dset_select_type': 'H5S_SEL_ALL', 'dset_select_npoints': 2071, 'data_file_pages': [4, 8], 'metadata_file_pages': [2251799813683470], 'access_orders': [14]}}\n",
      "file-28: {'file_name': '/mnt/common/mtang11/experiments/ARLDM/output_data/flintstones_out.h5', 'task_name': 'arldm_train-934602', 'datasets': {'dset_name': 'image1', 'start_time': 1703806039547429, 'end_time': 1703806039549576, 'dt_class': 'H5T_VLEN', 'ds_class': 'H5S_SCALAR', 'layout': 'H5D_CONTIGUOUS', 'storage_size': 33136, 'dset_n_elements': 2071, 'dimension_cnt': 1, 'dimensions': [2071], 'dset_type_size': 16, 'dataset_read_cnt': 2, 'total_bytes_read': 66272, 'dataset_write_cnt': 0, 'total_bytes_written': 0, 'access_type': 'read_only', 'dset_offset': 17165312208, 'dset_select_type': 'H5S_SEL_ALL', 'dset_select_npoints': 2071, 'data_file_pages': [4, 8], 'metadata_file_pages': [2251799813683471], 'access_orders': [15]}}\n",
      "file-28: {'file_name': '/mnt/common/mtang11/experiments/ARLDM/output_data/flintstones_out.h5', 'task_name': 'arldm_train-934602', 'datasets': {'dset_name': 'image2', 'start_time': 1703806039553491, 'end_time': 1703806039555357, 'dt_class': 'H5T_VLEN', 'ds_class': 'H5S_SCALAR', 'layout': 'H5D_CONTIGUOUS', 'storage_size': 33136, 'dset_n_elements': 2071, 'dimension_cnt': 1, 'dimensions': [2071], 'dset_type_size': 16, 'dataset_read_cnt': 2, 'total_bytes_read': 66272, 'dataset_write_cnt': 0, 'total_bytes_written': 0, 'access_type': 'read_only', 'dset_offset': 17165312480, 'dset_select_type': 'H5S_SEL_ALL', 'dset_select_npoints': 2071, 'data_file_pages': [4, 8], 'metadata_file_pages': [2251799813683471], 'access_orders': [16]}}\n",
      "file-28: {'file_name': '/mnt/common/mtang11/experiments/ARLDM/output_data/flintstones_out.h5', 'task_name': 'arldm_train-934602', 'datasets': {'dset_name': 'image3', 'start_time': 1703806039559235, 'end_time': 1703806039561163, 'dt_class': 'H5T_VLEN', 'ds_class': 'H5S_SCALAR', 'layout': 'H5D_CONTIGUOUS', 'storage_size': 33136, 'dset_n_elements': 2071, 'dimension_cnt': 1, 'dimensions': [2071], 'dset_type_size': 16, 'dataset_read_cnt': 2, 'total_bytes_read': 66272, 'dataset_write_cnt': 0, 'total_bytes_written': 0, 'access_type': 'read_only', 'dset_offset': 17165312752, 'dset_select_type': 'H5S_SEL_ALL', 'dset_select_npoints': 2071, 'data_file_pages': [4, 8], 'metadata_file_pages': [2251799813683471], 'access_orders': [17]}}\n",
      "file-28: {'file_name': '/mnt/common/mtang11/experiments/ARLDM/output_data/flintstones_out.h5', 'task_name': 'arldm_train-934602', 'datasets': {'dset_name': 'image4', 'start_time': 1703806039565501, 'end_time': 1703806039567126, 'dt_class': 'H5T_VLEN', 'ds_class': 'H5S_SCALAR', 'layout': 'H5D_CONTIGUOUS', 'storage_size': 33136, 'dset_n_elements': 2071, 'dimension_cnt': 1, 'dimensions': [2071], 'dset_type_size': 16, 'dataset_read_cnt': 2, 'total_bytes_read': 66272, 'dataset_write_cnt': 0, 'total_bytes_written': 0, 'access_type': 'read_only', 'dset_offset': 17165313024, 'dset_select_type': 'H5S_SEL_ALL', 'dset_select_npoints': 2071, 'data_file_pages': [4, 8], 'metadata_file_pages': [2251799813683471], 'access_orders': [18]}}\n",
      "file-28: {'file_name': '/mnt/common/mtang11/experiments/ARLDM/output_data/flintstones_out.h5', 'open_time': 1703806039538480, 'close_time': 1703806039657581, 'file_size': 20909864056, 'header_size': 2048, 'sieve_buf_size': 65536, 'file_intent': ['H5F_ACC_RDONLY'], 'ds_created': 0, 'ds_accessed': 6, 'grp_created': 0, 'grp_accessed': 0, 'dtypes_created': 0, 'dtypes_accessed': 0}\n",
      "file-30: {'file_name': '/mnt/common/mtang11/experiments/ARLDM/output_data/flintstones_out.h5', 'open_time': 1703806039676158, 'close_time': 1703806039781297, 'file_size': 20909864056, 'header_size': 2048, 'sieve_buf_size': 65536, 'file_intent': ['H5F_ACC_RDONLY'], 'ds_created': 0, 'ds_accessed': 6, 'grp_created': 0, 'grp_accessed': 0, 'dtypes_created': 0, 'dtypes_accessed': 0}\n",
      "file-32: {'file_name': '/mnt/common/mtang11/experiments/ARLDM/output_data/flintstones_out.h5', 'open_time': 1703806039820554, 'close_time': 1703806039967757, 'file_size': 20909864056, 'header_size': 2048, 'sieve_buf_size': 65536, 'file_intent': ['H5F_ACC_RDONLY'], 'ds_created': 0, 'ds_accessed': 6, 'grp_created': 0, 'grp_accessed': 0, 'dtypes_created': 0, 'dtypes_accessed': 0}\n",
      "file-34: {'file_name': '/mnt/common/mtang11/experiments/ARLDM/output_data/flintstones_out.h5', 'open_time': 1703806062118871, 'close_time': 1703806062284209, 'file_size': 20909864056, 'header_size': 2048, 'sieve_buf_size': 65536, 'file_intent': ['H5F_ACC_RDONLY'], 'ds_created': 0, 'ds_accessed': 6, 'grp_created': 0, 'grp_accessed': 0, 'dtypes_created': 0, 'dtypes_accessed': 0}\n",
      "file-36: {'file_name': '/mnt/common/mtang11/experiments/ARLDM/output_data/flintstones_out.h5', 'open_time': 1703806081550858, 'close_time': 1703806081718731, 'file_size': 20909864056, 'header_size': 2048, 'sieve_buf_size': 65536, 'file_intent': ['H5F_ACC_RDONLY'], 'ds_created': 0, 'ds_accessed': 6, 'grp_created': 0, 'grp_accessed': 0, 'dtypes_created': 0, 'dtypes_accessed': 0}\n",
      "file-38: {'file_name': '/mnt/common/mtang11/experiments/ARLDM/output_data/flintstones_out.h5', 'open_time': 1703806102163638, 'close_time': 1703806102312451, 'file_size': 20909864056, 'header_size': 2048, 'sieve_buf_size': 65536, 'file_intent': ['H5F_ACC_RDONLY'], 'ds_created': 0, 'ds_accessed': 6, 'grp_created': 0, 'grp_accessed': 0, 'dtypes_created': 0, 'dtypes_accessed': 0}\n",
      "file-40: {'file_name': '/mnt/common/mtang11/experiments/ARLDM/output_data/flintstones_out.h5', 'open_time': 1703806122833832, 'close_time': 1703806122978887, 'file_size': 20909864056, 'header_size': 2048, 'sieve_buf_size': 65536, 'file_intent': ['H5F_ACC_RDONLY'], 'ds_created': 0, 'ds_accessed': 6, 'grp_created': 0, 'grp_accessed': 0, 'dtypes_created': 0, 'dtypes_accessed': 0}\n",
      "loading yaml done\n"
     ]
    }
   ],
   "source": [
    "task_file_map = load_task_file_map(test_name)\n",
    "task_file_map = remove_unwanted_tasks(task_file_map)\n",
    "\n",
    "\n",
    "for task, stat in task_file_map.items():\n",
    "    print(f\"{task} : {stat}\")\n",
    "\n",
    "\n",
    "vol_files = search_files_with_name(stat_path, \"vol\")\n",
    "# vol_files = vol_files[0:1]\n",
    "print(f\"vol_files: {vol_files}\")\n",
    "\n",
    "\n",
    "vol_dict = load_vol_yaml(vol_files)\n",
    "# print(vol_dict)\n",
    "for f,fn in vol_dict.items():\n",
    "    # print(f\"{f}: {fn}\")\n",
    "    for file in fn:\n",
    "        for k,v in file.items():\n",
    "            if 'file' in k:\n",
    "                print(f\"{k}: {v}\")\n",
    "\n",
    "print(\"loading yaml done\")\n"
   ]
  },
  {
   "cell_type": "code",
   "execution_count": 74,
   "metadata": {},
   "outputs": [
    {
     "name": "stdout",
     "output_type": "stream",
     "text": [
      "../example_stat/arldm/925337_vol-data-stat-save-dl.yaml\n",
      "No node in graph\n",
      "G Edges: []\n"
     ]
    }
   ],
   "source": [
    "G_VOL = nx.DiGraph()\n",
    "\n",
    "add_task_dset_file_edges(G_VOL, vol_dict)\n",
    "\n",
    "\n",
    "display_all_nodes_attr(G_VOL)\n",
    "for edge in G_VOL.edges():\n",
    "    print(f\"Edge: {edge} - {G_VOL.edges[edge]}\")\n",
    "print(f\"G Edges: {G_VOL.edges()}\")\n",
    "\n"
   ]
  },
  {
   "cell_type": "code",
   "execution_count": 48,
   "metadata": {},
   "outputs": [
    {
     "data": {
      "image/png": "[encoded data removed]",
      "text/plain": [
       "<Figure size 8000x2000 with 1 Axes>"
      ]
     },
     "metadata": {},
     "output_type": "display_data"
    }
   ],
   "source": [
    "\n",
    "\n",
    "draw_graph(G_VOL, test_name)"
   ]
  },
  {
   "cell_type": "code",
   "execution_count": 49,
   "metadata": {},
   "outputs": [
    {
     "name": "stdout",
     "output_type": "stream",
     "text": [
      "task_name: arldm_train, task_order: 0\n",
      "node arldm_train : {'arldm_train': {'rpos': 1, 'order': 0, 'type': 'task', 'stat': {'input': ['/mnt/common/mtang11/experiments/ARLDM/output_data/flintstones_out.h5'], 'io_cnt': 238, 'order': 0, 'output': []}}}, pos: (0, 0)\n"
     ]
    }
   ],
   "source": [
    "\n",
    "set_task_position(G_VOL, task_file_map)\n",
    "\n",
    "G_VOL = set_task_file_dset_pos(G_VOL, task_file_map)\n",
    "\n",
    "# display_all_nodes_attr(G_VOL)\n",
    "# print(task_file_map)\n",
    "\n",
    "# for e in G_VOL.edges:\n",
    "#     print(e)\n",
    "\n",
    "    "
   ]
  },
  {
   "cell_type": "code",
   "execution_count": 50,
   "metadata": {},
   "outputs": [
    {
     "data": {
      "image/png": "[encoded data removed]",
      "text/plain": [
       "<Figure size 8000x2000 with 1 Axes>"
      ]
     },
     "metadata": {},
     "output_type": "display_data"
    }
   ],
   "source": [
    "draw_graph(G_VOL, test_name, prefix=f'{(SELECT_STAGE_END+1)}s', save=True)"
   ]
  },
  {
   "cell_type": "markdown",
   "metadata": {},
   "source": [
    "# Add networkx to Sankey diagram\n",
    "\n",
    "## Statistics for Sankey\n",
    "Below are needed edge attributes before generating the sankey diagram:\n",
    "- access_cnt : The total file/dataset access count \n",
    "- access_size : The total read and write access size\n",
    "- operation : The operation type : read, write, read_write\n",
    "- bandwidth : Get the per access size and time, then calculate the bandwidth. Average the bandwidth if multiple accesses. (TODO: currently only recording one access size and time)\n"
   ]
  },
  {
   "cell_type": "code",
   "execution_count": 51,
   "metadata": {},
   "outputs": [],
   "source": [
    "def prepare_sankey_stat(G):\n",
    "    # TODO: makesure to add stats to all file node previously!\n",
    "    all_edge_stats = nx.get_edge_attributes(G,'stat')\n",
    "    all_edge_access_cnt = nx.get_edge_attributes(G,'access_cnt')\n",
    "\n",
    "    sankey_edge_attr = {}\n",
    "\n",
    "    for edge, stats in all_edge_stats.items():\n",
    "        # all use dataset stats\n",
    "        total_access_cnt = all_edge_access_cnt[edge]\n",
    "        stats = all_edge_stats[edge]\n",
    "        access_cnt = stats['dataset_read_cnt'] + stats['dataset_write_cnt']\n",
    "        acesss_size = stats['total_bytes_read'] + stats['total_bytes_written']\n",
    "        access_time_in_sec = (stats['end_time'] - stats['start_time'])/1000000\n",
    "        bandwidth = total_access_cnt * (acesss_size / access_time_in_sec)\n",
    "\n",
    "        edge_attr = {\n",
    "                'access_cnt': access_cnt,\n",
    "                'access_size': acesss_size,\n",
    "                'operation': stats['access_type'],\n",
    "                'bandwidth': bandwidth}\n",
    "        sankey_edge_attr[edge] = edge_attr\n",
    "    \n",
    "    nx.set_edge_attributes(G, sankey_edge_attr)\n",
    "\n",
    "prepare_sankey_stat(G_VOL)\n"
   ]
  },
  {
   "cell_type": "code",
   "execution_count": 52,
   "metadata": {},
   "outputs": [],
   "source": [
    "def in_node_time_to_x(G,task,time_label, node_range=0.5,file_stat=False):\n",
    "    # check if time_label is tring\n",
    "    if type(time_label) != str:\n",
    "        print('time_label should be string')\n",
    "        return\n",
    "    in_edges = list(G.in_edges(task))\n",
    "    # print(f'{task} In edges: ', in_edges)\n",
    "    in_nodes = [edge[0] for edge in in_edges]\n",
    "\n",
    "    # get in files x_pos\n",
    "    in_nodes_x_pos = [G.nodes[file]['pos'][0] for file in in_nodes]\n",
    "    if in_nodes_x_pos == []:\n",
    "        return\n",
    "        \n",
    "    # remove files not in the same curr_x_pos\n",
    "    curr_x_pos = max(in_nodes_x_pos)\n",
    "    in_nodes = [file for file in in_nodes if G.nodes[file]['pos'][0] == curr_x_pos and G.nodes[file]['rpos'] == 1]\n",
    "        \n",
    "    if in_nodes == []:\n",
    "        return\n",
    "    \n",
    "    # get open time ranks from edge stats\n",
    "    in_nodes_opentime = []\n",
    "    # try:\n",
    "    #     in_nodes_opentime = [G.edges[file,task]['stat'][time_label] for file in in_nodes]\n",
    "    # except:\n",
    "    #     for file in in_nodes:\n",
    "    #         print(f'{file} {task} edge [{time_label}] not found : {G.edges[file,task]}')\n",
    "\n",
    "    if file_stat:\n",
    "        # select nodes with file type\n",
    "        in_nodes = [node for node in in_nodes if G.nodes[node]['type'] == 'file']\n",
    "\n",
    "        try:\n",
    "            in_nodes_opentime = [G.nodes[file]['stat'][time_label] for file in in_nodes]\n",
    "        except:\n",
    "            for node in in_nodes:\n",
    "                node_type = G.nodes[node]['type']\n",
    "                if node_type != 'file':\n",
    "                    print(f'{node} is of type [{node_type}] has no [{time_label}] attributes ...')\n",
    "                in_nodes.remove(node)\n",
    "            in_nodes_opentime = [G.edges[file,task]['stat'][time_label] for file in in_nodes]\n",
    "    else:\n",
    "        in_nodes_opentime = [G.edges[file,task]['stat'][time_label] for file in in_nodes]\n",
    "\n",
    "    # in_nodes_opentime = [G.nodes[file]['stat'][time_label] for file in in_nodes]\n",
    "\n",
    "    if len(in_nodes_opentime) > 1:\n",
    "        in_nodes_opentime_rank = rankdata(in_nodes_opentime)\n",
    "        # only normalize between 0 and up to padding, save space between task\n",
    "        normalized_opentime_ranks = [node_range * (rank - 1) / (len(in_nodes_opentime_rank) - 1) for rank in in_nodes_opentime_rank]\n",
    "    else:\n",
    "        normalized_opentime_ranks = [0.0]\n",
    "\n",
    "    for i,file in enumerate(in_nodes):\n",
    "        new_x_pos = curr_x_pos + normalized_opentime_ranks[i]\n",
    "        y_pos = G.nodes[file]['pos'][1]\n",
    "        G.nodes[file]['pos'] = (new_x_pos, y_pos)\n",
    "        # G.nodes[file]['pos'][1] = G.nodes[task]['pos'][1]\n",
    "        print(f'{file} New pos: ', G.nodes[file]['pos'])\n",
    "        G.nodes[file]['rpos'] = 2 # mark as added time to x_pos\n",
    "\n",
    "\n",
    "def out_node_time_to_x(G,task, time_label, node_range=0.5,file_stat=False):\n",
    "    # check if time_label is tring\n",
    "    if type(time_label) != str:\n",
    "        print('time_label should be string')\n",
    "        return\n",
    "\n",
    "    out_edges = list(G.out_edges(task))\n",
    "    out_fiels = [edge[1] for edge in out_edges]\n",
    "\n",
    "    # get out files x_pos\n",
    "    out_nodes_x_pos = [G.nodes[file]['pos'][0] for file in out_fiels]\n",
    "    if out_nodes_x_pos == []:\n",
    "        return\n",
    "\n",
    "    # remove files not in the same curr_x_pos\n",
    "    curr_x_pos = min(out_nodes_x_pos)\n",
    "    out_nodes = [file for file in out_fiels if G.nodes[file]['pos'][0] == curr_x_pos and G.nodes[file]['rpos'] == 1]\n",
    "\n",
    "    if out_nodes == []:\n",
    "        return\n",
    "    \n",
    "    # get close time ranks from edge stats\n",
    "    if file_stat:\n",
    "        # select nodes with file type\n",
    "        out_nodes = [node for node in out_nodes if G.nodes[node]['type'] == 'file']\n",
    "        out_nodes_closetime = [G.nodes[file]['stat'][time_label] for file in out_nodes]\n",
    "    else:\n",
    "        out_nodes_closetime = [G.edges[task,file]['stat'][time_label] for file in out_fiels]\n",
    "    # out_nodes_closetime = [G.nodes[file]['stat'][time_label] for file in out_fiels]\n",
    "\n",
    "    if len(out_nodes_closetime) > 1:\n",
    "        out_nodes_closetime_rank = rankdata(out_nodes_closetime)\n",
    "        # only normalize between 0 and 0.5, save space between task\n",
    "        normalized_closetime_ranks = [node_range * (rank - 1) / (len(out_nodes_closetime_rank) - 1) for rank in out_nodes_closetime_rank]\n",
    "    else:\n",
    "        normalized_closetime_ranks = [0.0]\n",
    "    \n",
    "    for i,file in enumerate(out_fiels):\n",
    "        new_x_pos = curr_x_pos - normalized_closetime_ranks[i]\n",
    "        y_pos = G.nodes[file]['pos'][1]\n",
    "        G.nodes[file]['pos'] = (new_x_pos, y_pos)\n",
    "        # G.nodes[file]['pos'][1] = G.nodes[task]['pos'][1]\n",
    "        print(f'{file} New pos: ', G.nodes[file]['pos'])\n",
    "        G.nodes[file]['rpos'] = 2\n",
    "\n",
    "    # print(f'{task} Out files: ', out_fiels)\n",
    "        \n",
    "def time_to_file_x_pos(G):\n",
    "    all_tasks = list([node for node in G.nodes() if G.nodes[node]['type'] == 'task'])\n",
    "    node_range = 0.3\n",
    "    # print('All tasks: ', all_tasks)\n",
    "    for i,task in enumerate(all_tasks):\n",
    "        # get in edges files time to x_pos\n",
    "        in_node_time_to_x(G,task,'start_time', node_range=node_range)\n",
    "        # get out edges files time to x_pos\n",
    "        if i == len(all_tasks) - 1:\n",
    "            out_node_time_to_x(G,task, 'end_time', node_range=node_range)\n",
    "    \n",
    "    all_datasets = list([node for node in G.nodes() if G.nodes[node]['type'] == 'dataset'])\n",
    "    for i,dset in enumerate(all_datasets):\n",
    "        # get in edges files time to x_pos\n",
    "        in_node_time_to_x(G,dset, 'open_time', node_range=node_range,file_stat=True)\n",
    "        # get out edges files time to x_pos\n",
    "        if i == len(all_tasks) - 1:\n",
    "            out_node_time_to_x(G,task, 'close_time', node_range=node_range,file_stat=True)\n",
    "        # out_node_time_to_x(G,dset, 'close_time', node_range=node_range)\n",
    "\n",
    "\n",
    "time_to_file_x_pos(G_VOL)"
   ]
  },
  {
   "cell_type": "code",
   "execution_count": 53,
   "metadata": {},
   "outputs": [],
   "source": [
    "# Sankey related codes\n",
    "EDGE_COLOR_RGBA = {\n",
    "    'none' : {'r':180, 'g':180, 'b':180}, #grey for open/close/meta\n",
    "    'read_only' : {'r':150, 'g':190, 'b':220},\n",
    "    'write_only' : {'r':150, 'g':190, 'b':220},\n",
    "    'read_write' : {'r':150, 'g':190, 'b':220},\n",
    "    # 'write' : {'r':140, 'g':210, 'b':220},\n",
    "}\n",
    "\n",
    "# color names : https://www.w3schools.com/colors/colors_names.asp\n",
    "COLOR_MAP = {\"task\": \"Red\", # read\n",
    "            \"dataset\": \"Gold\", # yellow\n",
    "            \"file\": \"MediumBlue\", # blue\n",
    "            \"none\": \"grey\",\n",
    "            }\n",
    "OPACITY = 0.6\n",
    "\n",
    "\n",
    "def get_xy_position(G):\n",
    "    pos_dict = nx.get_node_attributes(G,'pos')\n",
    "\n",
    "    x_dict = {}\n",
    "    y_dict = {}\n",
    "    for n, pos in pos_dict.items():\n",
    "        x_dict[n] = pos[0]\n",
    "        y_dict[n] = pos[1]\n",
    "    \n",
    "    # shift x position to start from 0\n",
    "    if len(x_dict.values()) == 0:\n",
    "        x_base = 0\n",
    "        xf = 1\n",
    "    else:\n",
    "        x_base= min(x_dict.values())\n",
    "        xf=1.0/(max(x_dict.values()))\n",
    "    x_dict = {k: v-x_base for k, v in x_dict.items()}\n",
    "    # normalize x positions\n",
    "    x_normalized = {k: v*xf for k, v in x_dict.items() }\n",
    "    \n",
    "    # # normalize y positions\n",
    "    # yf=1.0/(max(y_dict.values()))\n",
    "    # y_normalized = {k: v*yf for k, v in y_dict.items() }\n",
    "\n",
    "    # normalize y positions\n",
    "    y_max = max(y_dict.values())\n",
    "    y_min = min(y_dict.values())\n",
    "    # Noamalize y positions between 0.1 and 1\n",
    "    y_normalized = {k: 0.01 + 0.99 * (v - y_min) / (y_max - y_min) for k, v in y_dict.items()}\n",
    "    \n",
    "    return x_normalized, y_normalized\n",
    "\n",
    "def get_nodes_for_sankey(G, rm_tags=[],label_on=True):\n",
    "    node_dict_ref = {}\n",
    "    node_dict_for_sankey = {'label': [], 'color':[], 'x':[], 'y':[] }\n",
    "    x_pos, y_pos = get_xy_position(G)\n",
    "    \n",
    "    for idx, (node_name, attr) in enumerate(G.nodes(data=True)):\n",
    "        # node_type = 'file' if node_name[-4:] == 'residue_100.h5' else 'task'\n",
    "        # print(f\"{idx}, ({node_name}, {attr})\")\n",
    "        \n",
    "        node_type = attr['type']\n",
    "        if node_name in node_dict_ref:\n",
    "            print(node_name, \"==duplicate==\")\n",
    "        node_dict_ref[node_name] = {'idx':idx, 'type':node_type}\n",
    "\n",
    "        #sankey\n",
    "        if label_on :  \n",
    "            # node_label = node_name + f\" {G.nodes[node_name]['pos']} ({x_pos[node_name]:.2f}, {y_pos[node_name]:.2f})\"\n",
    "            node_label = node_name\n",
    "            node_dict_for_sankey['label'].append(node_label)\n",
    "        node_dict_for_sankey['color'].append(COLOR_MAP[node_type])\n",
    "        node_dict_for_sankey['x'].append(x_pos[node_name])\n",
    "        node_dict_for_sankey['y'].append(y_pos[node_name])\n",
    "    return node_dict_for_sankey, node_dict_ref\n",
    "\n",
    "\n",
    "def edge_color_scale(attr_bw, attr_op, bw, op):\n",
    "    range = 100\n",
    "\n",
    "    base_color_dict = {}\n",
    "    if op in EDGE_COLOR_RGBA.keys():\n",
    "        base_color_dict = EDGE_COLOR_RGBA[op]\n",
    "        r = base_color_dict['r']\n",
    "        g = base_color_dict['g']\n",
    "        b = base_color_dict['b']\n",
    "    else:\n",
    "        base_color_dict = EDGE_COLOR_RGBA['none']\n",
    "        r = base_color_dict['r']\n",
    "        g = base_color_dict['g']\n",
    "        b = base_color_dict['b']\n",
    "        color_str = f\"rgba({r}, {g}, {b}, {OPACITY})\"\n",
    "        return color_str\n",
    "\n",
    "    edges = []\n",
    "    for k,v in attr_op.items():\n",
    "        if v == op:\n",
    "            edges.append(k)\n",
    "    # bw_list = list(set(attr_bw.values()))\n",
    "    bw_list = [attr_bw[x] for x in edges]\n",
    "    bw_list.sort()\n",
    "    # print(bw_list)\n",
    "        \n",
    "    color_ranks = rankdata(bw_list,method='dense')\n",
    "    color_ranks = [float(i)/max(color_ranks) for i in color_ranks] # normalize\n",
    "\n",
    "    my_rank = color_ranks[bw_list.index(bw)]\n",
    "\n",
    "    color_change = my_rank *range #(my_rank-1)\n",
    "    op_change = (my_rank/max(color_ranks)) * 0.5 + 0.4\n",
    "    color_str = f\"rgba({r-color_change/1.5}, {g-color_change/1.5}, {b-color_change/1.5}, {op_change})\"\n",
    "\n",
    "    # print(f\"{color_str} rank={my_rank} sqrt={math.sqrt(my_rank)} change={color_change}\")\n",
    "    return color_str\n",
    "\n",
    "def get_links_for_sankey(G, node_dict_ref,edge_attr=['access_cnt','access_size','operation','bandwidth'],rm_tags=[],val_sqrt=True):\n",
    "    link_dict_for_sankey = {'source':[], 'target':[], 'value':[], 'label': [], 'color': []}\n",
    "    #'hoverinfo': \"all\"\n",
    "    #'line_width':[], # shows strokeWidth of the edges\n",
    "    \n",
    "    attr_cnt = nx.get_edge_attributes(G,edge_attr[0])\n",
    "    attr_size = nx.get_edge_attributes(G,edge_attr[1])\n",
    "    attr_op = nx.get_edge_attributes(G,edge_attr[2])\n",
    "    attr_bw = nx.get_edge_attributes(G,edge_attr[3])\n",
    "    \n",
    "    \n",
    "    # min_size = min(attr_size.values())\n",
    "    \n",
    "    # print(attr_dict)\n",
    "    for u, v, attr in G.edges(data=True):\n",
    "        if u in node_dict_ref.keys() and v in node_dict_ref.keys():\n",
    "            # print(u, v, attr)\n",
    "            u_idx = node_dict_ref[u]['idx']\n",
    "            v_idx = node_dict_ref[v]['idx']\n",
    "            link_dict_for_sankey['source'].append(u_idx)\n",
    "            link_dict_for_sankey['target'].append(v_idx)\n",
    "\n",
    "            cnt = attr_cnt[(u,v)]\n",
    "            size = attr_size[(u,v)]\n",
    "            if val_sqrt: graph_size = size**(1/4) #math.sqrt(size)\n",
    "            else: graph_size = size\n",
    "            \n",
    "            if cnt == 0: cnt = 1\n",
    "            if size == 0: graph_size = 1\n",
    "            \n",
    "            op = attr_op[(u,v)]\n",
    "\n",
    "            # get edge color based on bandwidth\n",
    "            link_dict_for_sankey['value'].append(graph_size)\n",
    "            # _str = f\"ave_acc_size: {humansize(size/cnt)} op: {op}\"\n",
    "            bw = attr_bw[(u,v)]\n",
    "            _str = (f\"Access Volume : {humansize(size)} <br />\"\n",
    "                + f\"Access Count : {cnt} <br />\"\n",
    "                + f\"Average Access Size : {humansize(size/cnt)} <br />\"\n",
    "                + f\"Operation : {op}<br />\"\n",
    "                +f\"Bandwidth : {humanbw(bw)}\")\n",
    "            \n",
    "            link_dict_for_sankey['label'].append(_str)\n",
    "\n",
    "            link_dict_for_sankey['color'].append(edge_color_scale(attr_bw, attr_op, bw, op)) # get the last operation\n",
    "            \n",
    "            # link_dict_for_sankey['acc_cnt'].append(cnt)\n",
    "    \n",
    "    print(f\"bandwidth range: {humanbw(min(attr_bw.values()))} ~ {humanbw(max(attr_bw.values()))}\")\n",
    "        \n",
    "    return link_dict_for_sankey\n",
    "\n",
    "def selected_graph(node_name, G):\n",
    "    # this is not used\n",
    "    selected_G = nx.DiGraph()\n",
    "    search_nodes = [node_name]\n",
    "    while len(search_nodes) > 0:\n",
    "        next_set = []\n",
    "        for n in search_nodes:\n",
    "            for edge in G.edges(n):\n",
    "                val = G.edges[edge]['value']\n",
    "                selected_G.add_edges_from([edge], value=val)\n",
    "                #print(selected_G.nodes)\n",
    "            next_set += [x for x in G.neighbors(n)]\n",
    "        search_nodes = next_set\n",
    "    return selected_G"
   ]
  },
  {
   "cell_type": "code",
   "execution_count": 54,
   "metadata": {},
   "outputs": [
    {
     "ename": "ZeroDivisionError",
     "evalue": "float division by zero",
     "output_type": "error",
     "traceback": [
      "\u001b[0;31m---------------------------------------------------------------------------\u001b[0m",
      "\u001b[0;31mZeroDivisionError\u001b[0m                         Traceback (most recent call last)",
      "Cell \u001b[0;32mIn[54], line 1\u001b[0m\n\u001b[0;32m----> 1\u001b[0m vol_nodes, vol_nodes_dict \u001b[38;5;241m=\u001b[39m \u001b[43mget_nodes_for_sankey\u001b[49m\u001b[43m(\u001b[49m\u001b[43mG_VOL\u001b[49m\u001b[43m,\u001b[49m\u001b[43m \u001b[49m\u001b[43mlabel_on\u001b[49m\u001b[38;5;241;43m=\u001b[39;49m\u001b[38;5;28;43;01mTrue\u001b[39;49;00m\u001b[43m)\u001b[49m\n\u001b[1;32m      3\u001b[0m \u001b[38;5;66;03m# print(vol_nodes)\u001b[39;00m\n\u001b[1;32m      5\u001b[0m vol_links \u001b[38;5;241m=\u001b[39m get_links_for_sankey(G_VOL, vol_nodes_dict)\n",
      "Cell \u001b[0;32mIn[53], line 54\u001b[0m, in \u001b[0;36mget_nodes_for_sankey\u001b[0;34m(G, rm_tags, label_on)\u001b[0m\n\u001b[1;32m     52\u001b[0m node_dict_ref \u001b[38;5;241m=\u001b[39m {}\n\u001b[1;32m     53\u001b[0m node_dict_for_sankey \u001b[38;5;241m=\u001b[39m {\u001b[38;5;124m'\u001b[39m\u001b[38;5;124mlabel\u001b[39m\u001b[38;5;124m'\u001b[39m: [], \u001b[38;5;124m'\u001b[39m\u001b[38;5;124mcolor\u001b[39m\u001b[38;5;124m'\u001b[39m:[], \u001b[38;5;124m'\u001b[39m\u001b[38;5;124mx\u001b[39m\u001b[38;5;124m'\u001b[39m:[], \u001b[38;5;124m'\u001b[39m\u001b[38;5;124my\u001b[39m\u001b[38;5;124m'\u001b[39m:[] }\n\u001b[0;32m---> 54\u001b[0m x_pos, y_pos \u001b[38;5;241m=\u001b[39m \u001b[43mget_xy_position\u001b[49m\u001b[43m(\u001b[49m\u001b[43mG\u001b[49m\u001b[43m)\u001b[49m\n\u001b[1;32m     56\u001b[0m \u001b[38;5;28;01mfor\u001b[39;00m idx, (node_name, attr) \u001b[38;5;129;01min\u001b[39;00m \u001b[38;5;28menumerate\u001b[39m(G\u001b[38;5;241m.\u001b[39mnodes(data\u001b[38;5;241m=\u001b[39m\u001b[38;5;28;01mTrue\u001b[39;00m)):\n\u001b[1;32m     57\u001b[0m     \u001b[38;5;66;03m# node_type = 'file' if node_name[-4:] == 'residue_100.h5' else 'task'\u001b[39;00m\n\u001b[1;32m     58\u001b[0m     \u001b[38;5;66;03m# print(f\"{idx}, ({node_name}, {attr})\")\u001b[39;00m\n\u001b[1;32m     60\u001b[0m     node_type \u001b[38;5;241m=\u001b[39m attr[\u001b[38;5;124m'\u001b[39m\u001b[38;5;124mtype\u001b[39m\u001b[38;5;124m'\u001b[39m]\n",
      "Cell \u001b[0;32mIn[53], line 34\u001b[0m, in \u001b[0;36mget_xy_position\u001b[0;34m(G)\u001b[0m\n\u001b[1;32m     32\u001b[0m \u001b[38;5;28;01melse\u001b[39;00m:\n\u001b[1;32m     33\u001b[0m     x_base\u001b[38;5;241m=\u001b[39m \u001b[38;5;28mmin\u001b[39m(x_dict\u001b[38;5;241m.\u001b[39mvalues())\n\u001b[0;32m---> 34\u001b[0m     xf\u001b[38;5;241m=\u001b[39m\u001b[38;5;241;43m1.0\u001b[39;49m\u001b[38;5;241;43m/\u001b[39;49m\u001b[43m(\u001b[49m\u001b[38;5;28;43mmax\u001b[39;49m\u001b[43m(\u001b[49m\u001b[43mx_dict\u001b[49m\u001b[38;5;241;43m.\u001b[39;49m\u001b[43mvalues\u001b[49m\u001b[43m(\u001b[49m\u001b[43m)\u001b[49m\u001b[43m)\u001b[49m\u001b[43m)\u001b[49m\n\u001b[1;32m     35\u001b[0m x_dict \u001b[38;5;241m=\u001b[39m {k: v\u001b[38;5;241m-\u001b[39mx_base \u001b[38;5;28;01mfor\u001b[39;00m k, v \u001b[38;5;129;01min\u001b[39;00m x_dict\u001b[38;5;241m.\u001b[39mitems()}\n\u001b[1;32m     36\u001b[0m \u001b[38;5;66;03m# normalize x positions\u001b[39;00m\n",
      "\u001b[0;31mZeroDivisionError\u001b[0m: float division by zero"
     ]
    }
   ],
   "source": [
    "vol_nodes, vol_nodes_dict = get_nodes_for_sankey(G_VOL, label_on=True)\n",
    "\n",
    "# print(vol_nodes)\n",
    "\n",
    "vol_links = get_links_for_sankey(G_VOL, vol_nodes_dict)\n",
    "fig = go.Figure(go.Sankey(\n",
    "            node = vol_nodes,\n",
    "            link = vol_links, orientation='h'))\n",
    "\n"
   ]
  },
  {
   "cell_type": "code",
   "execution_count": null,
   "metadata": {},
   "outputs": [
    {
     "data": {
      "application/vnd.plotly.v1+json": {
       "config": {
        "plotlyServerURL": "https://plot.ly"
       },
       "data": [
        {
         "link": {
          "color": [
           "rgba(83.33333333333333, 123.33333333333333, 153.33333333333331, 0.9)",
           "rgba(83.33333333333333, 123.33333333333333, 153.33333333333331, 0.9)",
           "rgba(83.33333333333333, 123.33333333333333, 153.33333333333331, 0.9)",
           "rgba(83.33333333333333, 123.33333333333333, 153.33333333333331, 0.9)",
           "rgba(83.33333333333333, 123.33333333333333, 153.33333333333331, 0.9)",
           "rgba(83.33333333333333, 123.33333333333333, 153.33333333333331, 0.9)",
           "rgba(83.33333333333333, 123.33333333333333, 153.33333333333331, 0.9)",
           "rgba(83.33333333333333, 123.33333333333333, 153.33333333333331, 0.9)",
           "rgba(83.33333333333333, 123.33333333333333, 153.33333333333331, 0.9)",
           "rgba(83.33333333333333, 123.33333333333333, 153.33333333333331, 0.9)",
           "rgba(83.33333333333333, 123.33333333333333, 153.33333333333331, 0.9)",
           "rgba(83.33333333333333, 123.33333333333333, 153.33333333333331, 0.9)",
           "rgba(83.33333333333333, 123.33333333333333, 153.33333333333331, 0.9)",
           "rgba(83.33333333333333, 123.33333333333333, 153.33333333333331, 0.9)",
           "rgba(83.33333333333333, 123.33333333333333, 153.33333333333331, 0.9)",
           "rgba(83.33333333333333, 123.33333333333333, 153.33333333333331, 0.9)",
           "rgba(83.33333333333333, 123.33333333333333, 153.33333333333331, 0.9)",
           "rgba(83.33333333333333, 123.33333333333333, 153.33333333333331, 0.9)",
           "rgba(83.33333333333333, 123.33333333333333, 153.33333333333331, 0.9)",
           "rgba(83.33333333333333, 123.33333333333333, 153.33333333333331, 0.9)",
           "rgba(83.33333333333333, 123.33333333333333, 153.33333333333331, 0.9)",
           "rgba(83.33333333333333, 123.33333333333333, 153.33333333333331, 0.9)",
           "rgba(83.33333333333333, 123.33333333333333, 153.33333333333331, 0.9)",
           "rgba(83.33333333333333, 123.33333333333333, 153.33333333333331, 0.9)",
           "rgba(83.33333333333333, 123.33333333333333, 153.33333333333331, 0.9)",
           "rgba(83.33333333333333, 123.33333333333333, 153.33333333333331, 0.9)",
           "rgba(83.33333333333333, 123.33333333333333, 153.33333333333331, 0.9)",
           "rgba(83.33333333333333, 123.33333333333333, 153.33333333333331, 0.9)",
           "rgba(83.33333333333333, 123.33333333333333, 153.33333333333331, 0.9)",
           "rgba(83.33333333333333, 123.33333333333333, 153.33333333333331, 0.9)",
           "rgba(83.33333333333333, 123.33333333333333, 153.33333333333331, 0.9)",
           "rgba(83.33333333333333, 123.33333333333333, 153.33333333333331, 0.9)",
           "rgba(83.33333333333333, 123.33333333333333, 153.33333333333331, 0.9)",
           "rgba(83.33333333333333, 123.33333333333333, 153.33333333333331, 0.9)",
           "rgba(83.33333333333333, 123.33333333333333, 153.33333333333331, 0.9)",
           "rgba(83.33333333333333, 123.33333333333333, 153.33333333333331, 0.9)",
           "rgba(83.33333333333333, 123.33333333333333, 153.33333333333331, 0.9)",
           "rgba(83.33333333333333, 123.33333333333333, 153.33333333333331, 0.9)",
           "rgba(83.33333333333333, 123.33333333333333, 153.33333333333331, 0.9)",
           "rgba(83.33333333333333, 123.33333333333333, 153.33333333333331, 0.9)",
           "rgba(83.33333333333333, 123.33333333333333, 153.33333333333331, 0.9)",
           "rgba(83.33333333333333, 123.33333333333333, 153.33333333333331, 0.9)",
           "rgba(83.33333333333333, 123.33333333333333, 153.33333333333331, 0.9)",
           "rgba(83.33333333333333, 123.33333333333333, 153.33333333333331, 0.9)",
           "rgba(83.33333333333333, 123.33333333333333, 153.33333333333331, 0.9)",
           "rgba(83.33333333333333, 123.33333333333333, 153.33333333333331, 0.9)",
           "rgba(83.33333333333333, 123.33333333333333, 153.33333333333331, 0.9)",
           "rgba(83.33333333333333, 123.33333333333333, 153.33333333333331, 0.9)",
           "rgba(83.33333333333333, 123.33333333333333, 153.33333333333331, 0.9)",
           "rgba(83.33333333333333, 123.33333333333333, 153.33333333333331, 0.9)",
           "rgba(83.33333333333333, 123.33333333333333, 153.33333333333331, 0.9)",
           "rgba(83.33333333333333, 123.33333333333333, 153.33333333333331, 0.9)",
           "rgba(83.33333333333333, 123.33333333333333, 153.33333333333331, 0.9)",
           "rgba(83.33333333333333, 123.33333333333333, 153.33333333333331, 0.9)",
           "rgba(83.33333333333333, 123.33333333333333, 153.33333333333331, 0.9)",
           "rgba(83.33333333333333, 123.33333333333333, 153.33333333333331, 0.9)",
           "rgba(83.33333333333333, 123.33333333333333, 153.33333333333331, 0.9)",
           "rgba(83.33333333333333, 123.33333333333333, 153.33333333333331, 0.9)",
           "rgba(83.33333333333333, 123.33333333333333, 153.33333333333331, 0.9)",
           "rgba(83.33333333333333, 123.33333333333333, 153.33333333333331, 0.9)",
           "rgba(83.33333333333333, 123.33333333333333, 153.33333333333331, 0.9)",
           "rgba(83.33333333333333, 123.33333333333333, 153.33333333333331, 0.9)",
           "rgba(83.33333333333333, 123.33333333333333, 153.33333333333331, 0.9)",
           "rgba(83.33333333333333, 123.33333333333333, 153.33333333333331, 0.9)",
           "rgba(83.33333333333333, 123.33333333333333, 153.33333333333331, 0.9)",
           "rgba(83.33333333333333, 123.33333333333333, 153.33333333333331, 0.9)",
           "rgba(83.33333333333333, 123.33333333333333, 153.33333333333331, 0.9)",
           "rgba(83.33333333333333, 123.33333333333333, 153.33333333333331, 0.9)",
           "rgba(83.33333333333333, 123.33333333333333, 153.33333333333331, 0.9)",
           "rgba(83.33333333333333, 123.33333333333333, 153.33333333333331, 0.9)",
           "rgba(83.33333333333333, 123.33333333333333, 153.33333333333331, 0.9)",
           "rgba(83.33333333333333, 123.33333333333333, 153.33333333333331, 0.9)",
           "rgba(83.33333333333333, 123.33333333333333, 153.33333333333331, 0.9)",
           "rgba(83.33333333333333, 123.33333333333333, 153.33333333333331, 0.9)",
           "rgba(83.33333333333333, 123.33333333333333, 153.33333333333331, 0.9)",
           "rgba(83.33333333333333, 123.33333333333333, 153.33333333333331, 0.9)",
           "rgba(83.33333333333333, 123.33333333333333, 153.33333333333331, 0.9)",
           "rgba(83.33333333333333, 123.33333333333333, 153.33333333333331, 0.9)",
           "rgba(83.33333333333333, 123.33333333333333, 153.33333333333331, 0.9)",
           "rgba(83.33333333333333, 123.33333333333333, 153.33333333333331, 0.9)",
           "rgba(83.33333333333333, 123.33333333333333, 153.33333333333331, 0.9)",
           "rgba(83.33333333333333, 123.33333333333333, 153.33333333333331, 0.9)",
           "rgba(83.33333333333333, 123.33333333333333, 153.33333333333331, 0.9)",
           "rgba(83.33333333333333, 123.33333333333333, 153.33333333333331, 0.9)",
           "rgba(83.33333333333333, 123.33333333333333, 153.33333333333331, 0.9)",
           "rgba(83.33333333333333, 123.33333333333333, 153.33333333333331, 0.9)",
           "rgba(83.33333333333333, 123.33333333333333, 153.33333333333331, 0.9)",
           "rgba(83.33333333333333, 123.33333333333333, 153.33333333333331, 0.9)",
           "rgba(83.33333333333333, 123.33333333333333, 153.33333333333331, 0.9)",
           "rgba(83.33333333333333, 123.33333333333333, 153.33333333333331, 0.9)",
           "rgba(83.33333333333333, 123.33333333333333, 153.33333333333331, 0.9)",
           "rgba(83.33333333333333, 123.33333333333333, 153.33333333333331, 0.9)",
           "rgba(83.33333333333333, 123.33333333333333, 153.33333333333331, 0.9)",
           "rgba(83.33333333333333, 123.33333333333333, 153.33333333333331, 0.9)",
           "rgba(83.33333333333333, 123.33333333333333, 153.33333333333331, 0.9)",
           "rgba(83.33333333333333, 123.33333333333333, 153.33333333333331, 0.9)",
           "rgba(83.33333333333333, 123.33333333333333, 153.33333333333331, 0.9)",
           "rgba(83.33333333333333, 123.33333333333333, 153.33333333333331, 0.9)",
           "rgba(83.33333333333333, 123.33333333333333, 153.33333333333331, 0.9)",
           "rgba(83.33333333333333, 123.33333333333333, 153.33333333333331, 0.9)",
           "rgba(83.33333333333333, 123.33333333333333, 153.33333333333331, 0.9)",
           "rgba(83.33333333333333, 123.33333333333333, 153.33333333333331, 0.9)",
           "rgba(83.33333333333333, 123.33333333333333, 153.33333333333331, 0.9)",
           "rgba(83.33333333333333, 123.33333333333333, 153.33333333333331, 0.9)",
           "rgba(83.33333333333333, 123.33333333333333, 153.33333333333331, 0.9)",
           "rgba(83.33333333333333, 123.33333333333333, 153.33333333333331, 0.9)",
           "rgba(83.33333333333333, 123.33333333333333, 153.33333333333331, 0.9)",
           "rgba(83.33333333333333, 123.33333333333333, 153.33333333333331, 0.9)",
           "rgba(83.33333333333333, 123.33333333333333, 153.33333333333331, 0.9)",
           "rgba(83.33333333333333, 123.33333333333333, 153.33333333333331, 0.9)",
           "rgba(83.33333333333333, 123.33333333333333, 153.33333333333331, 0.9)",
           "rgba(83.33333333333333, 123.33333333333333, 153.33333333333331, 0.9)",
           "rgba(83.33333333333333, 123.33333333333333, 153.33333333333331, 0.9)",
           "rgba(83.33333333333333, 123.33333333333333, 153.33333333333331, 0.9)",
           "rgba(83.33333333333333, 123.33333333333333, 153.33333333333331, 0.9)",
           "rgba(83.33333333333333, 123.33333333333333, 153.33333333333331, 0.9)",
           "rgba(83.33333333333333, 123.33333333333333, 153.33333333333331, 0.9)",
           "rgba(83.33333333333333, 123.33333333333333, 153.33333333333331, 0.9)",
           "rgba(83.33333333333333, 123.33333333333333, 153.33333333333331, 0.9)",
           "rgba(83.33333333333333, 123.33333333333333, 153.33333333333331, 0.9)",
           "rgba(83.33333333333333, 123.33333333333333, 153.33333333333331, 0.9)",
           "rgba(83.33333333333333, 123.33333333333333, 153.33333333333331, 0.9)",
           "rgba(83.33333333333333, 123.33333333333333, 153.33333333333331, 0.9)",
           "rgba(83.33333333333333, 123.33333333333333, 153.33333333333331, 0.9)",
           "rgba(83.33333333333333, 123.33333333333333, 153.33333333333331, 0.9)",
           "rgba(83.33333333333333, 123.33333333333333, 153.33333333333331, 0.9)",
           "rgba(83.33333333333333, 123.33333333333333, 153.33333333333331, 0.9)",
           "rgba(83.33333333333333, 123.33333333333333, 153.33333333333331, 0.9)",
           "rgba(83.33333333333333, 123.33333333333333, 153.33333333333331, 0.9)",
           "rgba(83.33333333333333, 123.33333333333333, 153.33333333333331, 0.9)",
           "rgba(83.33333333333333, 123.33333333333333, 153.33333333333331, 0.9)",
           "rgba(83.33333333333333, 123.33333333333333, 153.33333333333331, 0.9)",
           "rgba(83.33333333333333, 123.33333333333333, 153.33333333333331, 0.9)",
           "rgba(83.33333333333333, 123.33333333333333, 153.33333333333331, 0.9)",
           "rgba(83.33333333333333, 123.33333333333333, 153.33333333333331, 0.9)",
           "rgba(83.33333333333333, 123.33333333333333, 153.33333333333331, 0.9)",
           "rgba(83.33333333333333, 123.33333333333333, 153.33333333333331, 0.9)",
           "rgba(83.33333333333333, 123.33333333333333, 153.33333333333331, 0.9)",
           "rgba(83.33333333333333, 123.33333333333333, 153.33333333333331, 0.9)",
           "rgba(83.33333333333333, 123.33333333333333, 153.33333333333331, 0.9)",
           "rgba(83.33333333333333, 123.33333333333333, 153.33333333333331, 0.9)",
           "rgba(83.33333333333333, 123.33333333333333, 153.33333333333331, 0.9)",
           "rgba(83.33333333333333, 123.33333333333333, 153.33333333333331, 0.9)",
           "rgba(83.33333333333333, 123.33333333333333, 153.33333333333331, 0.9)",
           "rgba(83.33333333333333, 123.33333333333333, 153.33333333333331, 0.9)",
           "rgba(83.33333333333333, 123.33333333333333, 153.33333333333331, 0.9)",
           "rgba(83.33333333333333, 123.33333333333333, 153.33333333333331, 0.9)",
           "rgba(83.33333333333333, 123.33333333333333, 153.33333333333331, 0.9)",
           "rgba(83.33333333333333, 123.33333333333333, 153.33333333333331, 0.9)",
           "rgba(83.33333333333333, 123.33333333333333, 153.33333333333331, 0.9)",
           "rgba(83.33333333333333, 123.33333333333333, 153.33333333333331, 0.9)",
           "rgba(83.33333333333333, 123.33333333333333, 153.33333333333331, 0.9)",
           "rgba(83.33333333333333, 123.33333333333333, 153.33333333333331, 0.9)",
           "rgba(83.33333333333333, 123.33333333333333, 153.33333333333331, 0.9)"
          ],
          "label": [
           "Access Volume : 0 <br />Access Count : 31 <br />Average Access Size : 0 <br />Operation : read_only<br />Bandwidth : 0",
           "Access Volume : 0 <br />Access Count : 1 <br />Average Access Size : 0 <br />Operation : read_write<br />Bandwidth : 0",
           "Access Volume : 0 <br />Access Count : 1 <br />Average Access Size : 0 <br />Operation : read_write<br />Bandwidth : 0",
           "Access Volume : 0 <br />Access Count : 1 <br />Average Access Size : 0 <br />Operation : read_write<br />Bandwidth : 0",
           "Access Volume : 0 <br />Access Count : 1 <br />Average Access Size : 0 <br />Operation : read_write<br />Bandwidth : 0",
           "Access Volume : 0 <br />Access Count : 1 <br />Average Access Size : 0 <br />Operation : read_write<br />Bandwidth : 0",
           "Access Volume : 0 <br />Access Count : 1 <br />Average Access Size : 0 <br />Operation : read_write<br />Bandwidth : 0",
           "Access Volume : 0 <br />Access Count : 1 <br />Average Access Size : 0 <br />Operation : read_write<br />Bandwidth : 0",
           "Access Volume : 0 <br />Access Count : 1 <br />Average Access Size : 0 <br />Operation : read_write<br />Bandwidth : 0",
           "Access Volume : 0 <br />Access Count : 1 <br />Average Access Size : 0 <br />Operation : read_write<br />Bandwidth : 0",
           "Access Volume : 0 <br />Access Count : 1 <br />Average Access Size : 0 <br />Operation : read_write<br />Bandwidth : 0",
           "Access Volume : 0 <br />Access Count : 1 <br />Average Access Size : 0 <br />Operation : read_write<br />Bandwidth : 0",
           "Access Volume : 0 <br />Access Count : 1 <br />Average Access Size : 0 <br />Operation : read_write<br />Bandwidth : 0",
           "Access Volume : 0 <br />Access Count : 1 <br />Average Access Size : 0 <br />Operation : read_write<br />Bandwidth : 0",
           "Access Volume : 0 <br />Access Count : 1 <br />Average Access Size : 0 <br />Operation : read_write<br />Bandwidth : 0",
           "Access Volume : 0 <br />Access Count : 1 <br />Average Access Size : 0 <br />Operation : read_write<br />Bandwidth : 0",
           "Access Volume : 0 <br />Access Count : 1 <br />Average Access Size : 0 <br />Operation : read_write<br />Bandwidth : 0",
           "Access Volume : 0 <br />Access Count : 1 <br />Average Access Size : 0 <br />Operation : read_write<br />Bandwidth : 0",
           "Access Volume : 0 <br />Access Count : 1 <br />Average Access Size : 0 <br />Operation : read_write<br />Bandwidth : 0",
           "Access Volume : 0 <br />Access Count : 1 <br />Average Access Size : 0 <br />Operation : read_write<br />Bandwidth : 0",
           "Access Volume : 0 <br />Access Count : 1 <br />Average Access Size : 0 <br />Operation : read_write<br />Bandwidth : 0",
           "Access Volume : 0 <br />Access Count : 1 <br />Average Access Size : 0 <br />Operation : read_write<br />Bandwidth : 0",
           "Access Volume : 0 <br />Access Count : 1 <br />Average Access Size : 0 <br />Operation : read_write<br />Bandwidth : 0",
           "Access Volume : 0 <br />Access Count : 1 <br />Average Access Size : 0 <br />Operation : read_write<br />Bandwidth : 0",
           "Access Volume : 0 <br />Access Count : 1 <br />Average Access Size : 0 <br />Operation : read_write<br />Bandwidth : 0",
           "Access Volume : 0 <br />Access Count : 1 <br />Average Access Size : 0 <br />Operation : read_write<br />Bandwidth : 0",
           "Access Volume : 0 <br />Access Count : 1 <br />Average Access Size : 0 <br />Operation : read_write<br />Bandwidth : 0",
           "Access Volume : 0 <br />Access Count : 1 <br />Average Access Size : 0 <br />Operation : read_write<br />Bandwidth : 0",
           "Access Volume : 0 <br />Access Count : 1 <br />Average Access Size : 0 <br />Operation : read_write<br />Bandwidth : 0",
           "Access Volume : 0 <br />Access Count : 31 <br />Average Access Size : 0 <br />Operation : read_only<br />Bandwidth : 0",
           "Access Volume : 0 <br />Access Count : 36 <br />Average Access Size : 0 <br />Operation : read_write<br />Bandwidth : 0",
           "Access Volume : 0 <br />Access Count : 1 <br />Average Access Size : 0 <br />Operation : read_write<br />Bandwidth : 0",
           "Access Volume : 144 KB <br />Access Count : 120 <br />Average Access Size : 1.2 KB <br />Operation : read_write<br />Bandwidth : 0",
           "Access Volume : 0 <br />Access Count : 1 <br />Average Access Size : 0 <br />Operation : read_write<br />Bandwidth : 0",
           "Access Volume : 136 B <br />Access Count : 4 <br />Average Access Size : 34 B <br />Operation : read_write<br />Bandwidth : 0",
           "Access Volume : 0 <br />Access Count : 1 <br />Average Access Size : 0 <br />Operation : read_write<br />Bandwidth : 0",
           "Access Volume : 776 B <br />Access Count : 4 <br />Average Access Size : 194 B <br />Operation : read_write<br />Bandwidth : 0",
           "Access Volume : 0 <br />Access Count : 1 <br />Average Access Size : 0 <br />Operation : read_write<br />Bandwidth : 0",
           "Access Volume : 648 B <br />Access Count : 4 <br />Average Access Size : 162 B <br />Operation : read_write<br />Bandwidth : 0",
           "Access Volume : 0 <br />Access Count : 1 <br />Average Access Size : 0 <br />Operation : read_write<br />Bandwidth : 0",
           "Access Volume : 636 B <br />Access Count : 4 <br />Average Access Size : 159 B <br />Operation : read_write<br />Bandwidth : 0",
           "Access Volume : 0 <br />Access Count : 1 <br />Average Access Size : 0 <br />Operation : read_write<br />Bandwidth : 0",
           "Access Volume : 652 B <br />Access Count : 4 <br />Average Access Size : 163 B <br />Operation : read_write<br />Bandwidth : 0",
           "Access Volume : 0 <br />Access Count : 1 <br />Average Access Size : 0 <br />Operation : read_write<br />Bandwidth : 0",
           "Access Volume : 456 B <br />Access Count : 4 <br />Average Access Size : 114 B <br />Operation : read_write<br />Bandwidth : 0",
           "Access Volume : 0 <br />Access Count : 1 <br />Average Access Size : 0 <br />Operation : read_write<br />Bandwidth : 0",
           "Access Volume : 444 B <br />Access Count : 4 <br />Average Access Size : 111 B <br />Operation : read_write<br />Bandwidth : 0",
           "Access Volume : 0 <br />Access Count : 1 <br />Average Access Size : 0 <br />Operation : read_write<br />Bandwidth : 0",
           "Access Volume : 428 B <br />Access Count : 4 <br />Average Access Size : 107 B <br />Operation : read_write<br />Bandwidth : 0",
           "Access Volume : 0 <br />Access Count : 1 <br />Average Access Size : 0 <br />Operation : read_write<br />Bandwidth : 0",
           "Access Volume : 0 <br />Access Count : 1 <br />Average Access Size : 0 <br />Operation : read_write<br />Bandwidth : 0",
           "Access Volume : 0 <br />Access Count : 1 <br />Average Access Size : 0 <br />Operation : read_write<br />Bandwidth : 0",
           "Access Volume : 624 B <br />Access Count : 4 <br />Average Access Size : 156 B <br />Operation : read_write<br />Bandwidth : 0",
           "Access Volume : 0 <br />Access Count : 1 <br />Average Access Size : 0 <br />Operation : read_write<br />Bandwidth : 0",
           "Access Volume : 2.07 KB <br />Access Count : 13 <br />Average Access Size : 159 B <br />Operation : read_write<br />Bandwidth : 0",
           "Access Volume : 0 <br />Access Count : 1 <br />Average Access Size : 0 <br />Operation : read_write<br />Bandwidth : 0",
           "Access Volume : 4.08 KB <br />Access Count : 26 <br />Average Access Size : 157 B <br />Operation : read_write<br />Bandwidth : 0",
           "Access Volume : 0 <br />Access Count : 1 <br />Average Access Size : 0 <br />Operation : read_write<br />Bandwidth : 0",
           "Access Volume : 6.79 KB <br />Access Count : 43 <br />Average Access Size : 158 B <br />Operation : read_write<br />Bandwidth : 0",
           "Access Volume : 0 <br />Access Count : 1 <br />Average Access Size : 0 <br />Operation : read_write<br />Bandwidth : 0",
           "Access Volume : 9.98 KB <br />Access Count : 64 <br />Average Access Size : 156 B <br />Operation : read_write<br />Bandwidth : 0",
           "Access Volume : 0 <br />Access Count : 1 <br />Average Access Size : 0 <br />Operation : read_write<br />Bandwidth : 0",
           "Access Volume : 14.33 KB <br />Access Count : 89 <br />Average Access Size : 161 B <br />Operation : read_write<br />Bandwidth : 0",
           "Access Volume : 0 <br />Access Count : 1 <br />Average Access Size : 0 <br />Operation : read_write<br />Bandwidth : 0",
           "Access Volume : 18.88 KB <br />Access Count : 118 <br />Average Access Size : 160 B <br />Operation : read_write<br />Bandwidth : 0",
           "Access Volume : 0 <br />Access Count : 1 <br />Average Access Size : 0 <br />Operation : read_write<br />Bandwidth : 0",
           "Access Volume : 172 B <br />Access Count : 4 <br />Average Access Size : 43 B <br />Operation : read_write<br />Bandwidth : 0",
           "Access Volume : 0 <br />Access Count : 1 <br />Average Access Size : 0 <br />Operation : read_write<br />Bandwidth : 0",
           "Access Volume : 52 B <br />Access Count : 4 <br />Average Access Size : 13 B <br />Operation : read_write<br />Bandwidth : 0",
           "Access Volume : 0 <br />Access Count : 1 <br />Average Access Size : 0 <br />Operation : read_write<br />Bandwidth : 0",
           "Access Volume : 108 B <br />Access Count : 4 <br />Average Access Size : 27 B <br />Operation : read_write<br />Bandwidth : 0",
           "Access Volume : 0 <br />Access Count : 1 <br />Average Access Size : 0 <br />Operation : read_write<br />Bandwidth : 0",
           "Access Volume : 216 B <br />Access Count : 8 <br />Average Access Size : 27 B <br />Operation : read_write<br />Bandwidth : 0",
           "Access Volume : 0 <br />Access Count : 1 <br />Average Access Size : 0 <br />Operation : read_write<br />Bandwidth : 0",
           "Access Volume : 0 <br />Access Count : 1 <br />Average Access Size : 0 <br />Operation : read_write<br />Bandwidth : 0",
           "Access Volume : 0 <br />Access Count : 1 <br />Average Access Size : 0 <br />Operation : read_write<br />Bandwidth : 0",
           "Access Volume : 323 B <br />Access Count : 19 <br />Average Access Size : 17 B <br />Operation : read_write<br />Bandwidth : 0",
           "Access Volume : 0 <br />Access Count : 1 <br />Average Access Size : 0 <br />Operation : read_write<br />Bandwidth : 0",
           "Access Volume : 0 <br />Access Count : 1 <br />Average Access Size : 0 <br />Operation : read_write<br />Bandwidth : 0",
           "Access Volume : 0 <br />Access Count : 1 <br />Average Access Size : 0 <br />Operation : read_write<br />Bandwidth : 0",
           "Access Volume : 612 B <br />Access Count : 34 <br />Average Access Size : 18 B <br />Operation : read_write<br />Bandwidth : 0",
           "Access Volume : 0 <br />Access Count : 15 <br />Average Access Size : 0 <br />Operation : read_only<br />Bandwidth : 0",
           "Access Volume : 94.03 KB <br />Access Count : 18 <br />Average Access Size : 5.22 KB <br />Operation : read_only<br />Bandwidth : 0",
           "Access Volume : 0 <br />Access Count : 1 <br />Average Access Size : 0 <br />Operation : read_write<br />Bandwidth : 0",
           "Access Volume : 0 <br />Access Count : 1 <br />Average Access Size : 0 <br />Operation : read_write<br />Bandwidth : 0",
           "Access Volume : 0 <br />Access Count : 1 <br />Average Access Size : 0 <br />Operation : read_write<br />Bandwidth : 0",
           "Access Volume : 0 <br />Access Count : 1 <br />Average Access Size : 0 <br />Operation : read_write<br />Bandwidth : 0",
           "Access Volume : 0 <br />Access Count : 1 <br />Average Access Size : 0 <br />Operation : read_write<br />Bandwidth : 0",
           "Access Volume : 0 <br />Access Count : 1 <br />Average Access Size : 0 <br />Operation : read_write<br />Bandwidth : 0",
           "Access Volume : 0 <br />Access Count : 1 <br />Average Access Size : 0 <br />Operation : read_write<br />Bandwidth : 0",
           "Access Volume : 0 <br />Access Count : 1 <br />Average Access Size : 0 <br />Operation : read_write<br />Bandwidth : 0",
           "Access Volume : 0 <br />Access Count : 1 <br />Average Access Size : 0 <br />Operation : read_write<br />Bandwidth : 0",
           "Access Volume : 0 <br />Access Count : 1 <br />Average Access Size : 0 <br />Operation : read_write<br />Bandwidth : 0",
           "Access Volume : 0 <br />Access Count : 1 <br />Average Access Size : 0 <br />Operation : read_write<br />Bandwidth : 0",
           "Access Volume : 0 <br />Access Count : 1 <br />Average Access Size : 0 <br />Operation : read_write<br />Bandwidth : 0",
           "Access Volume : 0 <br />Access Count : 1 <br />Average Access Size : 0 <br />Operation : read_write<br />Bandwidth : 0",
           "Access Volume : 0 <br />Access Count : 1 <br />Average Access Size : 0 <br />Operation : read_write<br />Bandwidth : 0",
           "Access Volume : 0 <br />Access Count : 1 <br />Average Access Size : 0 <br />Operation : read_write<br />Bandwidth : 0",
           "Access Volume : 0 <br />Access Count : 1 <br />Average Access Size : 0 <br />Operation : read_write<br />Bandwidth : 0",
           "Access Volume : 0 <br />Access Count : 1 <br />Average Access Size : 0 <br />Operation : read_write<br />Bandwidth : 0",
           "Access Volume : 0 <br />Access Count : 1 <br />Average Access Size : 0 <br />Operation : read_write<br />Bandwidth : 0",
           "Access Volume : 0 <br />Access Count : 1 <br />Average Access Size : 0 <br />Operation : read_write<br />Bandwidth : 0",
           "Access Volume : 0 <br />Access Count : 1 <br />Average Access Size : 0 <br />Operation : read_write<br />Bandwidth : 0",
           "Access Volume : 0 <br />Access Count : 1 <br />Average Access Size : 0 <br />Operation : read_write<br />Bandwidth : 0",
           "Access Volume : 0 <br />Access Count : 1 <br />Average Access Size : 0 <br />Operation : read_write<br />Bandwidth : 0",
           "Access Volume : 0 <br />Access Count : 1 <br />Average Access Size : 0 <br />Operation : read_write<br />Bandwidth : 0",
           "Access Volume : 0 <br />Access Count : 1 <br />Average Access Size : 0 <br />Operation : read_write<br />Bandwidth : 0",
           "Access Volume : 0 <br />Access Count : 1 <br />Average Access Size : 0 <br />Operation : read_write<br />Bandwidth : 0",
           "Access Volume : 0 <br />Access Count : 1 <br />Average Access Size : 0 <br />Operation : read_write<br />Bandwidth : 0",
           "Access Volume : 0 <br />Access Count : 1 <br />Average Access Size : 0 <br />Operation : read_write<br />Bandwidth : 0",
           "Access Volume : 0 <br />Access Count : 1 <br />Average Access Size : 0 <br />Operation : read_write<br />Bandwidth : 0",
           "Access Volume : 0 <br />Access Count : 1 <br />Average Access Size : 0 <br />Operation : read_write<br />Bandwidth : 0",
           "Access Volume : 94.03 KB <br />Access Count : 18 <br />Average Access Size : 5.22 KB <br />Operation : read_only<br />Bandwidth : 0",
           "Access Volume : 0 <br />Access Count : 1 <br />Average Access Size : 0 <br />Operation : read_write<br />Bandwidth : 0",
           "Access Volume : 0 <br />Access Count : 1 <br />Average Access Size : 0 <br />Operation : read_write<br />Bandwidth : 0",
           "Access Volume : 0 <br />Access Count : 36 <br />Average Access Size : 0 <br />Operation : read_write<br />Bandwidth : 0",
           "Access Volume : 136 B <br />Access Count : 4 <br />Average Access Size : 34 B <br />Operation : read_write<br />Bandwidth : 0",
           "Access Volume : 612 B <br />Access Count : 34 <br />Average Access Size : 18 B <br />Operation : read_write<br />Bandwidth : 0",
           "Access Volume : 172 B <br />Access Count : 4 <br />Average Access Size : 43 B <br />Operation : read_write<br />Bandwidth : 0",
           "Access Volume : 323 B <br />Access Count : 19 <br />Average Access Size : 17 B <br />Operation : read_write<br />Bandwidth : 0",
           "Access Volume : 52 B <br />Access Count : 4 <br />Average Access Size : 13 B <br />Operation : read_write<br />Bandwidth : 0",
           "Access Volume : 216 B <br />Access Count : 8 <br />Average Access Size : 27 B <br />Operation : read_write<br />Bandwidth : 0",
           "Access Volume : 108 B <br />Access Count : 4 <br />Average Access Size : 27 B <br />Operation : read_write<br />Bandwidth : 0",
           "Access Volume : 144 KB <br />Access Count : 120 <br />Average Access Size : 1.2 KB <br />Operation : read_write<br />Bandwidth : 0",
           "Access Volume : 776 B <br />Access Count : 4 <br />Average Access Size : 194 B <br />Operation : read_write<br />Bandwidth : 0",
           "Access Volume : 18.88 KB <br />Access Count : 118 <br />Average Access Size : 160 B <br />Operation : read_write<br />Bandwidth : 0",
           "Access Volume : 648 B <br />Access Count : 4 <br />Average Access Size : 162 B <br />Operation : read_write<br />Bandwidth : 0",
           "Access Volume : 14.33 KB <br />Access Count : 89 <br />Average Access Size : 161 B <br />Operation : read_write<br />Bandwidth : 0",
           "Access Volume : 636 B <br />Access Count : 4 <br />Average Access Size : 159 B <br />Operation : read_write<br />Bandwidth : 0",
           "Access Volume : 9.98 KB <br />Access Count : 64 <br />Average Access Size : 156 B <br />Operation : read_write<br />Bandwidth : 0",
           "Access Volume : 652 B <br />Access Count : 4 <br />Average Access Size : 163 B <br />Operation : read_write<br />Bandwidth : 0",
           "Access Volume : 6.79 KB <br />Access Count : 43 <br />Average Access Size : 158 B <br />Operation : read_write<br />Bandwidth : 0",
           "Access Volume : 456 B <br />Access Count : 4 <br />Average Access Size : 114 B <br />Operation : read_write<br />Bandwidth : 0",
           "Access Volume : 4.08 KB <br />Access Count : 26 <br />Average Access Size : 157 B <br />Operation : read_write<br />Bandwidth : 0",
           "Access Volume : 444 B <br />Access Count : 4 <br />Average Access Size : 111 B <br />Operation : read_write<br />Bandwidth : 0",
           "Access Volume : 2.07 KB <br />Access Count : 13 <br />Average Access Size : 159 B <br />Operation : read_write<br />Bandwidth : 0",
           "Access Volume : 428 B <br />Access Count : 4 <br />Average Access Size : 107 B <br />Operation : read_write<br />Bandwidth : 0",
           "Access Volume : 624 B <br />Access Count : 4 <br />Average Access Size : 156 B <br />Operation : read_write<br />Bandwidth : 0",
           "Access Volume : 12 KB <br />Access Count : 15 <br />Average Access Size : 800 B <br />Operation : read_write<br />Bandwidth : 0",
           "Access Volume : 5.09 KB <br />Access Count : 4 <br />Average Access Size : 1.27 KB <br />Operation : read_write<br />Bandwidth : 0",
           "Access Volume : 17.26 KB <br />Access Count : 13 <br />Average Access Size : 1.33 KB <br />Operation : read_write<br />Bandwidth : 0",
           "Access Volume : 5.57 KB <br />Access Count : 4 <br />Average Access Size : 1.39 KB <br />Operation : read_write<br />Bandwidth : 0",
           "Access Volume : 5.14 KB <br />Access Count : 4 <br />Average Access Size : 1.28 KB <br />Operation : read_write<br />Bandwidth : 0",
           "Access Volume : 13 B <br />Access Count : 1 <br />Average Access Size : 13 B <br />Operation : write_only<br />Bandwidth : 0",
           "Access Volume : 69 B <br />Access Count : 1 <br />Average Access Size : 69 B <br />Operation : write_only<br />Bandwidth : 0",
           "Access Volume : 165 B <br />Access Count : 1 <br />Average Access Size : 165 B <br />Operation : write_only<br />Bandwidth : 0",
           "Access Volume : 12 KB <br />Access Count : 15 <br />Average Access Size : 800 B <br />Operation : read_write<br />Bandwidth : 0",
           "Access Volume : 5.09 KB <br />Access Count : 4 <br />Average Access Size : 1.27 KB <br />Operation : read_write<br />Bandwidth : 0",
           "Access Volume : 17.26 KB <br />Access Count : 13 <br />Average Access Size : 1.33 KB <br />Operation : read_write<br />Bandwidth : 0",
           "Access Volume : 5.57 KB <br />Access Count : 4 <br />Average Access Size : 1.39 KB <br />Operation : read_write<br />Bandwidth : 0",
           "Access Volume : 5.14 KB <br />Access Count : 4 <br />Average Access Size : 1.28 KB <br />Operation : read_write<br />Bandwidth : 0",
           "Access Volume : 13 B <br />Access Count : 1 <br />Average Access Size : 13 B <br />Operation : write_only<br />Bandwidth : 0",
           "Access Volume : 69 B <br />Access Count : 1 <br />Average Access Size : 69 B <br />Operation : write_only<br />Bandwidth : 0",
           "Access Volume : 165 B <br />Access Count : 1 <br />Average Access Size : 165 B <br />Operation : write_only<br />Bandwidth : 0"
          ],
          "source": [
           0,
           0,
           0,
           0,
           0,
           0,
           0,
           0,
           0,
           0,
           0,
           0,
           0,
           0,
           0,
           0,
           0,
           0,
           0,
           0,
           0,
           0,
           0,
           0,
           0,
           0,
           0,
           0,
           0,
           1,
           1,
           3,
           3,
           4,
           4,
           5,
           5,
           6,
           6,
           7,
           7,
           8,
           8,
           9,
           9,
           10,
           10,
           11,
           11,
           12,
           13,
           14,
           14,
           15,
           15,
           16,
           16,
           17,
           17,
           18,
           18,
           19,
           19,
           20,
           20,
           21,
           21,
           22,
           22,
           23,
           23,
           24,
           24,
           25,
           26,
           27,
           27,
           28,
           29,
           30,
           30,
           31,
           31,
           31,
           31,
           31,
           31,
           31,
           31,
           31,
           31,
           31,
           31,
           31,
           31,
           31,
           31,
           31,
           31,
           31,
           31,
           31,
           31,
           31,
           31,
           31,
           31,
           31,
           31,
           31,
           31,
           31,
           32,
           33,
           34,
           35,
           35,
           35,
           35,
           35,
           35,
           35,
           35,
           35,
           35,
           35,
           35,
           35,
           35,
           35,
           35,
           35,
           35,
           35,
           35,
           35,
           35,
           35,
           35,
           35,
           35,
           35,
           35,
           36,
           36,
           36,
           37,
           38,
           39,
           40,
           41,
           42,
           43,
           44
          ],
          "target": [
           1,
           3,
           4,
           5,
           6,
           7,
           8,
           9,
           10,
           11,
           12,
           13,
           14,
           15,
           16,
           17,
           18,
           19,
           20,
           21,
           22,
           23,
           24,
           25,
           26,
           27,
           28,
           29,
           30,
           2,
           36,
           2,
           36,
           2,
           36,
           2,
           36,
           2,
           36,
           2,
           36,
           2,
           36,
           2,
           36,
           2,
           36,
           2,
           36,
           2,
           2,
           2,
           36,
           2,
           36,
           2,
           36,
           2,
           36,
           2,
           36,
           2,
           36,
           2,
           36,
           2,
           36,
           2,
           36,
           2,
           36,
           2,
           36,
           2,
           2,
           2,
           36,
           2,
           2,
           2,
           36,
           1,
           32,
           4,
           5,
           6,
           7,
           8,
           9,
           10,
           11,
           12,
           13,
           14,
           15,
           16,
           17,
           18,
           19,
           20,
           21,
           22,
           23,
           24,
           25,
           26,
           27,
           28,
           29,
           30,
           33,
           34,
           2,
           2,
           2,
           1,
           4,
           30,
           21,
           27,
           22,
           24,
           23,
           3,
           5,
           20,
           6,
           19,
           7,
           18,
           8,
           17,
           9,
           16,
           10,
           15,
           11,
           14,
           37,
           38,
           39,
           40,
           41,
           42,
           43,
           44,
           36,
           36,
           36,
           36,
           36,
           35,
           35,
           35
          ],
          "value": [
           1,
           1,
           1,
           1,
           1,
           1,
           1,
           1,
           1,
           1,
           1,
           1,
           1,
           1,
           1,
           1,
           1,
           1,
           1,
           1,
           1,
           1,
           1,
           1,
           1,
           1,
           1,
           1,
           1,
           1,
           1,
           1,
           19.480074928505935,
           1,
           3.414952970348289,
           1,
           5.277951928008462,
           1,
           5.045378491522287,
           1,
           5.021856272917115,
           1,
           5.053146610737453,
           1,
           4.6210557780730825,
           1,
           4.590349388195356,
           1,
           4.548423997999439,
           1,
           1,
           1,
           4.997998798878767,
           1,
           6.742719902730442,
           1,
           7.993155283106487,
           1,
           9.078861390063157,
           1,
           9.995997597757533,
           1,
           10.940923229290934,
           1,
           11.721967083153807,
           1,
           3.621446817033767,
           1,
           2.68534961428265,
           1,
           3.2237097954706257,
           1,
           3.833658625477635,
           1,
           1,
           1,
           4.239363248839551,
           1,
           1,
           1,
           4.9737947036147325,
           1,
           17.51132137048302,
           1,
           1,
           1,
           1,
           1,
           1,
           1,
           1,
           1,
           1,
           1,
           1,
           1,
           1,
           1,
           1,
           1,
           1,
           1,
           1,
           1,
           1,
           1,
           1,
           1,
           1,
           1,
           1,
           1,
           17.51132137048302,
           1,
           1,
           1,
           3.414952970348289,
           4.9737947036147325,
           3.621446817033767,
           4.239363248839551,
           2.68534961428265,
           3.833658625477635,
           3.2237097954706257,
           19.480074928505935,
           5.277951928008462,
           11.721967083153807,
           5.045378491522287,
           10.940923229290934,
           5.021856272917115,
           9.995997597757533,
           5.053146610737453,
           9.078861390063157,
           4.6210557780730825,
           7.993155283106487,
           4.590349388195356,
           6.742719902730442,
           4.548423997999439,
           4.997998798878767,
           10.466351393921055,
           8.447381316102943,
           11.462658576667751,
           8.639781850607461,
           8.465570947589754,
           1.8988289221159418,
           2.882121417102006,
           3.5840246342157207,
           10.466351393921055,
           8.447381316102943,
           11.462658576667751,
           8.639781850607461,
           8.465570947589754,
           1.8988289221159418,
           2.882121417102006,
           3.5840246342157207
          ]
         },
         "node": {
          "color": [
           "MediumBlue",
           "Gold",
           "Red",
           "Gold",
           "Gold",
           "Gold",
           "Gold",
           "Gold",
           "Gold",
           "Gold",
           "Gold",
           "Gold",
           "Gold",
           "Gold",
           "Gold",
           "Gold",
           "Gold",
           "Gold",
           "Gold",
           "Gold",
           "Gold",
           "Gold",
           "Gold",
           "Gold",
           "Gold",
           "Gold",
           "Gold",
           "Gold",
           "Gold",
           "Gold",
           "Gold",
           "MediumBlue",
           "Gold",
           "Gold",
           "Gold",
           "MediumBlue",
           "Red",
           "Gold",
           "Gold",
           "Gold",
           "Gold",
           "Gold",
           "Gold",
           "Gold",
           "Gold",
           "MediumBlue",
           "MediumBlue",
           "MediumBlue",
           "MediumBlue",
           "MediumBlue",
           "MediumBlue",
           "MediumBlue",
           "MediumBlue",
           "MediumBlue",
           "MediumBlue"
          ],
          "label": [
           "trackstats_20150506.0000_20150506.0800.nc",
           "tracks-read",
           "run_trackstats",
           "times-read",
           "track_duration-read",
           "base_time-read",
           "meanlat-read",
           "meanlon-read",
           "area-read",
           "cloudnumber-read",
           "track_status-read",
           "track_interruptions-read",
           "merge_tracknumbers-read",
           "split_tracknumbers-read",
           "core_area-read",
           "cold_area-read",
           "corecold_mintb-read",
           "corecold_meantb-read",
           "core_meantb-read",
           "lat_mintb-read",
           "lon_mintb-read",
           "start_status-read",
           "end_status-read",
           "start_basetime-read",
           "end_basetime-read",
           "start_split_tracknumber-read",
           "start_split_timeindex-read",
           "start_split_cloudnumber-read",
           "end_merge_tracknumber-read",
           "end_merge_timeindex-read",
           "end_merge_cloudnumber-read",
           "trackstats_sparse_20150506.0000_20150506.0800.nc",
           "sparse_index-read",
           "tracks_indices-read",
           "times_indices-read",
           "mcs_tracks_20150506.0000_20150506.0800.nc",
           "run_identifymcs",
           "mergers-read",
           "merge_cloudnumber-read",
           "split_ccs_area-read",
           "split_cloudnumber-read",
           "merge_ccs_area-read",
           "mcs_duration-write",
           "mcs_status-write",
           "ccs_area-write",
           "tracknumbers_20150506.0000_20150506.0800.nc",
           "cloudid_20150506_000000.nc",
           "cloudid_20150506_010000.nc",
           "cloudid_20150506_020000.nc",
           "cloudid_20150506_030000.nc",
           "cloudid_20150506_040000.nc",
           "cloudid_20150506_050000.nc",
           "cloudid_20150506_060000.nc",
           "cloudid_20150506_070000.nc",
           "cloudid_20150506_080000.nc"
          ],
          "x": [
           0.7000000000000001,
           0,
           0.4,
           0,
           0,
           0,
           0,
           0,
           0,
           0,
           0,
           0,
           0,
           0,
           0,
           0,
           0,
           0,
           0,
           0,
           0,
           0,
           0,
           0,
           0,
           0,
           0,
           0,
           0,
           0,
           0,
           0.4,
           0,
           0,
           0,
           1,
           0.7000000000000001,
           0,
           0,
           0,
           0,
           0,
           0.8,
           0.785,
           0.77,
           0.1,
           0.1,
           0.1,
           0.1,
           0.1,
           0.1,
           0.1,
           0.1,
           0.1,
           0.1
          ],
          "y": [
           0.01,
           0.01,
           0.01,
           0.041935483870967745,
           0.07387096774193548,
           0.10580645161290321,
           0.13774193548387098,
           0.16967741935483874,
           0.20161290322580644,
           0.2335483870967742,
           0.26548387096774195,
           0.2974193548387097,
           0.32935483870967747,
           0.3612903225806452,
           0.39322580645161287,
           0.42516129032258065,
           0.4570967741935484,
           0.4890322580645161,
           0.5209677419354839,
           0.5529032258064516,
           0.5848387096774194,
           0.616774193548387,
           0.6487096774193549,
           0.6806451612903226,
           0.7125806451612904,
           0.7445161290322581,
           0.7764516129032257,
           0.8083870967741935,
           0.8403225806451613,
           0.8722580645161291,
           0.9041935483870968,
           0.01,
           0.9361290322580645,
           0.9680645161290322,
           1,
           0.01,
           0.01,
           0.01,
           0.041935483870967745,
           0.07387096774193548,
           0.10580645161290321,
           0.13774193548387098,
           0.01,
           0.041935483870967745,
           0.07387096774193548,
           0.01,
           0.041935483870967745,
           0.07387096774193548,
           0.10580645161290321,
           0.13774193548387098,
           0.16967741935483874,
           0.20161290322580644,
           0.2335483870967742,
           0.26548387096774195,
           0.2974193548387097
          ]
         },
         "orientation": "h",
         "type": "sankey"
        }
       ],
       "layout": {
        "autosize": false,
        "height": 6200,
        "margin": {
         "b": 100,
         "l": 50,
         "r": 200,
         "t": 2000
        },
        "template": {
         "data": {
          "bar": [
           {
            "error_x": {
             "color": "#2a3f5f"
            },
            "error_y": {
             "color": "#2a3f5f"
            },
            "marker": {
             "line": {
              "color": "#E5ECF6",
              "width": 0.5
             },
             "pattern": {
              "fillmode": "overlay",
              "size": 10,
              "solidity": 0.2
             }
            },
            "type": "bar"
           }
          ],
          "barpolar": [
           {
            "marker": {
             "line": {
              "color": "#E5ECF6",
              "width": 0.5
             },
             "pattern": {
              "fillmode": "overlay",
              "size": 10,
              "solidity": 0.2
             }
            },
            "type": "barpolar"
           }
          ],
          "carpet": [
           {
            "aaxis": {
             "endlinecolor": "#2a3f5f",
             "gridcolor": "white",
             "linecolor": "white",
             "minorgridcolor": "white",
             "startlinecolor": "#2a3f5f"
            },
            "baxis": {
             "endlinecolor": "#2a3f5f",
             "gridcolor": "white",
             "linecolor": "white",
             "minorgridcolor": "white",
             "startlinecolor": "#2a3f5f"
            },
            "type": "carpet"
           }
          ],
          "choropleth": [
           {
            "colorbar": {
             "outlinewidth": 0,
             "ticks": ""
            },
            "type": "choropleth"
           }
          ],
          "contour": [
           {
            "colorbar": {
             "outlinewidth": 0,
             "ticks": ""
            },
            "colorscale": [
             [
              0,
              "#0d0887"
             ],
             [
              0.1111111111111111,
              "#46039f"
             ],
             [
              0.2222222222222222,
              "#7201a8"
             ],
             [
              0.3333333333333333,
              "#9c179e"
             ],
             [
              0.4444444444444444,
              "#bd3786"
             ],
             [
              0.5555555555555556,
              "#d8576b"
             ],
             [
              0.6666666666666666,
              "#ed7953"
             ],
             [
              0.7777777777777778,
              "#fb9f3a"
             ],
             [
              0.8888888888888888,
              "#fdca26"
             ],
             [
              1,
              "#f0f921"
             ]
            ],
            "type": "contour"
           }
          ],
          "contourcarpet": [
           {
            "colorbar": {
             "outlinewidth": 0,
             "ticks": ""
            },
            "type": "contourcarpet"
           }
          ],
          "heatmap": [
           {
            "colorbar": {
             "outlinewidth": 0,
             "ticks": ""
            },
            "colorscale": [
             [
              0,
              "#0d0887"
             ],
             [
              0.1111111111111111,
              "#46039f"
             ],
             [
              0.2222222222222222,
              "#7201a8"
             ],
             [
              0.3333333333333333,
              "#9c179e"
             ],
             [
              0.4444444444444444,
              "#bd3786"
             ],
             [
              0.5555555555555556,
              "#d8576b"
             ],
             [
              0.6666666666666666,
              "#ed7953"
             ],
             [
              0.7777777777777778,
              "#fb9f3a"
             ],
             [
              0.8888888888888888,
              "#fdca26"
             ],
             [
              1,
              "#f0f921"
             ]
            ],
            "type": "heatmap"
           }
          ],
          "heatmapgl": [
           {
            "colorbar": {
             "outlinewidth": 0,
             "ticks": ""
            },
            "colorscale": [
             [
              0,
              "#0d0887"
             ],
             [
              0.1111111111111111,
              "#46039f"
             ],
             [
              0.2222222222222222,
              "#7201a8"
             ],
             [
              0.3333333333333333,
              "#9c179e"
             ],
             [
              0.4444444444444444,
              "#bd3786"
             ],
             [
              0.5555555555555556,
              "#d8576b"
             ],
             [
              0.6666666666666666,
              "#ed7953"
             ],
             [
              0.7777777777777778,
              "#fb9f3a"
             ],
             [
              0.8888888888888888,
              "#fdca26"
             ],
             [
              1,
              "#f0f921"
             ]
            ],
            "type": "heatmapgl"
           }
          ],
          "histogram": [
           {
            "marker": {
             "pattern": {
              "fillmode": "overlay",
              "size": 10,
              "solidity": 0.2
             }
            },
            "type": "histogram"
           }
          ],
          "histogram2d": [
           {
            "colorbar": {
             "outlinewidth": 0,
             "ticks": ""
            },
            "colorscale": [
             [
              0,
              "#0d0887"
             ],
             [
              0.1111111111111111,
              "#46039f"
             ],
             [
              0.2222222222222222,
              "#7201a8"
             ],
             [
              0.3333333333333333,
              "#9c179e"
             ],
             [
              0.4444444444444444,
              "#bd3786"
             ],
             [
              0.5555555555555556,
              "#d8576b"
             ],
             [
              0.6666666666666666,
              "#ed7953"
             ],
             [
              0.7777777777777778,
              "#fb9f3a"
             ],
             [
              0.8888888888888888,
              "#fdca26"
             ],
             [
              1,
              "#f0f921"
             ]
            ],
            "type": "histogram2d"
           }
          ],
          "histogram2dcontour": [
           {
            "colorbar": {
             "outlinewidth": 0,
             "ticks": ""
            },
            "colorscale": [
             [
              0,
              "#0d0887"
             ],
             [
              0.1111111111111111,
              "#46039f"
             ],
             [
              0.2222222222222222,
              "#7201a8"
             ],
             [
              0.3333333333333333,
              "#9c179e"
             ],
             [
              0.4444444444444444,
              "#bd3786"
             ],
             [
              0.5555555555555556,
              "#d8576b"
             ],
             [
              0.6666666666666666,
              "#ed7953"
             ],
             [
              0.7777777777777778,
              "#fb9f3a"
             ],
             [
              0.8888888888888888,
              "#fdca26"
             ],
             [
              1,
              "#f0f921"
             ]
            ],
            "type": "histogram2dcontour"
           }
          ],
          "mesh3d": [
           {
            "colorbar": {
             "outlinewidth": 0,
             "ticks": ""
            },
            "type": "mesh3d"
           }
          ],
          "parcoords": [
           {
            "line": {
             "colorbar": {
              "outlinewidth": 0,
              "ticks": ""
             }
            },
            "type": "parcoords"
           }
          ],
          "pie": [
           {
            "automargin": true,
            "type": "pie"
           }
          ],
          "scatter": [
           {
            "fillpattern": {
             "fillmode": "overlay",
             "size": 10,
             "solidity": 0.2
            },
            "type": "scatter"
           }
          ],
          "scatter3d": [
           {
            "line": {
             "colorbar": {
              "outlinewidth": 0,
              "ticks": ""
             }
            },
            "marker": {
             "colorbar": {
              "outlinewidth": 0,
              "ticks": ""
             }
            },
            "type": "scatter3d"
           }
          ],
          "scattercarpet": [
           {
            "marker": {
             "colorbar": {
              "outlinewidth": 0,
              "ticks": ""
             }
            },
            "type": "scattercarpet"
           }
          ],
          "scattergeo": [
           {
            "marker": {
             "colorbar": {
              "outlinewidth": 0,
              "ticks": ""
             }
            },
            "type": "scattergeo"
           }
          ],
          "scattergl": [
           {
            "marker": {
             "colorbar": {
              "outlinewidth": 0,
              "ticks": ""
             }
            },
            "type": "scattergl"
           }
          ],
          "scattermapbox": [
           {
            "marker": {
             "colorbar": {
              "outlinewidth": 0,
              "ticks": ""
             }
            },
            "type": "scattermapbox"
           }
          ],
          "scatterpolar": [
           {
            "marker": {
             "colorbar": {
              "outlinewidth": 0,
              "ticks": ""
             }
            },
            "type": "scatterpolar"
           }
          ],
          "scatterpolargl": [
           {
            "marker": {
             "colorbar": {
              "outlinewidth": 0,
              "ticks": ""
             }
            },
            "type": "scatterpolargl"
           }
          ],
          "scatterternary": [
           {
            "marker": {
             "colorbar": {
              "outlinewidth": 0,
              "ticks": ""
             }
            },
            "type": "scatterternary"
           }
          ],
          "surface": [
           {
            "colorbar": {
             "outlinewidth": 0,
             "ticks": ""
            },
            "colorscale": [
             [
              0,
              "#0d0887"
             ],
             [
              0.1111111111111111,
              "#46039f"
             ],
             [
              0.2222222222222222,
              "#7201a8"
             ],
             [
              0.3333333333333333,
              "#9c179e"
             ],
             [
              0.4444444444444444,
              "#bd3786"
             ],
             [
              0.5555555555555556,
              "#d8576b"
             ],
             [
              0.6666666666666666,
              "#ed7953"
             ],
             [
              0.7777777777777778,
              "#fb9f3a"
             ],
             [
              0.8888888888888888,
              "#fdca26"
             ],
             [
              1,
              "#f0f921"
             ]
            ],
            "type": "surface"
           }
          ],
          "table": [
           {
            "cells": {
             "fill": {
              "color": "#EBF0F8"
             },
             "line": {
              "color": "white"
             }
            },
            "header": {
             "fill": {
              "color": "#C8D4E3"
             },
             "line": {
              "color": "white"
             }
            },
            "type": "table"
           }
          ]
         },
         "layout": {
          "annotationdefaults": {
           "arrowcolor": "#2a3f5f",
           "arrowhead": 0,
           "arrowwidth": 1
          },
          "autotypenumbers": "strict",
          "coloraxis": {
           "colorbar": {
            "outlinewidth": 0,
            "ticks": ""
           }
          },
          "colorscale": {
           "diverging": [
            [
             0,
             "#8e0152"
            ],
            [
             0.1,
             "#c51b7d"
            ],
            [
             0.2,
             "#de77ae"
            ],
            [
             0.3,
             "#f1b6da"
            ],
            [
             0.4,
             "#fde0ef"
            ],
            [
             0.5,
             "#f7f7f7"
            ],
            [
             0.6,
             "#e6f5d0"
            ],
            [
             0.7,
             "#b8e186"
            ],
            [
             0.8,
             "#7fbc41"
            ],
            [
             0.9,
             "#4d9221"
            ],
            [
             1,
             "#276419"
            ]
           ],
           "sequential": [
            [
             0,
             "#0d0887"
            ],
            [
             0.1111111111111111,
             "#46039f"
            ],
            [
             0.2222222222222222,
             "#7201a8"
            ],
            [
             0.3333333333333333,
             "#9c179e"
            ],
            [
             0.4444444444444444,
             "#bd3786"
            ],
            [
             0.5555555555555556,
             "#d8576b"
            ],
            [
             0.6666666666666666,
             "#ed7953"
            ],
            [
             0.7777777777777778,
             "#fb9f3a"
            ],
            [
             0.8888888888888888,
             "#fdca26"
            ],
            [
             1,
             "#f0f921"
            ]
           ],
           "sequentialminus": [
            [
             0,
             "#0d0887"
            ],
            [
             0.1111111111111111,
             "#46039f"
            ],
            [
             0.2222222222222222,
             "#7201a8"
            ],
            [
             0.3333333333333333,
             "#9c179e"
            ],
            [
             0.4444444444444444,
             "#bd3786"
            ],
            [
             0.5555555555555556,
             "#d8576b"
            ],
            [
             0.6666666666666666,
             "#ed7953"
            ],
            [
             0.7777777777777778,
             "#fb9f3a"
            ],
            [
             0.8888888888888888,
             "#fdca26"
            ],
            [
             1,
             "#f0f921"
            ]
           ]
          },
          "colorway": [
           "#636efa",
           "#EF553B",
           "#00cc96",
           "#ab63fa",
           "#FFA15A",
           "#19d3f3",
           "#FF6692",
           "#B6E880",
           "#FF97FF",
           "#FECB52"
          ],
          "font": {
           "color": "#2a3f5f"
          },
          "geo": {
           "bgcolor": "white",
           "lakecolor": "white",
           "landcolor": "#E5ECF6",
           "showlakes": true,
           "showland": true,
           "subunitcolor": "white"
          },
          "hoverlabel": {
           "align": "left"
          },
          "hovermode": "closest",
          "mapbox": {
           "style": "light"
          },
          "paper_bgcolor": "white",
          "plot_bgcolor": "#E5ECF6",
          "polar": {
           "angularaxis": {
            "gridcolor": "white",
            "linecolor": "white",
            "ticks": ""
           },
           "bgcolor": "#E5ECF6",
           "radialaxis": {
            "gridcolor": "white",
            "linecolor": "white",
            "ticks": ""
           }
          },
          "scene": {
           "xaxis": {
            "backgroundcolor": "#E5ECF6",
            "gridcolor": "white",
            "gridwidth": 2,
            "linecolor": "white",
            "showbackground": true,
            "ticks": "",
            "zerolinecolor": "white"
           },
           "yaxis": {
            "backgroundcolor": "#E5ECF6",
            "gridcolor": "white",
            "gridwidth": 2,
            "linecolor": "white",
            "showbackground": true,
            "ticks": "",
            "zerolinecolor": "white"
           },
           "zaxis": {
            "backgroundcolor": "#E5ECF6",
            "gridcolor": "white",
            "gridwidth": 2,
            "linecolor": "white",
            "showbackground": true,
            "ticks": "",
            "zerolinecolor": "white"
           }
          },
          "shapedefaults": {
           "line": {
            "color": "#2a3f5f"
           }
          },
          "ternary": {
           "aaxis": {
            "gridcolor": "white",
            "linecolor": "white",
            "ticks": ""
           },
           "baxis": {
            "gridcolor": "white",
            "linecolor": "white",
            "ticks": ""
           },
           "bgcolor": "#E5ECF6",
           "caxis": {
            "gridcolor": "white",
            "linecolor": "white",
            "ticks": ""
           }
          },
          "title": {
           "x": 0.05
          },
          "xaxis": {
           "automargin": true,
           "gridcolor": "white",
           "linecolor": "white",
           "ticks": "",
           "title": {
            "standoff": 15
           },
           "zerolinecolor": "white",
           "zerolinewidth": 2
          },
          "yaxis": {
           "automargin": true,
           "gridcolor": "white",
           "linecolor": "white",
           "ticks": "",
           "title": {
            "standoff": 15
           },
           "zerolinecolor": "white",
           "zerolinewidth": 2
          }
         }
        },
        "width": 4400
       }
      }
     },
     "metadata": {},
     "output_type": "display_data"
    },
    {
     "name": "stdout",
     "output_type": "stream",
     "text": [
      "saved to : ../example_stat/seq9f9s/vol-5s-seq9f9s-sankey.html\n"
     ]
    }
   ],
   "source": [
    "fig.update_layout(\n",
    "    autosize=False,\n",
    "    width=4400,\n",
    "    height=6200,\n",
    "    margin=dict(\n",
    "        l=50,\n",
    "        r=200,\n",
    "        b=100,\n",
    "        t=2000,\n",
    "    ),\n",
    ")\n",
    "fig.show()\n",
    "\n",
    "saved_image_path = f\"{stat_path}/vol-{(SELECT_STAGE_END+1)}s-{test_name}-sankey.html\"\n",
    "\n",
    "fig.write_html(saved_image_path)\n",
    "print(f\"saved to : {saved_image_path}\")"
   ]
  },
  {
   "cell_type": "code",
   "execution_count": null,
   "metadata": {},
   "outputs": [
    {
     "name": "stdout",
     "output_type": "stream",
     "text": [
      "label : ['trackstats_20150506.0000_20150506.0800.nc', 'tracks-read', 'run_trackstats', 'times-read', 'track_duration-read', 'base_time-read', 'meanlat-read', 'meanlon-read', 'area-read', 'cloudnumber-read', 'track_status-read', 'track_interruptions-read', 'merge_tracknumbers-read', 'split_tracknumbers-read', 'core_area-read', 'cold_area-read', 'corecold_mintb-read', 'corecold_meantb-read', 'core_meantb-read', 'lat_mintb-read', 'lon_mintb-read', 'start_status-read', 'end_status-read', 'start_basetime-read', 'end_basetime-read', 'start_split_tracknumber-read', 'start_split_timeindex-read', 'start_split_cloudnumber-read', 'end_merge_tracknumber-read', 'end_merge_timeindex-read', 'end_merge_cloudnumber-read', 'trackstats_sparse_20150506.0000_20150506.0800.nc', 'sparse_index-read', 'tracks_indices-read', 'times_indices-read', 'mcs_tracks_20150506.0000_20150506.0800.nc', 'run_identifymcs', 'mergers-read', 'merge_cloudnumber-read', 'split_ccs_area-read', 'split_cloudnumber-read', 'merge_ccs_area-read', 'mcs_duration-write', 'mcs_status-write', 'ccs_area-write', 'tracknumbers_20150506.0000_20150506.0800.nc', 'cloudid_20150506_000000.nc', 'cloudid_20150506_010000.nc', 'cloudid_20150506_020000.nc', 'cloudid_20150506_030000.nc', 'cloudid_20150506_040000.nc', 'cloudid_20150506_050000.nc', 'cloudid_20150506_060000.nc', 'cloudid_20150506_070000.nc', 'cloudid_20150506_080000.nc']\n",
      "color : ['MediumBlue', 'Gold', 'Red', 'Gold', 'Gold', 'Gold', 'Gold', 'Gold', 'Gold', 'Gold', 'Gold', 'Gold', 'Gold', 'Gold', 'Gold', 'Gold', 'Gold', 'Gold', 'Gold', 'Gold', 'Gold', 'Gold', 'Gold', 'Gold', 'Gold', 'Gold', 'Gold', 'Gold', 'Gold', 'Gold', 'Gold', 'MediumBlue', 'Gold', 'Gold', 'Gold', 'MediumBlue', 'Red', 'Gold', 'Gold', 'Gold', 'Gold', 'Gold', 'Gold', 'Gold', 'Gold', 'MediumBlue', 'MediumBlue', 'MediumBlue', 'MediumBlue', 'MediumBlue', 'MediumBlue', 'MediumBlue', 'MediumBlue', 'MediumBlue', 'MediumBlue']\n",
      "x : [0.7000000000000001, 0.0, 0.4, 0.0, 0.0, 0.0, 0.0, 0.0, 0.0, 0.0, 0.0, 0.0, 0.0, 0.0, 0.0, 0.0, 0.0, 0.0, 0.0, 0.0, 0.0, 0.0, 0.0, 0.0, 0.0, 0.0, 0.0, 0.0, 0.0, 0.0, 0.0, 0.4, 0.0, 0.0, 0.0, 1.0, 0.7000000000000001, 0.0, 0.0, 0.0, 0.0, 0.0, 0.8, 0.785, 0.77, 0.1, 0.1, 0.1, 0.1, 0.1, 0.1, 0.1, 0.1, 0.1, 0.1]\n",
      "y : [0.01, 0.01, 0.01, 0.041935483870967745, 0.07387096774193548, 0.10580645161290321, 0.13774193548387098, 0.16967741935483874, 0.20161290322580644, 0.2335483870967742, 0.26548387096774195, 0.2974193548387097, 0.32935483870967747, 0.3612903225806452, 0.39322580645161287, 0.42516129032258065, 0.4570967741935484, 0.4890322580645161, 0.5209677419354839, 0.5529032258064516, 0.5848387096774194, 0.616774193548387, 0.6487096774193549, 0.6806451612903226, 0.7125806451612904, 0.7445161290322581, 0.7764516129032257, 0.8083870967741935, 0.8403225806451613, 0.8722580645161291, 0.9041935483870968, 0.01, 0.9361290322580645, 0.9680645161290322, 1.0, 0.01, 0.01, 0.01, 0.041935483870967745, 0.07387096774193548, 0.10580645161290321, 0.13774193548387098, 0.01, 0.041935483870967745, 0.07387096774193548, 0.01, 0.041935483870967745, 0.07387096774193548, 0.10580645161290321, 0.13774193548387098, 0.16967741935483874, 0.20161290322580644, 0.2335483870967742, 0.26548387096774195, 0.2974193548387097]\n",
      "\n",
      "\n",
      "trackstats_20150506.0000_20150506.0800.nc : {'idx': 0, 'type': 'file'}\n",
      "tracks-read : {'idx': 1, 'type': 'dataset'}\n",
      "run_trackstats : {'idx': 2, 'type': 'task'}\n",
      "times-read : {'idx': 3, 'type': 'dataset'}\n",
      "track_duration-read : {'idx': 4, 'type': 'dataset'}\n",
      "base_time-read : {'idx': 5, 'type': 'dataset'}\n",
      "meanlat-read : {'idx': 6, 'type': 'dataset'}\n",
      "meanlon-read : {'idx': 7, 'type': 'dataset'}\n",
      "area-read : {'idx': 8, 'type': 'dataset'}\n",
      "cloudnumber-read : {'idx': 9, 'type': 'dataset'}\n",
      "track_status-read : {'idx': 10, 'type': 'dataset'}\n",
      "track_interruptions-read : {'idx': 11, 'type': 'dataset'}\n",
      "wanted_nodes_index: [0, 1, 2, 3, 4, 5, 6, 7, 8, 9, 10, 11]\n",
      "New nodes: \n",
      "label : ['trackstats_20150506.0000_20150506.0800.nc', 'tracks-read', 'run_trackstats', 'times-read', 'track_duration-read', 'base_time-read', 'meanlat-read', 'meanlon-read', 'area-read', 'cloudnumber-read', 'track_status-read', 'track_interruptions-read']\n",
      "color : ['MediumBlue', 'Gold', 'Red', 'Gold', 'Gold', 'Gold', 'Gold', 'Gold', 'Gold', 'Gold', 'Gold', 'Gold']\n",
      "x : [0.7000000000000001, 0.0, 0.4, 0.0, 0.0, 0.0, 0.0, 0.0, 0.0, 0.0, 0.0, 0.0]\n",
      "y : [0.01, 0.01, 0.01, 0.041935483870967745, 0.07387096774193548, 0.10580645161290321, 0.13774193548387098, 0.16967741935483874, 0.20161290322580644, 0.2335483870967742, 0.26548387096774195, 0.2974193548387097]\n"
     ]
    }
   ],
   "source": [
    "DATASET_LIMIT = 10\n",
    "\n",
    "for node, node_attr in vol_nodes.items():\n",
    "    print(f\"{node} : {node_attr}\")\n",
    "\n",
    "print()\n",
    "\n",
    "vol_nodes_new_dict = {}\n",
    "dset_count = 0\n",
    "\n",
    "for node, attr in vol_nodes_dict.items():    \n",
    "    vol_nodes_new_dict[node] = attr\n",
    "    # print(f\"{node} : {attr}\")\n",
    "    if attr['type'] == 'dataset':\n",
    "        dset_count+=1\n",
    "    if dset_count >= DATASET_LIMIT:\n",
    "        break\n",
    "\n",
    "print()\n",
    "        \n",
    "for node, attr in vol_nodes_new_dict.items():\n",
    "    print(f\"{node} : {attr}\")\n",
    "\n",
    "# get index of selected nodes\n",
    "wanted_nodes_index = []\n",
    "for idx, node in enumerate(vol_nodes['label']):\n",
    "    if node in vol_nodes_new_dict.keys():\n",
    "        wanted_nodes_index.append(idx)\n",
    "\n",
    "print(f\"wanted_nodes_index: {wanted_nodes_index}\")\n",
    "\n",
    "# select wanted nodes with attributes\n",
    "vol_new_nodes = {}\n",
    "for key, val in vol_nodes.items():\n",
    "    vol_new_nodes[key] = [val[i] for i in wanted_nodes_index]\n",
    "\n",
    "print(f\"New nodes: \")\n",
    "for node, node_attr in vol_new_nodes.items():\n",
    "    print(f\"{node} : {node_attr}\")\n",
    "\n",
    "# # select wanted links with attributes\n",
    "# vol_new_links = {}\n",
    "# for key, val in vol_links.items():\n",
    "#     vol_new_links[key] = [val[i] for i in wanted_nodes_index]\n",
    "\n",
    "# print(f\"New links: \")\n",
    "# for link, attr in vol_new_links.items():\n",
    "#     print(f\"{link} : {attr}\")\n",
    "\n"
   ]
  },
  {
   "cell_type": "code",
   "execution_count": null,
   "metadata": {},
   "outputs": [
    {
     "name": "stdout",
     "output_type": "stream",
     "text": [
      "bandwidth range: 0 ~ 0\n"
     ]
    },
    {
     "data": {
      "application/vnd.plotly.v1+json": {
       "config": {
        "plotlyServerURL": "https://plot.ly"
       },
       "data": [
        {
         "link": {
          "color": [
           "rgba(83.33333333333333, 123.33333333333333, 153.33333333333331, 0.9)",
           "rgba(83.33333333333333, 123.33333333333333, 153.33333333333331, 0.9)",
           "rgba(83.33333333333333, 123.33333333333333, 153.33333333333331, 0.9)",
           "rgba(83.33333333333333, 123.33333333333333, 153.33333333333331, 0.9)",
           "rgba(83.33333333333333, 123.33333333333333, 153.33333333333331, 0.9)",
           "rgba(83.33333333333333, 123.33333333333333, 153.33333333333331, 0.9)",
           "rgba(83.33333333333333, 123.33333333333333, 153.33333333333331, 0.9)",
           "rgba(83.33333333333333, 123.33333333333333, 153.33333333333331, 0.9)",
           "rgba(83.33333333333333, 123.33333333333333, 153.33333333333331, 0.9)",
           "rgba(83.33333333333333, 123.33333333333333, 153.33333333333331, 0.9)",
           "rgba(83.33333333333333, 123.33333333333333, 153.33333333333331, 0.9)",
           "rgba(83.33333333333333, 123.33333333333333, 153.33333333333331, 0.9)",
           "rgba(83.33333333333333, 123.33333333333333, 153.33333333333331, 0.9)",
           "rgba(83.33333333333333, 123.33333333333333, 153.33333333333331, 0.9)",
           "rgba(83.33333333333333, 123.33333333333333, 153.33333333333331, 0.9)",
           "rgba(83.33333333333333, 123.33333333333333, 153.33333333333331, 0.9)",
           "rgba(83.33333333333333, 123.33333333333333, 153.33333333333331, 0.9)",
           "rgba(83.33333333333333, 123.33333333333333, 153.33333333333331, 0.9)",
           "rgba(83.33333333333333, 123.33333333333333, 153.33333333333331, 0.9)",
           "rgba(83.33333333333333, 123.33333333333333, 153.33333333333331, 0.9)"
          ],
          "label": [
           "Access Volume : 0 <br />Access Count : 31 <br />Average Access Size : 0 <br />Operation : read_only<br />Bandwidth : 0",
           "Access Volume : 0 <br />Access Count : 1 <br />Average Access Size : 0 <br />Operation : read_write<br />Bandwidth : 0",
           "Access Volume : 0 <br />Access Count : 1 <br />Average Access Size : 0 <br />Operation : read_write<br />Bandwidth : 0",
           "Access Volume : 0 <br />Access Count : 1 <br />Average Access Size : 0 <br />Operation : read_write<br />Bandwidth : 0",
           "Access Volume : 0 <br />Access Count : 1 <br />Average Access Size : 0 <br />Operation : read_write<br />Bandwidth : 0",
           "Access Volume : 0 <br />Access Count : 1 <br />Average Access Size : 0 <br />Operation : read_write<br />Bandwidth : 0",
           "Access Volume : 0 <br />Access Count : 1 <br />Average Access Size : 0 <br />Operation : read_write<br />Bandwidth : 0",
           "Access Volume : 0 <br />Access Count : 1 <br />Average Access Size : 0 <br />Operation : read_write<br />Bandwidth : 0",
           "Access Volume : 0 <br />Access Count : 1 <br />Average Access Size : 0 <br />Operation : read_write<br />Bandwidth : 0",
           "Access Volume : 0 <br />Access Count : 1 <br />Average Access Size : 0 <br />Operation : read_write<br />Bandwidth : 0",
           "Access Volume : 0 <br />Access Count : 31 <br />Average Access Size : 0 <br />Operation : read_only<br />Bandwidth : 0",
           "Access Volume : 0 <br />Access Count : 1 <br />Average Access Size : 0 <br />Operation : read_write<br />Bandwidth : 0",
           "Access Volume : 0 <br />Access Count : 1 <br />Average Access Size : 0 <br />Operation : read_write<br />Bandwidth : 0",
           "Access Volume : 0 <br />Access Count : 1 <br />Average Access Size : 0 <br />Operation : read_write<br />Bandwidth : 0",
           "Access Volume : 0 <br />Access Count : 1 <br />Average Access Size : 0 <br />Operation : read_write<br />Bandwidth : 0",
           "Access Volume : 0 <br />Access Count : 1 <br />Average Access Size : 0 <br />Operation : read_write<br />Bandwidth : 0",
           "Access Volume : 0 <br />Access Count : 1 <br />Average Access Size : 0 <br />Operation : read_write<br />Bandwidth : 0",
           "Access Volume : 0 <br />Access Count : 1 <br />Average Access Size : 0 <br />Operation : read_write<br />Bandwidth : 0",
           "Access Volume : 0 <br />Access Count : 1 <br />Average Access Size : 0 <br />Operation : read_write<br />Bandwidth : 0",
           "Access Volume : 0 <br />Access Count : 1 <br />Average Access Size : 0 <br />Operation : read_write<br />Bandwidth : 0"
          ],
          "source": [
           0,
           0,
           0,
           0,
           0,
           0,
           0,
           0,
           0,
           0,
           1,
           3,
           4,
           5,
           6,
           7,
           8,
           9,
           10,
           11
          ],
          "target": [
           1,
           3,
           4,
           5,
           6,
           7,
           8,
           9,
           10,
           11,
           2,
           2,
           2,
           2,
           2,
           2,
           2,
           2,
           2,
           2
          ],
          "value": [
           1,
           1,
           1,
           1,
           1,
           1,
           1,
           1,
           1,
           1,
           1,
           1,
           1,
           1,
           1,
           1,
           1,
           1,
           1,
           1
          ]
         },
         "node": {
          "color": [
           "MediumBlue",
           "Gold",
           "Red",
           "Gold",
           "Gold",
           "Gold",
           "Gold",
           "Gold",
           "Gold",
           "Gold",
           "Gold",
           "Gold"
          ],
          "label": [
           "trackstats_20150506.0000_20150506.0800.nc",
           "tracks-read",
           "run_trackstats",
           "times-read",
           "track_duration-read",
           "base_time-read",
           "meanlat-read",
           "meanlon-read",
           "area-read",
           "cloudnumber-read",
           "track_status-read",
           "track_interruptions-read"
          ],
          "x": [
           0.7000000000000001,
           0,
           0.4,
           0,
           0,
           0,
           0,
           0,
           0,
           0,
           0,
           0
          ],
          "y": [
           0.01,
           0.01,
           0.01,
           0.041935483870967745,
           0.07387096774193548,
           0.10580645161290321,
           0.13774193548387098,
           0.16967741935483874,
           0.20161290322580644,
           0.2335483870967742,
           0.26548387096774195,
           0.2974193548387097
          ]
         },
         "orientation": "h",
         "type": "sankey"
        }
       ],
       "layout": {
        "autosize": false,
        "font": {
         "size": 18
        },
        "height": 800,
        "margin": {
         "b": 50,
         "l": 10,
         "r": 50,
         "t": 250
        },
        "template": {
         "data": {
          "bar": [
           {
            "error_x": {
             "color": "#2a3f5f"
            },
            "error_y": {
             "color": "#2a3f5f"
            },
            "marker": {
             "line": {
              "color": "#E5ECF6",
              "width": 0.5
             },
             "pattern": {
              "fillmode": "overlay",
              "size": 10,
              "solidity": 0.2
             }
            },
            "type": "bar"
           }
          ],
          "barpolar": [
           {
            "marker": {
             "line": {
              "color": "#E5ECF6",
              "width": 0.5
             },
             "pattern": {
              "fillmode": "overlay",
              "size": 10,
              "solidity": 0.2
             }
            },
            "type": "barpolar"
           }
          ],
          "carpet": [
           {
            "aaxis": {
             "endlinecolor": "#2a3f5f",
             "gridcolor": "white",
             "linecolor": "white",
             "minorgridcolor": "white",
             "startlinecolor": "#2a3f5f"
            },
            "baxis": {
             "endlinecolor": "#2a3f5f",
             "gridcolor": "white",
             "linecolor": "white",
             "minorgridcolor": "white",
             "startlinecolor": "#2a3f5f"
            },
            "type": "carpet"
           }
          ],
          "choropleth": [
           {
            "colorbar": {
             "outlinewidth": 0,
             "ticks": ""
            },
            "type": "choropleth"
           }
          ],
          "contour": [
           {
            "colorbar": {
             "outlinewidth": 0,
             "ticks": ""
            },
            "colorscale": [
             [
              0,
              "#0d0887"
             ],
             [
              0.1111111111111111,
              "#46039f"
             ],
             [
              0.2222222222222222,
              "#7201a8"
             ],
             [
              0.3333333333333333,
              "#9c179e"
             ],
             [
              0.4444444444444444,
              "#bd3786"
             ],
             [
              0.5555555555555556,
              "#d8576b"
             ],
             [
              0.6666666666666666,
              "#ed7953"
             ],
             [
              0.7777777777777778,
              "#fb9f3a"
             ],
             [
              0.8888888888888888,
              "#fdca26"
             ],
             [
              1,
              "#f0f921"
             ]
            ],
            "type": "contour"
           }
          ],
          "contourcarpet": [
           {
            "colorbar": {
             "outlinewidth": 0,
             "ticks": ""
            },
            "type": "contourcarpet"
           }
          ],
          "heatmap": [
           {
            "colorbar": {
             "outlinewidth": 0,
             "ticks": ""
            },
            "colorscale": [
             [
              0,
              "#0d0887"
             ],
             [
              0.1111111111111111,
              "#46039f"
             ],
             [
              0.2222222222222222,
              "#7201a8"
             ],
             [
              0.3333333333333333,
              "#9c179e"
             ],
             [
              0.4444444444444444,
              "#bd3786"
             ],
             [
              0.5555555555555556,
              "#d8576b"
             ],
             [
              0.6666666666666666,
              "#ed7953"
             ],
             [
              0.7777777777777778,
              "#fb9f3a"
             ],
             [
              0.8888888888888888,
              "#fdca26"
             ],
             [
              1,
              "#f0f921"
             ]
            ],
            "type": "heatmap"
           }
          ],
          "heatmapgl": [
           {
            "colorbar": {
             "outlinewidth": 0,
             "ticks": ""
            },
            "colorscale": [
             [
              0,
              "#0d0887"
             ],
             [
              0.1111111111111111,
              "#46039f"
             ],
             [
              0.2222222222222222,
              "#7201a8"
             ],
             [
              0.3333333333333333,
              "#9c179e"
             ],
             [
              0.4444444444444444,
              "#bd3786"
             ],
             [
              0.5555555555555556,
              "#d8576b"
             ],
             [
              0.6666666666666666,
              "#ed7953"
             ],
             [
              0.7777777777777778,
              "#fb9f3a"
             ],
             [
              0.8888888888888888,
              "#fdca26"
             ],
             [
              1,
              "#f0f921"
             ]
            ],
            "type": "heatmapgl"
           }
          ],
          "histogram": [
           {
            "marker": {
             "pattern": {
              "fillmode": "overlay",
              "size": 10,
              "solidity": 0.2
             }
            },
            "type": "histogram"
           }
          ],
          "histogram2d": [
           {
            "colorbar": {
             "outlinewidth": 0,
             "ticks": ""
            },
            "colorscale": [
             [
              0,
              "#0d0887"
             ],
             [
              0.1111111111111111,
              "#46039f"
             ],
             [
              0.2222222222222222,
              "#7201a8"
             ],
             [
              0.3333333333333333,
              "#9c179e"
             ],
             [
              0.4444444444444444,
              "#bd3786"
             ],
             [
              0.5555555555555556,
              "#d8576b"
             ],
             [
              0.6666666666666666,
              "#ed7953"
             ],
             [
              0.7777777777777778,
              "#fb9f3a"
             ],
             [
              0.8888888888888888,
              "#fdca26"
             ],
             [
              1,
              "#f0f921"
             ]
            ],
            "type": "histogram2d"
           }
          ],
          "histogram2dcontour": [
           {
            "colorbar": {
             "outlinewidth": 0,
             "ticks": ""
            },
            "colorscale": [
             [
              0,
              "#0d0887"
             ],
             [
              0.1111111111111111,
              "#46039f"
             ],
             [
              0.2222222222222222,
              "#7201a8"
             ],
             [
              0.3333333333333333,
              "#9c179e"
             ],
             [
              0.4444444444444444,
              "#bd3786"
             ],
             [
              0.5555555555555556,
              "#d8576b"
             ],
             [
              0.6666666666666666,
              "#ed7953"
             ],
             [
              0.7777777777777778,
              "#fb9f3a"
             ],
             [
              0.8888888888888888,
              "#fdca26"
             ],
             [
              1,
              "#f0f921"
             ]
            ],
            "type": "histogram2dcontour"
           }
          ],
          "mesh3d": [
           {
            "colorbar": {
             "outlinewidth": 0,
             "ticks": ""
            },
            "type": "mesh3d"
           }
          ],
          "parcoords": [
           {
            "line": {
             "colorbar": {
              "outlinewidth": 0,
              "ticks": ""
             }
            },
            "type": "parcoords"
           }
          ],
          "pie": [
           {
            "automargin": true,
            "type": "pie"
           }
          ],
          "scatter": [
           {
            "fillpattern": {
             "fillmode": "overlay",
             "size": 10,
             "solidity": 0.2
            },
            "type": "scatter"
           }
          ],
          "scatter3d": [
           {
            "line": {
             "colorbar": {
              "outlinewidth": 0,
              "ticks": ""
             }
            },
            "marker": {
             "colorbar": {
              "outlinewidth": 0,
              "ticks": ""
             }
            },
            "type": "scatter3d"
           }
          ],
          "scattercarpet": [
           {
            "marker": {
             "colorbar": {
              "outlinewidth": 0,
              "ticks": ""
             }
            },
            "type": "scattercarpet"
           }
          ],
          "scattergeo": [
           {
            "marker": {
             "colorbar": {
              "outlinewidth": 0,
              "ticks": ""
             }
            },
            "type": "scattergeo"
           }
          ],
          "scattergl": [
           {
            "marker": {
             "colorbar": {
              "outlinewidth": 0,
              "ticks": ""
             }
            },
            "type": "scattergl"
           }
          ],
          "scattermapbox": [
           {
            "marker": {
             "colorbar": {
              "outlinewidth": 0,
              "ticks": ""
             }
            },
            "type": "scattermapbox"
           }
          ],
          "scatterpolar": [
           {
            "marker": {
             "colorbar": {
              "outlinewidth": 0,
              "ticks": ""
             }
            },
            "type": "scatterpolar"
           }
          ],
          "scatterpolargl": [
           {
            "marker": {
             "colorbar": {
              "outlinewidth": 0,
              "ticks": ""
             }
            },
            "type": "scatterpolargl"
           }
          ],
          "scatterternary": [
           {
            "marker": {
             "colorbar": {
              "outlinewidth": 0,
              "ticks": ""
             }
            },
            "type": "scatterternary"
           }
          ],
          "surface": [
           {
            "colorbar": {
             "outlinewidth": 0,
             "ticks": ""
            },
            "colorscale": [
             [
              0,
              "#0d0887"
             ],
             [
              0.1111111111111111,
              "#46039f"
             ],
             [
              0.2222222222222222,
              "#7201a8"
             ],
             [
              0.3333333333333333,
              "#9c179e"
             ],
             [
              0.4444444444444444,
              "#bd3786"
             ],
             [
              0.5555555555555556,
              "#d8576b"
             ],
             [
              0.6666666666666666,
              "#ed7953"
             ],
             [
              0.7777777777777778,
              "#fb9f3a"
             ],
             [
              0.8888888888888888,
              "#fdca26"
             ],
             [
              1,
              "#f0f921"
             ]
            ],
            "type": "surface"
           }
          ],
          "table": [
           {
            "cells": {
             "fill": {
              "color": "#EBF0F8"
             },
             "line": {
              "color": "white"
             }
            },
            "header": {
             "fill": {
              "color": "#C8D4E3"
             },
             "line": {
              "color": "white"
             }
            },
            "type": "table"
           }
          ]
         },
         "layout": {
          "annotationdefaults": {
           "arrowcolor": "#2a3f5f",
           "arrowhead": 0,
           "arrowwidth": 1
          },
          "autotypenumbers": "strict",
          "coloraxis": {
           "colorbar": {
            "outlinewidth": 0,
            "ticks": ""
           }
          },
          "colorscale": {
           "diverging": [
            [
             0,
             "#8e0152"
            ],
            [
             0.1,
             "#c51b7d"
            ],
            [
             0.2,
             "#de77ae"
            ],
            [
             0.3,
             "#f1b6da"
            ],
            [
             0.4,
             "#fde0ef"
            ],
            [
             0.5,
             "#f7f7f7"
            ],
            [
             0.6,
             "#e6f5d0"
            ],
            [
             0.7,
             "#b8e186"
            ],
            [
             0.8,
             "#7fbc41"
            ],
            [
             0.9,
             "#4d9221"
            ],
            [
             1,
             "#276419"
            ]
           ],
           "sequential": [
            [
             0,
             "#0d0887"
            ],
            [
             0.1111111111111111,
             "#46039f"
            ],
            [
             0.2222222222222222,
             "#7201a8"
            ],
            [
             0.3333333333333333,
             "#9c179e"
            ],
            [
             0.4444444444444444,
             "#bd3786"
            ],
            [
             0.5555555555555556,
             "#d8576b"
            ],
            [
             0.6666666666666666,
             "#ed7953"
            ],
            [
             0.7777777777777778,
             "#fb9f3a"
            ],
            [
             0.8888888888888888,
             "#fdca26"
            ],
            [
             1,
             "#f0f921"
            ]
           ],
           "sequentialminus": [
            [
             0,
             "#0d0887"
            ],
            [
             0.1111111111111111,
             "#46039f"
            ],
            [
             0.2222222222222222,
             "#7201a8"
            ],
            [
             0.3333333333333333,
             "#9c179e"
            ],
            [
             0.4444444444444444,
             "#bd3786"
            ],
            [
             0.5555555555555556,
             "#d8576b"
            ],
            [
             0.6666666666666666,
             "#ed7953"
            ],
            [
             0.7777777777777778,
             "#fb9f3a"
            ],
            [
             0.8888888888888888,
             "#fdca26"
            ],
            [
             1,
             "#f0f921"
            ]
           ]
          },
          "colorway": [
           "#636efa",
           "#EF553B",
           "#00cc96",
           "#ab63fa",
           "#FFA15A",
           "#19d3f3",
           "#FF6692",
           "#B6E880",
           "#FF97FF",
           "#FECB52"
          ],
          "font": {
           "color": "#2a3f5f"
          },
          "geo": {
           "bgcolor": "white",
           "lakecolor": "white",
           "landcolor": "#E5ECF6",
           "showlakes": true,
           "showland": true,
           "subunitcolor": "white"
          },
          "hoverlabel": {
           "align": "left"
          },
          "hovermode": "closest",
          "mapbox": {
           "style": "light"
          },
          "paper_bgcolor": "white",
          "plot_bgcolor": "#E5ECF6",
          "polar": {
           "angularaxis": {
            "gridcolor": "white",
            "linecolor": "white",
            "ticks": ""
           },
           "bgcolor": "#E5ECF6",
           "radialaxis": {
            "gridcolor": "white",
            "linecolor": "white",
            "ticks": ""
           }
          },
          "scene": {
           "xaxis": {
            "backgroundcolor": "#E5ECF6",
            "gridcolor": "white",
            "gridwidth": 2,
            "linecolor": "white",
            "showbackground": true,
            "ticks": "",
            "zerolinecolor": "white"
           },
           "yaxis": {
            "backgroundcolor": "#E5ECF6",
            "gridcolor": "white",
            "gridwidth": 2,
            "linecolor": "white",
            "showbackground": true,
            "ticks": "",
            "zerolinecolor": "white"
           },
           "zaxis": {
            "backgroundcolor": "#E5ECF6",
            "gridcolor": "white",
            "gridwidth": 2,
            "linecolor": "white",
            "showbackground": true,
            "ticks": "",
            "zerolinecolor": "white"
           }
          },
          "shapedefaults": {
           "line": {
            "color": "#2a3f5f"
           }
          },
          "ternary": {
           "aaxis": {
            "gridcolor": "white",
            "linecolor": "white",
            "ticks": ""
           },
           "baxis": {
            "gridcolor": "white",
            "linecolor": "white",
            "ticks": ""
           },
           "bgcolor": "#E5ECF6",
           "caxis": {
            "gridcolor": "white",
            "linecolor": "white",
            "ticks": ""
           }
          },
          "title": {
           "x": 0.05
          },
          "xaxis": {
           "automargin": true,
           "gridcolor": "white",
           "linecolor": "white",
           "ticks": "",
           "title": {
            "standoff": 15
           },
           "zerolinecolor": "white",
           "zerolinewidth": 2
          },
          "yaxis": {
           "automargin": true,
           "gridcolor": "white",
           "linecolor": "white",
           "ticks": "",
           "title": {
            "standoff": 15
           },
           "zerolinecolor": "white",
           "zerolinewidth": 2
          }
         }
        },
        "width": 1800
       }
      }
     },
     "metadata": {},
     "output_type": "display_data"
    },
    {
     "name": "stdout",
     "output_type": "stream",
     "text": [
      "saved to : ../example_stat/seq9f9s/vol-5s-seq9f9s-sankey-10dset.html\n"
     ]
    }
   ],
   "source": [
    "vol_new_links = get_links_for_sankey(G_VOL, vol_nodes_new_dict, val_sqrt=False)\n",
    "\n",
    "fig = go.Figure(go.Sankey(\n",
    "            node = vol_new_nodes,\n",
    "            link = vol_new_links, orientation='h'))\n",
    "\n",
    "fig.update_layout(\n",
    "    autosize=False,\n",
    "    width=1800,\n",
    "    height=800,\n",
    "    margin=dict(\n",
    "        l=10,\n",
    "        r=50,\n",
    "        b=50,\n",
    "        t=250,\n",
    "    ),\n",
    "    font=dict(size=18),\n",
    ")\n",
    "fig.show()\n",
    "\n",
    "saved_image_path = f\"{stat_path}/vol-{(SELECT_STAGE_END+1)}s-{test_name}-sankey-{DATASET_LIMIT}dset.html\"\n",
    "\n",
    "fig.write_html(saved_image_path)\n",
    "print(f\"saved to : {saved_image_path}\")"
   ]
  },
  {
   "cell_type": "code",
   "execution_count": null,
   "metadata": {},
   "outputs": [],
   "source": []
  }
 ],
 "metadata": {
  "kernelspec": {
   "display_name": "base",
   "language": "python",
   "name": "python3"
  },
  "language_info": {
   "codemirror_mode": {
    "name": "ipython",
    "version": 3
   },
   "file_extension": ".py",
   "mimetype": "text/x-python",
   "name": "python",
   "nbconvert_exporter": "python",
   "pygments_lexer": "ipython3",
   "version": "3.10.12"
  },
  "orig_nbformat": 4
 },
 "nbformat": 4,
 "nbformat_minor": 2
}
