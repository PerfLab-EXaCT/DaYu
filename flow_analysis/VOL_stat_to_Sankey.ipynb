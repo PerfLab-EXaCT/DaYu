{
 "cells": [
  {
   "cell_type": "code",
   "execution_count": 1,
   "metadata": {},
   "outputs": [],
   "source": [
    "import plotly.graph_objects as go\n",
    "import networkx as nx\n",
    "\n",
    "\n",
    "\n",
    "test_name = \"seq2t\"\n",
    "\n",
    "stat_path=f\"example_stat/{test_name}\"\n",
    "iamge_path=f\"{stat_path}/images\"\n",
    "\n"
   ]
  },
  {
   "cell_type": "code",
   "execution_count": 2,
   "metadata": {},
   "outputs": [],
   "source": [
    "# My util libs\n",
    "import utils.stat_loader as sload\n",
    "import utils.stat_print as sp\n",
    "import utils.vol_stat2graph as vol2g\n",
    "import utils.vol_graph2sankey as vol2sk"
   ]
  },
  {
   "cell_type": "markdown",
   "metadata": {},
   "source": [
    "# Improve Functions\n",
    "## TODO\n",
    "- (Maybe) Add adjustment of label to full label, file-task label, and no lables\n",
    "- add VFD stats for file node\n",
    "- Maps dataset y-axis with blob number as the position, x-axis with first access time\n",
    "\n",
    "## Maybe\n",
    "- add option to filter dataset nodes networkx graph (to reduce graph size)\n",
    "\n",
    "## DONE\n",
    "- DONE:Add task cutoff option for graphs\n",
    "- Add task start option for graphs\n",
    "    - Be careful about adding the required files??!!\n",
    "- some read_only edges seems wrong direction (maybe `set_task_file_dset_pos`)"
   ]
  },
  {
   "cell_type": "code",
   "execution_count": null,
   "metadata": {},
   "outputs": [],
   "source": [
    "STAGE_START = 0\n",
    "STAGE_END = 10\n",
    "\n",
    "\n",
    "TASK_ORDER_LIST = sload.load_task_order_list(stat_path)\n",
    "STAGE_END = sload.correct_end_stage(TASK_ORDER_LIST, STAGE_END)\n",
    "\n",
    "TASK_ORDER_LIST = sload.current_task_order_list(TASK_ORDER_LIST, STAGE_START, STAGE_END)\n",
    "\n",
    "TASK_LISTS = list(TASK_ORDER_LIST.keys())\n",
    "\n",
    "print(f\"TASK_ORDER_LIST = {TASK_ORDER_LIST}\")\n",
    "TASK_LISTS"
   ]
  },
  {
   "cell_type": "code",
   "execution_count": null,
   "metadata": {},
   "outputs": [],
   "source": [
    "task_file_map = sload.load_task_file_map(stat_path, test_name, TASK_LISTS)\n",
    "\n",
    "\n",
    "for task, stat in task_file_map.items():\n",
    "    print(f\"{task} : {stat}\")\n",
    "\n",
    "\n",
    "vol_files = sload.find_files_with_pattern(stat_path, \"vol\")\n",
    "# vol_files = vol_files[0:1]\n",
    "print(f\"vol_files: {vol_files}\")\n",
    "\n",
    "\n",
    "vol_dict = sload.load_stat_json(vol_files)\n",
    "# sp.print_file_stat(vol_dict)\n",
    "\n",
    "\n",
    "print(\"loading yaml done\")\n"
   ]
  },
  {
   "cell_type": "code",
   "execution_count": null,
   "metadata": {},
   "outputs": [],
   "source": [
    "# Show All VOL Tracker overhead\n",
    "vol_dict = sload.load_stat_json(vol_files)\n",
    "sp.show_all_overhead(\"VOL\",vol_dict)\n",
    "\n",
    "# stops here\n",
    "# exit(0)"
   ]
  },
  {
   "cell_type": "code",
   "execution_count": null,
   "metadata": {},
   "outputs": [],
   "source": [
    "G_VOL = nx.DiGraph()\n",
    "G_VOL = vol2g.add_task_dset_file_edges(G_VOL, vol_dict,TASK_LISTS)\n",
    "\n",
    "# sp.display_all_nodes_attr(G_VOL)\n",
    "# sp.print_edges(G_VOL)\n",
    "# sp.draw_graph(G_VOL, test_name, graph_type=\"vol\", prefix=f'{(STAGE_END+1)}s', save=True)"
   ]
  },
  {
   "cell_type": "code",
   "execution_count": null,
   "metadata": {},
   "outputs": [],
   "source": [
    "G_VOL = vol2g.set_task_position(G_VOL, task_file_map, STAGE_START)\n",
    "# print(task_file_map)\n",
    "G_VOL = vol2g.set_task_file_dset_pos(G_VOL, task_file_map)\n",
    "sp.draw_graph(G_VOL, test_name, stat_path, graph_type=\"vol\", prefix=f'{(STAGE_END+1)}s', save=True)"
   ]
  },
  {
   "cell_type": "markdown",
   "metadata": {},
   "source": [
    "# Add networkx to Sankey diagram\n",
    "\n",
    "## Statistics for Sankey\n",
    "Below are needed edge attributes before generating the sankey diagram:\n",
    "- access_cnt : The total file/dataset access count \n",
    "- access_size : The total read and write access size\n",
    "- operation : The operation type : read, write, read_write\n",
    "- bandwidth : Get the per access size and time, then calculate the bandwidth. Average the bandwidth if multiple accesses. (TODO: currently only recording one access size and time)\n"
   ]
  },
  {
   "cell_type": "code",
   "execution_count": null,
   "metadata": {},
   "outputs": [],
   "source": [
    "vol2sk.prepare_sankey_stat(G_VOL)\n"
   ]
  },
  {
   "cell_type": "code",
   "execution_count": null,
   "metadata": {},
   "outputs": [],
   "source": [
    "vol2sk.time_to_file_x_pos(G_VOL)"
   ]
  },
  {
   "cell_type": "code",
   "execution_count": null,
   "metadata": {},
   "outputs": [],
   "source": [
    "vol_nodes, vol_nodes_dict = vol2sk.get_nodes_for_sankey(G_VOL, label_on=True)\n",
    "\n",
    "# print(vol_nodes)\n",
    "\n",
    "vol_links = vol2sk.get_links_for_sankey(G_VOL, vol_nodes_dict)\n",
    "fig = go.Figure(go.Sankey(\n",
    "            node = vol_nodes,\n",
    "            link = vol_links, orientation='h'))\n",
    "\n"
   ]
  },
  {
   "cell_type": "code",
   "execution_count": null,
   "metadata": {},
   "outputs": [],
   "source": [
    "width = 3200\n",
    "height = 1200\n",
    "\n",
    "fig.update_layout(\n",
    "    autosize=False,\n",
    "    width=width,\n",
    "    height=height,\n",
    "    margin=dict(\n",
    "        l=width/100,\n",
    "        r=width/100,\n",
    "        b=height/10,\n",
    "        t=height/2,\n",
    "        # pad=2\n",
    "    ),\n",
    "    font=dict(size=18),\n",
    ")\n",
    "fig.show()\n",
    "\n",
    "saved_image_path = f\"{stat_path}/vol-{(STAGE_END+1)}s-{test_name}-sankey.html\"\n",
    "\n",
    "fig.write_html(saved_image_path)\n",
    "print(f\"saved to : {saved_image_path}\")"
   ]
  },
  {
   "cell_type": "code",
   "execution_count": null,
   "metadata": {},
   "outputs": [],
   "source": [
    "DATASET_LIMIT = 10\n",
    "\n",
    "for node, node_attr in vol_nodes.items():\n",
    "    print(f\"{node} : {node_attr}\")\n",
    "\n",
    "print()\n",
    "\n",
    "vol_nodes_new_dict = {}\n",
    "dset_count = 0\n",
    "\n",
    "for node, attr in vol_nodes_dict.items():    \n",
    "    vol_nodes_new_dict[node] = attr\n",
    "    # print(f\"{node} : {attr}\")\n",
    "    if attr['type'] == 'dataset':\n",
    "        dset_count+=1\n",
    "    if dset_count >= DATASET_LIMIT:\n",
    "        break\n",
    "\n",
    "print()\n",
    "        \n",
    "for node, attr in vol_nodes_new_dict.items():\n",
    "    print(f\"{node} : {attr}\")\n",
    "\n",
    "# get index of selected nodes\n",
    "wanted_nodes_index = []\n",
    "for idx, node in enumerate(vol_nodes['label']):\n",
    "    if node in vol_nodes_new_dict.keys():\n",
    "        wanted_nodes_index.append(idx)\n",
    "\n",
    "print(f\"wanted_nodes_index: {wanted_nodes_index}\")\n",
    "\n",
    "# select wanted nodes with attributes\n",
    "vol_new_nodes = {}\n",
    "for key, val in vol_nodes.items():\n",
    "    vol_new_nodes[key] = [val[i] for i in wanted_nodes_index]\n",
    "\n",
    "print(f\"New nodes: \")\n",
    "for node, node_attr in vol_new_nodes.items():\n",
    "    print(f\"{node} : {node_attr}\")\n",
    "\n",
    "# # select wanted links with attributes\n",
    "# vol_new_links = {}\n",
    "# for key, val in vol_links.items():\n",
    "#     vol_new_links[key] = [val[i] for i in wanted_nodes_index]\n",
    "\n",
    "# print(f\"New links: \")\n",
    "# for link, attr in vol_new_links.items():\n",
    "#     print(f\"{link} : {attr}\")\n",
    "\n"
   ]
  },
  {
   "cell_type": "code",
   "execution_count": null,
   "metadata": {},
   "outputs": [],
   "source": [
    "vol_new_links = vol2sk.get_links_for_sankey(G_VOL, vol_nodes_new_dict, val_sqrt=False)\n",
    "\n",
    "fig = go.Figure(go.Sankey(\n",
    "            node = vol_new_nodes,\n",
    "            link = vol_new_links, orientation='h'))\n",
    "\n",
    "width = 1000\n",
    "height = 400\n",
    "\n",
    "fig.update_layout(\n",
    "    autosize=False,\n",
    "    width=1000,\n",
    "    height=400,\n",
    "    margin=dict(\n",
    "        l=width/100,\n",
    "        r=width/100,\n",
    "        b=0,\n",
    "        t=height/5,\n",
    "    ),\n",
    "    font=dict(size=18),\n",
    ")\n",
    "fig.show()\n",
    "\n",
    "saved_image_path = f\"{stat_path}/vol-{(STAGE_END+1)}s-{test_name}-sankey-{DATASET_LIMIT}dset.html\"\n",
    "\n",
    "fig.write_html(saved_image_path)\n",
    "print(f\"saved to : {saved_image_path}\")"
   ]
  },
  {
   "cell_type": "code",
   "execution_count": null,
   "metadata": {},
   "outputs": [],
   "source": [
    "\n"
   ]
  },
  {
   "cell_type": "code",
   "execution_count": null,
   "metadata": {},
   "outputs": [],
   "source": []
  }
 ],
 "metadata": {
  "kernelspec": {
   "display_name": "base",
   "language": "python",
   "name": "python3"
  },
  "language_info": {
   "codemirror_mode": {
    "name": "ipython",
    "version": 3
   },
   "file_extension": ".py",
   "mimetype": "text/x-python",
   "name": "python",
   "nbconvert_exporter": "python",
   "pygments_lexer": "ipython3",
   "version": "3.10.12"
  },
  "orig_nbformat": 4
 },
 "nbformat": 4,
 "nbformat_minor": 2
}
